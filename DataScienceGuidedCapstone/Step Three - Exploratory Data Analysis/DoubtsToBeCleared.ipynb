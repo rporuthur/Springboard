{
 "cells": [
  {
   "attachments": {},
   "cell_type": "markdown",
   "metadata": {},
   "source": [
    "### Question 1\n",
    "\n",
    "We have reduced the dimensionality of a Dataset using PCA and picked PC1 and PC2 as our features. We have graphed PC1 to PC2 in a Scatter plot. See the graph below.\n",
    "\n",
    "![PC1_PC2_Scatter.png](images/PC1_PC2_Scatter.png)"
   ]
  },
  {
   "attachments": {},
   "cell_type": "markdown",
   "metadata": {},
   "source": [
    "**a. What general conclusions can you understand from this?**<br>\n",
    "Here are the _loading scores_ for `PC1` and `PC2`.\n",
    "\n",
    "![PCA_LoadingScores.JPG](images/PCA_LoadingScores.JPG)\n",
    "\n",
    "A:\n",
    "    \n",
    "    \n",
    "**b. What does this graph tell you about the relationship between PC1 and PC2?**<br>\n",
    "A: \n",
    "\n",
    "\n",
    "**c. Once we get a graph like this, is there any use in introducing hue and colour to it?**<br>\n",
    "A: \n"
   ]
  },
  {
   "cell_type": "markdown",
   "metadata": {},
   "source": [
    "***"
   ]
  },
  {
   "attachments": {},
   "cell_type": "markdown",
   "metadata": {},
   "source": [
    "### Question 2\n",
    "\n",
    "We are adding more information to the above plot by adding hue and size.\n",
    "\n",
    "- Hue: Ticket Price Quartile\n",
    "- Size: Ticket Price\n",
    "\n",
    "See the graph below.\n",
    "\n",
    "![PC1_PC2_TicketPrice_Quartile_Scatter.png](images/PC1_PC2_TicketPrice_Quartile_Scatter.png)"
   ]
  },
  {
   "cell_type": "markdown",
   "metadata": {},
   "source": [
    "**What are the possibilities we could have encountered here by introducing hue and size?**\n",
    "    \n",
    "    Let's go through it case by case basis.\n",
    "    \n",
    "    1. Suppose we see red coloured dots towards the right side of the graph which are all of size 100. What would that mean?\n",
    "    \n",
    "    \n",
    "    2. Suppose we see red coloured dots towards the right side of the graph which are of different sizes. Is that plausible? I think not, as the quartile is tied to the Ticket Price.\n"
   ]
  },
  {
   "cell_type": "markdown",
   "metadata": {},
   "source": [
    "***"
   ]
  },
  {
   "attachments": {},
   "cell_type": "markdown",
   "metadata": {},
   "source": [
    "### Question 3\n",
    "\n",
    "The graph shows no discernible relationships between PC1 and PC2.\n",
    "\n",
    "Let's do an assumption game.\n",
    "\n",
    "1. Assume PC1 and PC2 has a positive relationship. Then the graph would be as given below. How will we proceed from here?\n",
    "\n",
    "![Positive_ScatterPlot.png](images/Positive_ScatterPlot.png)"
   ]
  },
  {
   "cell_type": "code",
   "execution_count": null,
   "metadata": {},
   "outputs": [],
   "source": []
  }
 ],
 "metadata": {
  "kernelspec": {
   "display_name": "Python 3",
   "language": "python",
   "name": "python3"
  },
  "language_info": {
   "codemirror_mode": {
    "name": "ipython",
    "version": 3
   },
   "file_extension": ".py",
   "mimetype": "text/x-python",
   "name": "python",
   "nbconvert_exporter": "python",
   "pygments_lexer": "ipython3",
   "version": "3.7.6"
  }
 },
 "nbformat": 4,
 "nbformat_minor": 4
}
