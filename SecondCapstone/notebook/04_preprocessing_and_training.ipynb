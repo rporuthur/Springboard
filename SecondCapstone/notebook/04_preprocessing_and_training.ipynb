{
 "cells": [
  {
   "cell_type": "markdown",
   "metadata": {},
   "source": [
    "# 4 Pre-Processing and Training Data<a id='4_Pre-Processing_and_Training_Data'></a>"
   ]
  },
  {
   "cell_type": "markdown",
   "metadata": {},
   "source": [
    "## 4.1 Contents<a id='4.1_Contents'></a>\n",
    "* [4 Pre-Processing and Training Data](#4_Pre-Processing_and_Training_Data)\n",
    "  * [4.1 Contents](#4.1_Contents)\n",
    "  * [4.2 Introduction](#4.2_Introduction)\n",
    "  * [4.3 Imports](#4.3_Imports)\n",
    "  * [4.4 Load Data](#4.4_Load_Data)\n",
    "  * [4.5 Train/Test Split](#4.5_Train/Test_Split)\n",
    "  * [4.6 Initial Not-Even-A-Model](#4.6_Base_Model)\n",
    "  * [4.7 Initial Models](#4.7_Initial_Models)\n",
    "    * [4.7.1 Naive Baye's Classifier](#4.7.1_Naive_Bayes)\n",
    "    * [4.7.2 Transform Data](#4.7.2_Transform_Data)\n",
    "    * [4.7.3 Split the newly transformed Data](#4.7.3_Split_PCA_Data)\n",
    "    * [4.7.4 Decision Tree Classifier](#4.7.4_Decision_Tree)\n",
    "    * [4.7.5 KNN Model](#4.7.5_KNN)\n",
    "    * [4.7.6 Random Forest Model](#4.7.6_Random_Forest)\n",
    "    * [4.7.7 AdaBoost Model](#4.7.7_Adaboost)\n",
    "    * [4.7.8 Logisitic Regression Model](#4.7.8_Logistic_Regression)\n",
    "    * [4.7.9 SVC Model](#4.7.9_SVM)\n",
    "  * [4.8 Summary](#4.8_Summary)"
   ]
  },
  {
   "cell_type": "markdown",
   "metadata": {},
   "source": [
    "## 4.2 Introduction<a id='4.2_Introduction'></a>"
   ]
  },
  {
   "cell_type": "markdown",
   "metadata": {},
   "source": [
    "We are ready to proceed with testing out different classifier models with our prefume feature set.\n",
    "\n",
    "We expect the ML models to predict the gender that would prefer a perfume given the notes in that perfume."
   ]
  },
  {
   "cell_type": "markdown",
   "metadata": {},
   "source": [
    "## 4.3 Imports<a id='4.3_Imports'></a>"
   ]
  },
  {
   "cell_type": "code",
   "execution_count": 67,
   "metadata": {},
   "outputs": [],
   "source": [
    "import pandas as pd\n",
    "import numpy as np\n",
    "import os\n",
    "import pickle\n",
    "import datetime\n",
    "\n",
    "import matplotlib.pyplot as plt\n",
    "import seaborn as sns\n",
    "\n",
    "from sklearn import __version__ as sklearn_version\n",
    "from sklearn.decomposition import PCA\n",
    "from sklearn.preprocessing import scale\n",
    "from sklearn.model_selection import train_test_split, cross_validate, GridSearchCV, learning_curve, cross_val_predict, cross_val_score\n",
    "\n",
    "from sklearn.dummy import DummyClassifier\n",
    "from sklearn.linear_model import LogisticRegression\n",
    "from sklearn.neighbors import KNeighborsClassifier\n",
    "from sklearn.svm import SVC\n",
    "from sklearn.tree import DecisionTreeClassifier\n",
    "from sklearn.ensemble import RandomForestClassifier, AdaBoostClassifier\n",
    "from sklearn.discriminant_analysis import LinearDiscriminantAnalysis\n",
    "from sklearn.naive_bayes import BernoulliNB\n",
    "\n",
    "from sklearn.metrics import classification_report, confusion_matrix, plot_confusion_matrix, accuracy_score\n",
    "from sklearn.pipeline import make_pipeline\n",
    "from sklearn.impute import SimpleImputer\n",
    "\n",
    "from sklearn.feature_selection import SelectKBest, f_regression"
   ]
  },
  {
   "cell_type": "markdown",
   "metadata": {},
   "source": [
    "## 4.4 Load Data<a id='4.4_Load_Data'></a>"
   ]
  },
  {
   "cell_type": "code",
   "execution_count": 2,
   "metadata": {
    "scrolled": true
   },
   "outputs": [
    {
     "data": {
      "text/html": [
       "<div>\n",
       "<style scoped>\n",
       "    .dataframe tbody tr th:only-of-type {\n",
       "        vertical-align: middle;\n",
       "    }\n",
       "\n",
       "    .dataframe tbody tr th {\n",
       "        vertical-align: top;\n",
       "    }\n",
       "\n",
       "    .dataframe thead th {\n",
       "        text-align: right;\n",
       "    }\n",
       "</style>\n",
       "<table border=\"1\" class=\"dataframe\">\n",
       "  <thead>\n",
       "    <tr style=\"text-align: right;\">\n",
       "      <th></th>\n",
       "      <th>0</th>\n",
       "      <th>1</th>\n",
       "      <th>2</th>\n",
       "      <th>3</th>\n",
       "      <th>4</th>\n",
       "    </tr>\n",
       "  </thead>\n",
       "  <tbody>\n",
       "    <tr>\n",
       "      <th>musk</th>\n",
       "      <td>0</td>\n",
       "      <td>1</td>\n",
       "      <td>0</td>\n",
       "      <td>0</td>\n",
       "      <td>0</td>\n",
       "    </tr>\n",
       "    <tr>\n",
       "      <th>sandalwood</th>\n",
       "      <td>1</td>\n",
       "      <td>0</td>\n",
       "      <td>1</td>\n",
       "      <td>0</td>\n",
       "      <td>1</td>\n",
       "    </tr>\n",
       "    <tr>\n",
       "      <th>jasmine</th>\n",
       "      <td>0</td>\n",
       "      <td>0</td>\n",
       "      <td>0</td>\n",
       "      <td>0</td>\n",
       "      <td>0</td>\n",
       "    </tr>\n",
       "    <tr>\n",
       "      <th>amber</th>\n",
       "      <td>1</td>\n",
       "      <td>1</td>\n",
       "      <td>0</td>\n",
       "      <td>0</td>\n",
       "      <td>1</td>\n",
       "    </tr>\n",
       "    <tr>\n",
       "      <th>patchouli</th>\n",
       "      <td>0</td>\n",
       "      <td>0</td>\n",
       "      <td>0</td>\n",
       "      <td>0</td>\n",
       "      <td>0</td>\n",
       "    </tr>\n",
       "    <tr>\n",
       "      <th>...</th>\n",
       "      <td>...</td>\n",
       "      <td>...</td>\n",
       "      <td>...</td>\n",
       "      <td>...</td>\n",
       "      <td>...</td>\n",
       "    </tr>\n",
       "    <tr>\n",
       "      <th>sea_salt</th>\n",
       "      <td>0</td>\n",
       "      <td>0</td>\n",
       "      <td>0</td>\n",
       "      <td>0</td>\n",
       "      <td>0</td>\n",
       "    </tr>\n",
       "    <tr>\n",
       "      <th>rice</th>\n",
       "      <td>0</td>\n",
       "      <td>0</td>\n",
       "      <td>0</td>\n",
       "      <td>0</td>\n",
       "      <td>0</td>\n",
       "    </tr>\n",
       "    <tr>\n",
       "      <th>red_rose</th>\n",
       "      <td>0</td>\n",
       "      <td>0</td>\n",
       "      <td>0</td>\n",
       "      <td>0</td>\n",
       "      <td>0</td>\n",
       "    </tr>\n",
       "    <tr>\n",
       "      <th>other_notes</th>\n",
       "      <td>1</td>\n",
       "      <td>0</td>\n",
       "      <td>0</td>\n",
       "      <td>0</td>\n",
       "      <td>0</td>\n",
       "    </tr>\n",
       "    <tr>\n",
       "      <th>label</th>\n",
       "      <td>1</td>\n",
       "      <td>0</td>\n",
       "      <td>0</td>\n",
       "      <td>0</td>\n",
       "      <td>0</td>\n",
       "    </tr>\n",
       "  </tbody>\n",
       "</table>\n",
       "<p>301 rows × 5 columns</p>\n",
       "</div>"
      ],
      "text/plain": [
       "             0  1  2  3  4\n",
       "musk         0  1  0  0  0\n",
       "sandalwood   1  0  1  0  1\n",
       "jasmine      0  0  0  0  0\n",
       "amber        1  1  0  0  1\n",
       "patchouli    0  0  0  0  0\n",
       "...         .. .. .. .. ..\n",
       "sea_salt     0  0  0  0  0\n",
       "rice         0  0  0  0  0\n",
       "red_rose     0  0  0  0  0\n",
       "other_notes  1  0  0  0  0\n",
       "label        1  0  0  0  0\n",
       "\n",
       "[301 rows x 5 columns]"
      ]
     },
     "execution_count": 2,
     "metadata": {},
     "output_type": "execute_result"
    }
   ],
   "source": [
    "perfume_data = pd.read_csv('../data/processed/perfume_data_step3_features.csv')\n",
    "df = perfume_data.copy()\n",
    "df.head().T"
   ]
  },
  {
   "cell_type": "code",
   "execution_count": 3,
   "metadata": {},
   "outputs": [
    {
     "data": {
      "text/plain": [
       "(47648, 301)"
      ]
     },
     "execution_count": 3,
     "metadata": {},
     "output_type": "execute_result"
    }
   ],
   "source": [
    "df.shape"
   ]
  },
  {
   "cell_type": "markdown",
   "metadata": {},
   "source": [
    "## 4.5 Train/Test Split<a id='4.5_Train/Test_Split'></a>"
   ]
  },
  {
   "cell_type": "markdown",
   "metadata": {},
   "source": [
    "What partition sizes would you have with a 75/25 train/test split?"
   ]
  },
  {
   "cell_type": "code",
   "execution_count": 4,
   "metadata": {},
   "outputs": [
    {
     "data": {
      "text/plain": [
       "(35736.0, 11912.0)"
      ]
     },
     "execution_count": 4,
     "metadata": {},
     "output_type": "execute_result"
    }
   ],
   "source": [
    "len(df) * .75, len(df) * .25"
   ]
  },
  {
   "cell_type": "code",
   "execution_count": 73,
   "metadata": {},
   "outputs": [],
   "source": [
    "X_train, X_test, y_train, y_test = train_test_split(df.drop(columns='label'),\n",
    "                                                    df.label, test_size=0.25, \n",
    "                                                    random_state=47, shuffle=True, stratify=df.label)"
   ]
  },
  {
   "cell_type": "code",
   "execution_count": 6,
   "metadata": {},
   "outputs": [
    {
     "data": {
      "text/plain": [
       "((35736, 300), (11912, 300))"
      ]
     },
     "execution_count": 6,
     "metadata": {},
     "output_type": "execute_result"
    }
   ],
   "source": [
    "X_train.shape, X_test.shape"
   ]
  },
  {
   "cell_type": "code",
   "execution_count": 7,
   "metadata": {},
   "outputs": [
    {
     "data": {
      "text/plain": [
       "((35736,), (11912,))"
      ]
     },
     "execution_count": 7,
     "metadata": {},
     "output_type": "execute_result"
    }
   ],
   "source": [
    "y_train.shape, y_test.shape"
   ]
  },
  {
   "cell_type": "code",
   "execution_count": 8,
   "metadata": {},
   "outputs": [
    {
     "data": {
      "text/plain": [
       "musk           int64\n",
       "sandalwood     int64\n",
       "jasmine        int64\n",
       "amber          int64\n",
       "patchouli      int64\n",
       "               ...  \n",
       "clover         int64\n",
       "sea_salt       int64\n",
       "rice           int64\n",
       "red_rose       int64\n",
       "other_notes    int64\n",
       "Length: 300, dtype: object"
      ]
     },
     "execution_count": 8,
     "metadata": {},
     "output_type": "execute_result"
    }
   ],
   "source": [
    "#Code task 2#\n",
    "#Check the `dtypes` attribute of `X_train` to verify all features are numeric\n",
    "X_train.dtypes"
   ]
  },
  {
   "cell_type": "code",
   "execution_count": 9,
   "metadata": {},
   "outputs": [
    {
     "data": {
      "text/plain": [
       "musk           int64\n",
       "sandalwood     int64\n",
       "jasmine        int64\n",
       "amber          int64\n",
       "patchouli      int64\n",
       "               ...  \n",
       "clover         int64\n",
       "sea_salt       int64\n",
       "rice           int64\n",
       "red_rose       int64\n",
       "other_notes    int64\n",
       "Length: 300, dtype: object"
      ]
     },
     "execution_count": 9,
     "metadata": {},
     "output_type": "execute_result"
    }
   ],
   "source": [
    "#Code task 3#\n",
    "#Repeat this check for the test split in `X_test`\n",
    "X_test.dtypes"
   ]
  },
  {
   "cell_type": "markdown",
   "metadata": {},
   "source": [
    "You have only numeric features in your X now!"
   ]
  },
  {
   "cell_type": "markdown",
   "metadata": {},
   "source": [
    "## 4.6 Initial Not-Even-A-Model<a id='4.6_Base_Model'></a>"
   ]
  },
  {
   "cell_type": "markdown",
   "metadata": {},
   "source": [
    "Attempting a DummyClassifier to determine a baseline accuracy value."
   ]
  },
  {
   "cell_type": "code",
   "execution_count": 10,
   "metadata": {},
   "outputs": [
    {
     "data": {
      "text/plain": [
       "0.7379113498992612"
      ]
     },
     "execution_count": 10,
     "metadata": {},
     "output_type": "execute_result"
    }
   ],
   "source": [
    "# strategies = ['most_frequent', 'stratified', 'uniform', 'constant'] \n",
    "\n",
    "dummy_model = DummyClassifier(strategy='most_frequent', random_state=0)\n",
    "dummy_model.fit(X_train, y_train)\n",
    "dummy_model.score(X_test, y_test)"
   ]
  },
  {
   "cell_type": "markdown",
   "metadata": {},
   "source": [
    "Just predicting the classification as _female_ for all cases gives us a *74% accuracy*."
   ]
  },
  {
   "cell_type": "markdown",
   "metadata": {},
   "source": [
    "## 4.7 Initial Models<a id='4.7_Initial_Models'></a>"
   ]
  },
  {
   "cell_type": "markdown",
   "metadata": {},
   "source": [
    "### 4.7.1 Naive Baye's Classifier<a id='4.7.1_Naive_Bayes'></a>"
   ]
  },
  {
   "cell_type": "markdown",
   "metadata": {},
   "source": [
    "As almost all of the fields are of binary nature, let's attempt Naive Baye's Classifier without scaling the data in anyway."
   ]
  },
  {
   "cell_type": "code",
   "execution_count": 77,
   "metadata": {},
   "outputs": [
    {
     "data": {
      "text/plain": [
       "{'fit_time': array([0.37373114, 0.36118579, 0.36126637, 0.347049  , 0.41317344]),\n",
       " 'score_time': array([0.06510115, 0.06986022, 0.07416368, 0.07325244, 0.0763073 ]),\n",
       " 'test_score': array([0.77098489, 0.77109277, 0.77626976, 0.7787883 , 0.78382538])}"
      ]
     },
     "execution_count": 77,
     "metadata": {},
     "output_type": "execute_result"
    }
   ],
   "source": [
    "naive_model = BernoulliNB(alpha=1)\n",
    "test_scores = cross_validate(naive_model, X_train, y_train, cv=5)\n",
    "test_scores"
   ]
  },
  {
   "cell_type": "markdown",
   "metadata": {},
   "source": [
    "The scores are consistent across the folds, hence we can assume there is no overfitting happening."
   ]
  },
  {
   "cell_type": "code",
   "execution_count": null,
   "metadata": {},
   "outputs": [],
   "source": [
    "# fit the model and get predictions\n",
    "naive_model.fit(X_train, y_train)\n",
    "y_pred = naive_model.predict(X_test)"
   ]
  },
  {
   "cell_type": "code",
   "execution_count": 12,
   "metadata": {},
   "outputs": [
    {
     "data": {
      "image/png": "[encoded data removed]",
      "text/plain": [
       "<Figure size 432x288 with 2 Axes>"
      ]
     },
     "metadata": {
      "needs_background": "light"
     },
     "output_type": "display_data"
    }
   ],
   "source": [
    "plot_confusion_matrix(naive_model, X_test, y_test, display_labels=['Women', 'Men'], cmap='Blues', normalize='true')\n",
    "plt.show();"
   ]
  },
  {
   "cell_type": "markdown",
   "metadata": {},
   "source": [
    "Evaluate the classifcation report."
   ]
  },
  {
   "cell_type": "code",
   "execution_count": 13,
   "metadata": {},
   "outputs": [
    {
     "name": "stdout",
     "output_type": "stream",
     "text": [
      "              precision    recall  f1-score   support\n",
      "\n",
      "           0       0.85      0.85      0.85      8790\n",
      "           1       0.58      0.59      0.58      3122\n",
      "\n",
      "    accuracy                           0.78     11912\n",
      "   macro avg       0.72      0.72      0.72     11912\n",
      "weighted avg       0.78      0.78      0.78     11912\n",
      "\n"
     ]
    }
   ],
   "source": [
    "print(classification_report(y_test, y_pred))"
   ]
  },
  {
   "cell_type": "markdown",
   "metadata": {},
   "source": [
    "This model performs better classifying the female perfumes than the male perfumes."
   ]
  },
  {
   "cell_type": "markdown",
   "metadata": {},
   "source": [
    "For all further models we need to reduce the dimensionality."
   ]
  },
  {
   "cell_type": "markdown",
   "metadata": {},
   "source": [
    "### 4.7.2 Transform Data <a id='4.7.2_Transform_Data'></a>"
   ]
  },
  {
   "cell_type": "code",
   "execution_count": 14,
   "metadata": {},
   "outputs": [
    {
     "data": {
      "text/html": [
       "<div>\n",
       "<style scoped>\n",
       "    .dataframe tbody tr th:only-of-type {\n",
       "        vertical-align: middle;\n",
       "    }\n",
       "\n",
       "    .dataframe tbody tr th {\n",
       "        vertical-align: top;\n",
       "    }\n",
       "\n",
       "    .dataframe thead th {\n",
       "        text-align: right;\n",
       "    }\n",
       "</style>\n",
       "<table border=\"1\" class=\"dataframe\">\n",
       "  <thead>\n",
       "    <tr style=\"text-align: right;\">\n",
       "      <th></th>\n",
       "      <th>musk</th>\n",
       "      <th>sandalwood</th>\n",
       "      <th>jasmine</th>\n",
       "      <th>amber</th>\n",
       "      <th>patchouli</th>\n",
       "      <th>rose</th>\n",
       "      <th>vanilla</th>\n",
       "      <th>cedar</th>\n",
       "      <th>bergamot</th>\n",
       "      <th>vetiver</th>\n",
       "      <th>...</th>\n",
       "      <th>pink_peony</th>\n",
       "      <th>exotic_woods</th>\n",
       "      <th>fennel</th>\n",
       "      <th>white_lily</th>\n",
       "      <th>tomato_leaf</th>\n",
       "      <th>clover</th>\n",
       "      <th>sea_salt</th>\n",
       "      <th>rice</th>\n",
       "      <th>red_rose</th>\n",
       "      <th>other_notes</th>\n",
       "    </tr>\n",
       "  </thead>\n",
       "  <tbody>\n",
       "    <tr>\n",
       "      <th>0</th>\n",
       "      <td>0</td>\n",
       "      <td>1</td>\n",
       "      <td>0</td>\n",
       "      <td>1</td>\n",
       "      <td>0</td>\n",
       "      <td>0</td>\n",
       "      <td>0</td>\n",
       "      <td>0</td>\n",
       "      <td>1</td>\n",
       "      <td>0</td>\n",
       "      <td>...</td>\n",
       "      <td>0</td>\n",
       "      <td>0</td>\n",
       "      <td>0</td>\n",
       "      <td>0</td>\n",
       "      <td>0</td>\n",
       "      <td>0</td>\n",
       "      <td>0</td>\n",
       "      <td>0</td>\n",
       "      <td>0</td>\n",
       "      <td>1</td>\n",
       "    </tr>\n",
       "    <tr>\n",
       "      <th>1</th>\n",
       "      <td>1</td>\n",
       "      <td>0</td>\n",
       "      <td>0</td>\n",
       "      <td>1</td>\n",
       "      <td>0</td>\n",
       "      <td>1</td>\n",
       "      <td>0</td>\n",
       "      <td>0</td>\n",
       "      <td>0</td>\n",
       "      <td>0</td>\n",
       "      <td>...</td>\n",
       "      <td>0</td>\n",
       "      <td>0</td>\n",
       "      <td>0</td>\n",
       "      <td>0</td>\n",
       "      <td>0</td>\n",
       "      <td>0</td>\n",
       "      <td>0</td>\n",
       "      <td>0</td>\n",
       "      <td>0</td>\n",
       "      <td>0</td>\n",
       "    </tr>\n",
       "    <tr>\n",
       "      <th>2</th>\n",
       "      <td>0</td>\n",
       "      <td>1</td>\n",
       "      <td>0</td>\n",
       "      <td>0</td>\n",
       "      <td>0</td>\n",
       "      <td>1</td>\n",
       "      <td>0</td>\n",
       "      <td>0</td>\n",
       "      <td>0</td>\n",
       "      <td>0</td>\n",
       "      <td>...</td>\n",
       "      <td>0</td>\n",
       "      <td>0</td>\n",
       "      <td>0</td>\n",
       "      <td>0</td>\n",
       "      <td>0</td>\n",
       "      <td>0</td>\n",
       "      <td>0</td>\n",
       "      <td>0</td>\n",
       "      <td>0</td>\n",
       "      <td>0</td>\n",
       "    </tr>\n",
       "    <tr>\n",
       "      <th>3</th>\n",
       "      <td>0</td>\n",
       "      <td>0</td>\n",
       "      <td>0</td>\n",
       "      <td>0</td>\n",
       "      <td>0</td>\n",
       "      <td>0</td>\n",
       "      <td>0</td>\n",
       "      <td>0</td>\n",
       "      <td>0</td>\n",
       "      <td>0</td>\n",
       "      <td>...</td>\n",
       "      <td>0</td>\n",
       "      <td>0</td>\n",
       "      <td>0</td>\n",
       "      <td>0</td>\n",
       "      <td>0</td>\n",
       "      <td>0</td>\n",
       "      <td>0</td>\n",
       "      <td>0</td>\n",
       "      <td>0</td>\n",
       "      <td>0</td>\n",
       "    </tr>\n",
       "    <tr>\n",
       "      <th>4</th>\n",
       "      <td>0</td>\n",
       "      <td>1</td>\n",
       "      <td>0</td>\n",
       "      <td>1</td>\n",
       "      <td>0</td>\n",
       "      <td>0</td>\n",
       "      <td>0</td>\n",
       "      <td>0</td>\n",
       "      <td>0</td>\n",
       "      <td>1</td>\n",
       "      <td>...</td>\n",
       "      <td>0</td>\n",
       "      <td>0</td>\n",
       "      <td>0</td>\n",
       "      <td>0</td>\n",
       "      <td>0</td>\n",
       "      <td>0</td>\n",
       "      <td>0</td>\n",
       "      <td>0</td>\n",
       "      <td>0</td>\n",
       "      <td>0</td>\n",
       "    </tr>\n",
       "    <tr>\n",
       "      <th>...</th>\n",
       "      <td>...</td>\n",
       "      <td>...</td>\n",
       "      <td>...</td>\n",
       "      <td>...</td>\n",
       "      <td>...</td>\n",
       "      <td>...</td>\n",
       "      <td>...</td>\n",
       "      <td>...</td>\n",
       "      <td>...</td>\n",
       "      <td>...</td>\n",
       "      <td>...</td>\n",
       "      <td>...</td>\n",
       "      <td>...</td>\n",
       "      <td>...</td>\n",
       "      <td>...</td>\n",
       "      <td>...</td>\n",
       "      <td>...</td>\n",
       "      <td>...</td>\n",
       "      <td>...</td>\n",
       "      <td>...</td>\n",
       "      <td>...</td>\n",
       "    </tr>\n",
       "    <tr>\n",
       "      <th>47643</th>\n",
       "      <td>0</td>\n",
       "      <td>1</td>\n",
       "      <td>0</td>\n",
       "      <td>0</td>\n",
       "      <td>1</td>\n",
       "      <td>0</td>\n",
       "      <td>1</td>\n",
       "      <td>0</td>\n",
       "      <td>0</td>\n",
       "      <td>0</td>\n",
       "      <td>...</td>\n",
       "      <td>0</td>\n",
       "      <td>0</td>\n",
       "      <td>0</td>\n",
       "      <td>0</td>\n",
       "      <td>0</td>\n",
       "      <td>0</td>\n",
       "      <td>0</td>\n",
       "      <td>0</td>\n",
       "      <td>0</td>\n",
       "      <td>0</td>\n",
       "    </tr>\n",
       "    <tr>\n",
       "      <th>47644</th>\n",
       "      <td>1</td>\n",
       "      <td>0</td>\n",
       "      <td>1</td>\n",
       "      <td>1</td>\n",
       "      <td>0</td>\n",
       "      <td>1</td>\n",
       "      <td>0</td>\n",
       "      <td>0</td>\n",
       "      <td>0</td>\n",
       "      <td>0</td>\n",
       "      <td>...</td>\n",
       "      <td>0</td>\n",
       "      <td>0</td>\n",
       "      <td>0</td>\n",
       "      <td>0</td>\n",
       "      <td>0</td>\n",
       "      <td>0</td>\n",
       "      <td>0</td>\n",
       "      <td>0</td>\n",
       "      <td>0</td>\n",
       "      <td>0</td>\n",
       "    </tr>\n",
       "    <tr>\n",
       "      <th>47645</th>\n",
       "      <td>0</td>\n",
       "      <td>1</td>\n",
       "      <td>0</td>\n",
       "      <td>1</td>\n",
       "      <td>0</td>\n",
       "      <td>0</td>\n",
       "      <td>0</td>\n",
       "      <td>0</td>\n",
       "      <td>0</td>\n",
       "      <td>0</td>\n",
       "      <td>...</td>\n",
       "      <td>0</td>\n",
       "      <td>0</td>\n",
       "      <td>0</td>\n",
       "      <td>0</td>\n",
       "      <td>0</td>\n",
       "      <td>0</td>\n",
       "      <td>0</td>\n",
       "      <td>0</td>\n",
       "      <td>0</td>\n",
       "      <td>0</td>\n",
       "    </tr>\n",
       "    <tr>\n",
       "      <th>47646</th>\n",
       "      <td>0</td>\n",
       "      <td>0</td>\n",
       "      <td>1</td>\n",
       "      <td>0</td>\n",
       "      <td>1</td>\n",
       "      <td>0</td>\n",
       "      <td>0</td>\n",
       "      <td>0</td>\n",
       "      <td>0</td>\n",
       "      <td>0</td>\n",
       "      <td>...</td>\n",
       "      <td>0</td>\n",
       "      <td>0</td>\n",
       "      <td>0</td>\n",
       "      <td>0</td>\n",
       "      <td>0</td>\n",
       "      <td>0</td>\n",
       "      <td>0</td>\n",
       "      <td>0</td>\n",
       "      <td>0</td>\n",
       "      <td>0</td>\n",
       "    </tr>\n",
       "    <tr>\n",
       "      <th>47647</th>\n",
       "      <td>1</td>\n",
       "      <td>0</td>\n",
       "      <td>0</td>\n",
       "      <td>0</td>\n",
       "      <td>1</td>\n",
       "      <td>0</td>\n",
       "      <td>0</td>\n",
       "      <td>0</td>\n",
       "      <td>0</td>\n",
       "      <td>0</td>\n",
       "      <td>...</td>\n",
       "      <td>1</td>\n",
       "      <td>0</td>\n",
       "      <td>0</td>\n",
       "      <td>0</td>\n",
       "      <td>0</td>\n",
       "      <td>0</td>\n",
       "      <td>0</td>\n",
       "      <td>0</td>\n",
       "      <td>0</td>\n",
       "      <td>0</td>\n",
       "    </tr>\n",
       "  </tbody>\n",
       "</table>\n",
       "<p>47648 rows × 300 columns</p>\n",
       "</div>"
      ],
      "text/plain": [
       "       musk  sandalwood  jasmine  amber  patchouli  rose  vanilla  cedar  \\\n",
       "0         0           1        0      1          0     0        0      0   \n",
       "1         1           0        0      1          0     1        0      0   \n",
       "2         0           1        0      0          0     1        0      0   \n",
       "3         0           0        0      0          0     0        0      0   \n",
       "4         0           1        0      1          0     0        0      0   \n",
       "...     ...         ...      ...    ...        ...   ...      ...    ...   \n",
       "47643     0           1        0      0          1     0        1      0   \n",
       "47644     1           0        1      1          0     1        0      0   \n",
       "47645     0           1        0      1          0     0        0      0   \n",
       "47646     0           0        1      0          1     0        0      0   \n",
       "47647     1           0        0      0          1     0        0      0   \n",
       "\n",
       "       bergamot  vetiver  ...  pink_peony  exotic_woods  fennel  white_lily  \\\n",
       "0             1        0  ...           0             0       0           0   \n",
       "1             0        0  ...           0             0       0           0   \n",
       "2             0        0  ...           0             0       0           0   \n",
       "3             0        0  ...           0             0       0           0   \n",
       "4             0        1  ...           0             0       0           0   \n",
       "...         ...      ...  ...         ...           ...     ...         ...   \n",
       "47643         0        0  ...           0             0       0           0   \n",
       "47644         0        0  ...           0             0       0           0   \n",
       "47645         0        0  ...           0             0       0           0   \n",
       "47646         0        0  ...           0             0       0           0   \n",
       "47647         0        0  ...           1             0       0           0   \n",
       "\n",
       "       tomato_leaf  clover  sea_salt  rice  red_rose  other_notes  \n",
       "0                0       0         0     0         0            1  \n",
       "1                0       0         0     0         0            0  \n",
       "2                0       0         0     0         0            0  \n",
       "3                0       0         0     0         0            0  \n",
       "4                0       0         0     0         0            0  \n",
       "...            ...     ...       ...   ...       ...          ...  \n",
       "47643            0       0         0     0         0            0  \n",
       "47644            0       0         0     0         0            0  \n",
       "47645            0       0         0     0         0            0  \n",
       "47646            0       0         0     0         0            0  \n",
       "47647            0       0         0     0         0            0  \n",
       "\n",
       "[47648 rows x 300 columns]"
      ]
     },
     "execution_count": 14,
     "metadata": {},
     "output_type": "execute_result"
    }
   ],
   "source": [
    "# Select the columns\n",
    "notes_columns = df.iloc[:,:-1]\n",
    "notes_columns"
   ]
  },
  {
   "cell_type": "code",
   "execution_count": 15,
   "metadata": {},
   "outputs": [
    {
     "name": "stdout",
     "output_type": "stream",
     "text": [
      "PCA(copy=True, iterated_power='auto', n_components=None, random_state=None,\n",
      "    svd_solver='auto', tol=0.0, whiten=False)\n"
     ]
    }
   ],
   "source": [
    "notes_pca = PCA().fit(notes_columns)\n",
    "print(notes_pca)"
   ]
  },
  {
   "cell_type": "code",
   "execution_count": 16,
   "metadata": {},
   "outputs": [
    {
     "name": "stdout",
     "output_type": "stream",
     "text": [
      "PCA(copy=True, iterated_power='auto', n_components=None, random_state=None,\n",
      "    svd_solver='auto', tol=0.0, whiten=False)\n"
     ]
    },
    {
     "data": {
      "text/plain": [
       "array([0.0804832 , 0.1364319 , 0.1710333 , 0.20300796, 0.23074793,\n",
       "       0.25771136, 0.28347223, 0.30750411, 0.32936958, 0.34844006,\n",
       "       0.36475679, 0.37919775, 0.39308492, 0.40604428, 0.41817199,\n",
       "       0.42986704, 0.44137458, 0.45241748, 0.46260852, 0.47275061,\n",
       "       0.48259756, 0.49228096, 0.50131104, 0.50992998, 0.51848851,\n",
       "       0.52665036, 0.5347182 , 0.54256253, 0.55024285, 0.55776002,\n",
       "       0.56494405, 0.5719246 , 0.57875832, 0.58544397, 0.59207964,\n",
       "       0.59851552, 0.60485107, 0.6111127 , 0.61720019, 0.62327688,\n",
       "       0.62904388, 0.63473929, 0.64016574, 0.6455205 , 0.65079018,\n",
       "       0.65600395, 0.66112767, 0.66597454, 0.67077224, 0.67547124,\n",
       "       0.68006592, 0.68456433, 0.68902389, 0.69337596, 0.69763352,\n",
       "       0.7017582 , 0.7058543 , 0.70990561, 0.7139007 , 0.71777448,\n",
       "       0.72163771, 0.72540283, 0.72908402, 0.73274202, 0.73634912,\n",
       "       0.7399242 , 0.74345142, 0.74692256, 0.75032054, 0.75365212,\n",
       "       0.75695075, 0.76019087, 0.76339965, 0.76655392, 0.76967876,\n",
       "       0.77274021, 0.77574354, 0.77869696, 0.7815303 , 0.78433347,\n",
       "       0.78711167, 0.78987124, 0.79257472, 0.79520471, 0.79779386,\n",
       "       0.80035514, 0.80285532, 0.80532156, 0.80776471, 0.81017069,\n",
       "       0.81250818, 0.8148071 , 0.81707128, 0.8193212 , 0.82154372,\n",
       "       0.82368784, 0.82581342, 0.82791334, 0.82999624, 0.83204579])"
      ]
     },
     "execution_count": 16,
     "metadata": {},
     "output_type": "execute_result"
    }
   ],
   "source": [
    "print(notes_pca)\n",
    "notes_pca.explained_variance_ratio_.cumsum()[0:100]"
   ]
  },
  {
   "cell_type": "code",
   "execution_count": 17,
   "metadata": {},
   "outputs": [
    {
     "data": {
      "image/png": "[encoded data removed]",
      "text/plain": [
       "<Figure size 720x432 with 1 Axes>"
      ]
     },
     "metadata": {
      "needs_background": "light"
     },
     "output_type": "display_data"
    }
   ],
   "source": [
    "plt.subplots(figsize=(10, 6))\n",
    "plt.plot(notes_pca.explained_variance_ratio_.cumsum())\n",
    "plt.xlabel('Component #')\n",
    "plt.ylabel('Cumulative ratio variance')\n",
    "plt.title('Cumulative variance ratio explained by PCA components for notes in a perfume');"
   ]
  },
  {
   "cell_type": "code",
   "execution_count": 18,
   "metadata": {},
   "outputs": [],
   "source": [
    "notes_pca_x = notes_pca.transform(notes_columns)"
   ]
  },
  {
   "cell_type": "code",
   "execution_count": 19,
   "metadata": {},
   "outputs": [
    {
     "data": {
      "text/plain": [
       "(47648, 300)"
      ]
     },
     "execution_count": 19,
     "metadata": {},
     "output_type": "execute_result"
    }
   ],
   "source": [
    "notes_pca_x.shape"
   ]
  },
  {
   "cell_type": "code",
   "execution_count": 20,
   "metadata": {},
   "outputs": [],
   "source": [
    "notes_pca_selected_x = pd.DataFrame(notes_pca_x[:,:100])"
   ]
  },
  {
   "cell_type": "code",
   "execution_count": 21,
   "metadata": {},
   "outputs": [
    {
     "data": {
      "text/plain": [
       "(47648, 100)"
      ]
     },
     "execution_count": 21,
     "metadata": {},
     "output_type": "execute_result"
    }
   ],
   "source": [
    "notes_pca_selected_x.shape"
   ]
  },
  {
   "cell_type": "code",
   "execution_count": 22,
   "metadata": {},
   "outputs": [
    {
     "data": {
      "text/html": [
       "<div>\n",
       "<style scoped>\n",
       "    .dataframe tbody tr th:only-of-type {\n",
       "        vertical-align: middle;\n",
       "    }\n",
       "\n",
       "    .dataframe tbody tr th {\n",
       "        vertical-align: top;\n",
       "    }\n",
       "\n",
       "    .dataframe thead th {\n",
       "        text-align: right;\n",
       "    }\n",
       "</style>\n",
       "<table border=\"1\" class=\"dataframe\">\n",
       "  <thead>\n",
       "    <tr style=\"text-align: right;\">\n",
       "      <th></th>\n",
       "      <th>0</th>\n",
       "      <th>1</th>\n",
       "      <th>2</th>\n",
       "      <th>3</th>\n",
       "      <th>4</th>\n",
       "      <th>5</th>\n",
       "      <th>6</th>\n",
       "      <th>7</th>\n",
       "      <th>8</th>\n",
       "      <th>9</th>\n",
       "      <th>...</th>\n",
       "      <th>90</th>\n",
       "      <th>91</th>\n",
       "      <th>92</th>\n",
       "      <th>93</th>\n",
       "      <th>94</th>\n",
       "      <th>95</th>\n",
       "      <th>96</th>\n",
       "      <th>97</th>\n",
       "      <th>98</th>\n",
       "      <th>99</th>\n",
       "    </tr>\n",
       "  </thead>\n",
       "  <tbody>\n",
       "    <tr>\n",
       "      <th>0</th>\n",
       "      <td>0.631846</td>\n",
       "      <td>0.230649</td>\n",
       "      <td>0.378716</td>\n",
       "      <td>0.183810</td>\n",
       "      <td>0.283986</td>\n",
       "      <td>-1.046740</td>\n",
       "      <td>0.015232</td>\n",
       "      <td>-0.239338</td>\n",
       "      <td>-0.124266</td>\n",
       "      <td>0.515686</td>\n",
       "      <td>...</td>\n",
       "      <td>0.295835</td>\n",
       "      <td>0.619911</td>\n",
       "      <td>0.384531</td>\n",
       "      <td>-0.340991</td>\n",
       "      <td>-0.143419</td>\n",
       "      <td>0.265725</td>\n",
       "      <td>-0.225142</td>\n",
       "      <td>-0.122967</td>\n",
       "      <td>0.056356</td>\n",
       "      <td>-0.056099</td>\n",
       "    </tr>\n",
       "    <tr>\n",
       "      <th>1</th>\n",
       "      <td>-0.448009</td>\n",
       "      <td>0.159253</td>\n",
       "      <td>-0.669996</td>\n",
       "      <td>0.441759</td>\n",
       "      <td>-0.621503</td>\n",
       "      <td>-0.333806</td>\n",
       "      <td>-0.005039</td>\n",
       "      <td>-0.430917</td>\n",
       "      <td>0.604678</td>\n",
       "      <td>0.058982</td>\n",
       "      <td>...</td>\n",
       "      <td>0.000512</td>\n",
       "      <td>0.016234</td>\n",
       "      <td>-0.020452</td>\n",
       "      <td>-0.025607</td>\n",
       "      <td>-0.011273</td>\n",
       "      <td>-0.008929</td>\n",
       "      <td>0.011199</td>\n",
       "      <td>-0.002673</td>\n",
       "      <td>0.028135</td>\n",
       "      <td>0.003187</td>\n",
       "    </tr>\n",
       "    <tr>\n",
       "      <th>2</th>\n",
       "      <td>-0.359715</td>\n",
       "      <td>-0.185678</td>\n",
       "      <td>-0.020530</td>\n",
       "      <td>-0.508041</td>\n",
       "      <td>0.531157</td>\n",
       "      <td>-0.367935</td>\n",
       "      <td>-0.197188</td>\n",
       "      <td>-0.737653</td>\n",
       "      <td>0.617330</td>\n",
       "      <td>-0.124639</td>\n",
       "      <td>...</td>\n",
       "      <td>0.006343</td>\n",
       "      <td>-0.008513</td>\n",
       "      <td>-0.006638</td>\n",
       "      <td>-0.012161</td>\n",
       "      <td>-0.011404</td>\n",
       "      <td>-0.002972</td>\n",
       "      <td>-0.014108</td>\n",
       "      <td>-0.025500</td>\n",
       "      <td>-0.012625</td>\n",
       "      <td>0.003053</td>\n",
       "    </tr>\n",
       "    <tr>\n",
       "      <th>3</th>\n",
       "      <td>-0.201730</td>\n",
       "      <td>-0.913128</td>\n",
       "      <td>-0.156368</td>\n",
       "      <td>-0.119412</td>\n",
       "      <td>-0.000304</td>\n",
       "      <td>-0.063671</td>\n",
       "      <td>-0.081120</td>\n",
       "      <td>-0.021250</td>\n",
       "      <td>-0.026750</td>\n",
       "      <td>-0.025915</td>\n",
       "      <td>...</td>\n",
       "      <td>0.014570</td>\n",
       "      <td>-0.080306</td>\n",
       "      <td>-0.041616</td>\n",
       "      <td>-0.059304</td>\n",
       "      <td>0.105484</td>\n",
       "      <td>-0.031203</td>\n",
       "      <td>-0.354262</td>\n",
       "      <td>0.465205</td>\n",
       "      <td>-0.202378</td>\n",
       "      <td>0.440226</td>\n",
       "    </tr>\n",
       "    <tr>\n",
       "      <th>4</th>\n",
       "      <td>-0.331265</td>\n",
       "      <td>-0.155809</td>\n",
       "      <td>0.360045</td>\n",
       "      <td>0.299362</td>\n",
       "      <td>0.321227</td>\n",
       "      <td>-1.032689</td>\n",
       "      <td>-0.020523</td>\n",
       "      <td>-0.257040</td>\n",
       "      <td>-0.108132</td>\n",
       "      <td>0.035656</td>\n",
       "      <td>...</td>\n",
       "      <td>-0.023979</td>\n",
       "      <td>-0.000439</td>\n",
       "      <td>-0.021622</td>\n",
       "      <td>0.014794</td>\n",
       "      <td>-0.002707</td>\n",
       "      <td>-0.009756</td>\n",
       "      <td>0.016130</td>\n",
       "      <td>-0.002822</td>\n",
       "      <td>0.000297</td>\n",
       "      <td>-0.008791</td>\n",
       "    </tr>\n",
       "  </tbody>\n",
       "</table>\n",
       "<p>5 rows × 100 columns</p>\n",
       "</div>"
      ],
      "text/plain": [
       "         0         1         2         3         4         5         6   \\\n",
       "0  0.631846  0.230649  0.378716  0.183810  0.283986 -1.046740  0.015232   \n",
       "1 -0.448009  0.159253 -0.669996  0.441759 -0.621503 -0.333806 -0.005039   \n",
       "2 -0.359715 -0.185678 -0.020530 -0.508041  0.531157 -0.367935 -0.197188   \n",
       "3 -0.201730 -0.913128 -0.156368 -0.119412 -0.000304 -0.063671 -0.081120   \n",
       "4 -0.331265 -0.155809  0.360045  0.299362  0.321227 -1.032689 -0.020523   \n",
       "\n",
       "         7         8         9   ...        90        91        92        93  \\\n",
       "0 -0.239338 -0.124266  0.515686  ...  0.295835  0.619911  0.384531 -0.340991   \n",
       "1 -0.430917  0.604678  0.058982  ...  0.000512  0.016234 -0.020452 -0.025607   \n",
       "2 -0.737653  0.617330 -0.124639  ...  0.006343 -0.008513 -0.006638 -0.012161   \n",
       "3 -0.021250 -0.026750 -0.025915  ...  0.014570 -0.080306 -0.041616 -0.059304   \n",
       "4 -0.257040 -0.108132  0.035656  ... -0.023979 -0.000439 -0.021622  0.014794   \n",
       "\n",
       "         94        95        96        97        98        99  \n",
       "0 -0.143419  0.265725 -0.225142 -0.122967  0.056356 -0.056099  \n",
       "1 -0.011273 -0.008929  0.011199 -0.002673  0.028135  0.003187  \n",
       "2 -0.011404 -0.002972 -0.014108 -0.025500 -0.012625  0.003053  \n",
       "3  0.105484 -0.031203 -0.354262  0.465205 -0.202378  0.440226  \n",
       "4 -0.002707 -0.009756  0.016130 -0.002822  0.000297 -0.008791  \n",
       "\n",
       "[5 rows x 100 columns]"
      ]
     },
     "execution_count": 22,
     "metadata": {},
     "output_type": "execute_result"
    }
   ],
   "source": [
    "notes_pca_selected_x.head()"
   ]
  },
  {
   "cell_type": "markdown",
   "metadata": {},
   "source": [
    "Let's pick up only the top 100 PCA columns."
   ]
  },
  {
   "cell_type": "markdown",
   "metadata": {},
   "source": [
    "Which features play the most important role?"
   ]
  },
  {
   "cell_type": "code",
   "execution_count": 23,
   "metadata": {},
   "outputs": [
    {
     "data": {
      "text/html": [
       "<div>\n",
       "<style scoped>\n",
       "    .dataframe tbody tr th:only-of-type {\n",
       "        vertical-align: middle;\n",
       "    }\n",
       "\n",
       "    .dataframe tbody tr th {\n",
       "        vertical-align: top;\n",
       "    }\n",
       "\n",
       "    .dataframe thead th {\n",
       "        text-align: right;\n",
       "    }\n",
       "</style>\n",
       "<table border=\"1\" class=\"dataframe\">\n",
       "  <thead>\n",
       "    <tr style=\"text-align: right;\">\n",
       "      <th></th>\n",
       "      <th>0</th>\n",
       "      <th>1</th>\n",
       "      <th>2</th>\n",
       "      <th>3</th>\n",
       "      <th>4</th>\n",
       "      <th>5</th>\n",
       "      <th>6</th>\n",
       "      <th>7</th>\n",
       "      <th>8</th>\n",
       "      <th>9</th>\n",
       "      <th>...</th>\n",
       "      <th>290</th>\n",
       "      <th>291</th>\n",
       "      <th>292</th>\n",
       "      <th>293</th>\n",
       "      <th>294</th>\n",
       "      <th>295</th>\n",
       "      <th>296</th>\n",
       "      <th>297</th>\n",
       "      <th>298</th>\n",
       "      <th>299</th>\n",
       "    </tr>\n",
       "  </thead>\n",
       "  <tbody>\n",
       "    <tr>\n",
       "      <th>musk</th>\n",
       "      <td>-0.094052</td>\n",
       "      <td>0.443414</td>\n",
       "      <td>-0.593046</td>\n",
       "      <td>0.483178</td>\n",
       "      <td>0.055082</td>\n",
       "      <td>0.357836</td>\n",
       "      <td>0.148941</td>\n",
       "      <td>-0.080370</td>\n",
       "      <td>-0.085290</td>\n",
       "      <td>0.017582</td>\n",
       "      <td>...</td>\n",
       "      <td>-0.000782</td>\n",
       "      <td>0.000103</td>\n",
       "      <td>-0.000448</td>\n",
       "      <td>0.000700</td>\n",
       "      <td>0.000148</td>\n",
       "      <td>0.000164</td>\n",
       "      <td>-0.000373</td>\n",
       "      <td>0.000561</td>\n",
       "      <td>0.000318</td>\n",
       "      <td>-0.000965</td>\n",
       "    </tr>\n",
       "    <tr>\n",
       "      <th>sandalwood</th>\n",
       "      <td>-0.062925</td>\n",
       "      <td>0.378746</td>\n",
       "      <td>0.126419</td>\n",
       "      <td>-0.113320</td>\n",
       "      <td>0.736658</td>\n",
       "      <td>-0.365606</td>\n",
       "      <td>0.061511</td>\n",
       "      <td>-0.308910</td>\n",
       "      <td>-0.112953</td>\n",
       "      <td>-0.114556</td>\n",
       "      <td>...</td>\n",
       "      <td>-0.000557</td>\n",
       "      <td>0.000885</td>\n",
       "      <td>-0.000904</td>\n",
       "      <td>0.000417</td>\n",
       "      <td>-0.000228</td>\n",
       "      <td>0.000253</td>\n",
       "      <td>-0.000379</td>\n",
       "      <td>-0.001101</td>\n",
       "      <td>0.000021</td>\n",
       "      <td>0.000717</td>\n",
       "    </tr>\n",
       "    <tr>\n",
       "      <th>jasmine</th>\n",
       "      <td>-0.106330</td>\n",
       "      <td>0.430112</td>\n",
       "      <td>-0.050456</td>\n",
       "      <td>-0.421082</td>\n",
       "      <td>-0.198914</td>\n",
       "      <td>0.037416</td>\n",
       "      <td>-0.342868</td>\n",
       "      <td>0.369522</td>\n",
       "      <td>-0.431375</td>\n",
       "      <td>-0.210785</td>\n",
       "      <td>...</td>\n",
       "      <td>0.001233</td>\n",
       "      <td>-0.000303</td>\n",
       "      <td>0.000128</td>\n",
       "      <td>0.001150</td>\n",
       "      <td>0.000358</td>\n",
       "      <td>-0.000968</td>\n",
       "      <td>0.000305</td>\n",
       "      <td>-0.001368</td>\n",
       "      <td>0.000837</td>\n",
       "      <td>-0.000585</td>\n",
       "    </tr>\n",
       "    <tr>\n",
       "      <th>amber</th>\n",
       "      <td>-0.061760</td>\n",
       "      <td>0.298833</td>\n",
       "      <td>0.102919</td>\n",
       "      <td>0.374825</td>\n",
       "      <td>-0.482427</td>\n",
       "      <td>-0.701983</td>\n",
       "      <td>0.131926</td>\n",
       "      <td>0.015483</td>\n",
       "      <td>0.005760</td>\n",
       "      <td>-0.018822</td>\n",
       "      <td>...</td>\n",
       "      <td>-0.000296</td>\n",
       "      <td>0.000746</td>\n",
       "      <td>0.000482</td>\n",
       "      <td>-0.000128</td>\n",
       "      <td>-0.000699</td>\n",
       "      <td>0.001132</td>\n",
       "      <td>0.000075</td>\n",
       "      <td>-0.000046</td>\n",
       "      <td>0.000066</td>\n",
       "      <td>0.000083</td>\n",
       "    </tr>\n",
       "    <tr>\n",
       "      <th>patchouli</th>\n",
       "      <td>-0.033467</td>\n",
       "      <td>0.193300</td>\n",
       "      <td>0.553954</td>\n",
       "      <td>0.144054</td>\n",
       "      <td>-0.239173</td>\n",
       "      <td>0.417637</td>\n",
       "      <td>0.013443</td>\n",
       "      <td>-0.439422</td>\n",
       "      <td>-0.229666</td>\n",
       "      <td>-0.266696</td>\n",
       "      <td>...</td>\n",
       "      <td>-0.000627</td>\n",
       "      <td>0.001051</td>\n",
       "      <td>0.000830</td>\n",
       "      <td>-0.000206</td>\n",
       "      <td>-0.000406</td>\n",
       "      <td>-0.000795</td>\n",
       "      <td>0.000813</td>\n",
       "      <td>-0.000685</td>\n",
       "      <td>-0.000054</td>\n",
       "      <td>-0.000670</td>\n",
       "    </tr>\n",
       "    <tr>\n",
       "      <th>...</th>\n",
       "      <td>...</td>\n",
       "      <td>...</td>\n",
       "      <td>...</td>\n",
       "      <td>...</td>\n",
       "      <td>...</td>\n",
       "      <td>...</td>\n",
       "      <td>...</td>\n",
       "      <td>...</td>\n",
       "      <td>...</td>\n",
       "      <td>...</td>\n",
       "      <td>...</td>\n",
       "      <td>...</td>\n",
       "      <td>...</td>\n",
       "      <td>...</td>\n",
       "      <td>...</td>\n",
       "      <td>...</td>\n",
       "      <td>...</td>\n",
       "      <td>...</td>\n",
       "      <td>...</td>\n",
       "      <td>...</td>\n",
       "      <td>...</td>\n",
       "    </tr>\n",
       "    <tr>\n",
       "      <th>clover</th>\n",
       "      <td>0.001410</td>\n",
       "      <td>-0.000215</td>\n",
       "      <td>-0.000162</td>\n",
       "      <td>0.000031</td>\n",
       "      <td>0.000073</td>\n",
       "      <td>-0.001103</td>\n",
       "      <td>-0.001031</td>\n",
       "      <td>0.000055</td>\n",
       "      <td>-0.000841</td>\n",
       "      <td>0.001870</td>\n",
       "      <td>...</td>\n",
       "      <td>-0.198423</td>\n",
       "      <td>-0.132273</td>\n",
       "      <td>0.277932</td>\n",
       "      <td>0.317191</td>\n",
       "      <td>0.687755</td>\n",
       "      <td>-0.268271</td>\n",
       "      <td>-0.225081</td>\n",
       "      <td>0.061089</td>\n",
       "      <td>0.209799</td>\n",
       "      <td>0.069522</td>\n",
       "    </tr>\n",
       "    <tr>\n",
       "      <th>sea_salt</th>\n",
       "      <td>0.001702</td>\n",
       "      <td>-0.000899</td>\n",
       "      <td>-0.001141</td>\n",
       "      <td>0.001202</td>\n",
       "      <td>0.000475</td>\n",
       "      <td>0.000409</td>\n",
       "      <td>-0.000659</td>\n",
       "      <td>0.000928</td>\n",
       "      <td>-0.000654</td>\n",
       "      <td>0.000832</td>\n",
       "      <td>...</td>\n",
       "      <td>-0.217718</td>\n",
       "      <td>-0.217026</td>\n",
       "      <td>0.298952</td>\n",
       "      <td>-0.210962</td>\n",
       "      <td>-0.151443</td>\n",
       "      <td>-0.060192</td>\n",
       "      <td>0.344979</td>\n",
       "      <td>-0.231764</td>\n",
       "      <td>0.424217</td>\n",
       "      <td>0.533000</td>\n",
       "    </tr>\n",
       "    <tr>\n",
       "      <th>rice</th>\n",
       "      <td>-0.000113</td>\n",
       "      <td>-0.000945</td>\n",
       "      <td>-0.001267</td>\n",
       "      <td>-0.001205</td>\n",
       "      <td>0.000421</td>\n",
       "      <td>-0.000517</td>\n",
       "      <td>-0.000434</td>\n",
       "      <td>-0.000947</td>\n",
       "      <td>0.000825</td>\n",
       "      <td>0.000517</td>\n",
       "      <td>...</td>\n",
       "      <td>-0.051172</td>\n",
       "      <td>0.193250</td>\n",
       "      <td>0.523393</td>\n",
       "      <td>0.434226</td>\n",
       "      <td>-0.010128</td>\n",
       "      <td>0.436170</td>\n",
       "      <td>0.359938</td>\n",
       "      <td>-0.199284</td>\n",
       "      <td>-0.181873</td>\n",
       "      <td>-0.230823</td>\n",
       "    </tr>\n",
       "    <tr>\n",
       "      <th>red_rose</th>\n",
       "      <td>0.001162</td>\n",
       "      <td>0.000547</td>\n",
       "      <td>-0.000033</td>\n",
       "      <td>-0.000601</td>\n",
       "      <td>0.000187</td>\n",
       "      <td>-0.000852</td>\n",
       "      <td>0.001648</td>\n",
       "      <td>-0.000740</td>\n",
       "      <td>-0.001874</td>\n",
       "      <td>-0.000561</td>\n",
       "      <td>...</td>\n",
       "      <td>0.436571</td>\n",
       "      <td>-0.238247</td>\n",
       "      <td>0.142004</td>\n",
       "      <td>0.142859</td>\n",
       "      <td>-0.110549</td>\n",
       "      <td>-0.054530</td>\n",
       "      <td>0.317609</td>\n",
       "      <td>0.555932</td>\n",
       "      <td>0.354945</td>\n",
       "      <td>-0.178062</td>\n",
       "    </tr>\n",
       "    <tr>\n",
       "      <th>other_notes</th>\n",
       "      <td>0.974837</td>\n",
       "      <td>0.211623</td>\n",
       "      <td>-0.017821</td>\n",
       "      <td>-0.017014</td>\n",
       "      <td>-0.020027</td>\n",
       "      <td>0.005461</td>\n",
       "      <td>-0.004011</td>\n",
       "      <td>0.006438</td>\n",
       "      <td>0.015279</td>\n",
       "      <td>-0.001001</td>\n",
       "      <td>...</td>\n",
       "      <td>-0.000623</td>\n",
       "      <td>0.000488</td>\n",
       "      <td>-0.000824</td>\n",
       "      <td>0.000676</td>\n",
       "      <td>-0.000953</td>\n",
       "      <td>0.000779</td>\n",
       "      <td>-0.000988</td>\n",
       "      <td>-0.000291</td>\n",
       "      <td>-0.000105</td>\n",
       "      <td>-0.001273</td>\n",
       "    </tr>\n",
       "  </tbody>\n",
       "</table>\n",
       "<p>300 rows × 300 columns</p>\n",
       "</div>"
      ],
      "text/plain": [
       "                  0         1         2         3         4         5    \\\n",
       "musk        -0.094052  0.443414 -0.593046  0.483178  0.055082  0.357836   \n",
       "sandalwood  -0.062925  0.378746  0.126419 -0.113320  0.736658 -0.365606   \n",
       "jasmine     -0.106330  0.430112 -0.050456 -0.421082 -0.198914  0.037416   \n",
       "amber       -0.061760  0.298833  0.102919  0.374825 -0.482427 -0.701983   \n",
       "patchouli   -0.033467  0.193300  0.553954  0.144054 -0.239173  0.417637   \n",
       "...               ...       ...       ...       ...       ...       ...   \n",
       "clover       0.001410 -0.000215 -0.000162  0.000031  0.000073 -0.001103   \n",
       "sea_salt     0.001702 -0.000899 -0.001141  0.001202  0.000475  0.000409   \n",
       "rice        -0.000113 -0.000945 -0.001267 -0.001205  0.000421 -0.000517   \n",
       "red_rose     0.001162  0.000547 -0.000033 -0.000601  0.000187 -0.000852   \n",
       "other_notes  0.974837  0.211623 -0.017821 -0.017014 -0.020027  0.005461   \n",
       "\n",
       "                  6         7         8         9    ...       290       291  \\\n",
       "musk         0.148941 -0.080370 -0.085290  0.017582  ... -0.000782  0.000103   \n",
       "sandalwood   0.061511 -0.308910 -0.112953 -0.114556  ... -0.000557  0.000885   \n",
       "jasmine     -0.342868  0.369522 -0.431375 -0.210785  ...  0.001233 -0.000303   \n",
       "amber        0.131926  0.015483  0.005760 -0.018822  ... -0.000296  0.000746   \n",
       "patchouli    0.013443 -0.439422 -0.229666 -0.266696  ... -0.000627  0.001051   \n",
       "...               ...       ...       ...       ...  ...       ...       ...   \n",
       "clover      -0.001031  0.000055 -0.000841  0.001870  ... -0.198423 -0.132273   \n",
       "sea_salt    -0.000659  0.000928 -0.000654  0.000832  ... -0.217718 -0.217026   \n",
       "rice        -0.000434 -0.000947  0.000825  0.000517  ... -0.051172  0.193250   \n",
       "red_rose     0.001648 -0.000740 -0.001874 -0.000561  ...  0.436571 -0.238247   \n",
       "other_notes -0.004011  0.006438  0.015279 -0.001001  ... -0.000623  0.000488   \n",
       "\n",
       "                  292       293       294       295       296       297  \\\n",
       "musk        -0.000448  0.000700  0.000148  0.000164 -0.000373  0.000561   \n",
       "sandalwood  -0.000904  0.000417 -0.000228  0.000253 -0.000379 -0.001101   \n",
       "jasmine      0.000128  0.001150  0.000358 -0.000968  0.000305 -0.001368   \n",
       "amber        0.000482 -0.000128 -0.000699  0.001132  0.000075 -0.000046   \n",
       "patchouli    0.000830 -0.000206 -0.000406 -0.000795  0.000813 -0.000685   \n",
       "...               ...       ...       ...       ...       ...       ...   \n",
       "clover       0.277932  0.317191  0.687755 -0.268271 -0.225081  0.061089   \n",
       "sea_salt     0.298952 -0.210962 -0.151443 -0.060192  0.344979 -0.231764   \n",
       "rice         0.523393  0.434226 -0.010128  0.436170  0.359938 -0.199284   \n",
       "red_rose     0.142004  0.142859 -0.110549 -0.054530  0.317609  0.555932   \n",
       "other_notes -0.000824  0.000676 -0.000953  0.000779 -0.000988 -0.000291   \n",
       "\n",
       "                  298       299  \n",
       "musk         0.000318 -0.000965  \n",
       "sandalwood   0.000021  0.000717  \n",
       "jasmine      0.000837 -0.000585  \n",
       "amber        0.000066  0.000083  \n",
       "patchouli   -0.000054 -0.000670  \n",
       "...               ...       ...  \n",
       "clover       0.209799  0.069522  \n",
       "sea_salt     0.424217  0.533000  \n",
       "rice        -0.181873 -0.230823  \n",
       "red_rose     0.354945 -0.178062  \n",
       "other_notes -0.000105 -0.001273  \n",
       "\n",
       "[300 rows x 300 columns]"
      ]
     },
     "execution_count": 23,
     "metadata": {},
     "output_type": "execute_result"
    }
   ],
   "source": [
    "loadings = pd.DataFrame(notes_pca.components_.T, index=df.columns[0:-1])\n",
    "loadings"
   ]
  },
  {
   "cell_type": "markdown",
   "metadata": {},
   "source": [
    "We cannot find a specific field. All of them contribute one way or the other in this."
   ]
  },
  {
   "cell_type": "markdown",
   "metadata": {},
   "source": [
    "### 4.7.3 Split the newly transformed Data <a id='4.7.3_Split_PCA_Data'></a>"
   ]
  },
  {
   "cell_type": "code",
   "execution_count": 24,
   "metadata": {},
   "outputs": [],
   "source": [
    "X_train, X_test, y_train, y_test = train_test_split(notes_pca_selected_x,\n",
    "                                                    df.label, test_size=0.25, \n",
    "                                                    random_state=47)"
   ]
  },
  {
   "cell_type": "code",
   "execution_count": 25,
   "metadata": {},
   "outputs": [
    {
     "data": {
      "text/plain": [
       "((35736, 100), (11912, 100))"
      ]
     },
     "execution_count": 25,
     "metadata": {},
     "output_type": "execute_result"
    }
   ],
   "source": [
    "X_train.shape, X_test.shape"
   ]
  },
  {
   "cell_type": "code",
   "execution_count": 26,
   "metadata": {},
   "outputs": [
    {
     "data": {
      "text/plain": [
       "((35736,), (11912,))"
      ]
     },
     "execution_count": 26,
     "metadata": {},
     "output_type": "execute_result"
    }
   ],
   "source": [
    "y_train.shape, y_test.shape"
   ]
  },
  {
   "cell_type": "code",
   "execution_count": 27,
   "metadata": {},
   "outputs": [
    {
     "data": {
      "text/plain": [
       "0     float64\n",
       "1     float64\n",
       "2     float64\n",
       "3     float64\n",
       "4     float64\n",
       "       ...   \n",
       "95    float64\n",
       "96    float64\n",
       "97    float64\n",
       "98    float64\n",
       "99    float64\n",
       "Length: 100, dtype: object"
      ]
     },
     "execution_count": 27,
     "metadata": {},
     "output_type": "execute_result"
    }
   ],
   "source": [
    "#Code task 2#\n",
    "#Check the `dtypes` attribute of `X_train` to verify all features are numeric\n",
    "X_train.dtypes"
   ]
  },
  {
   "cell_type": "code",
   "execution_count": 28,
   "metadata": {},
   "outputs": [
    {
     "data": {
      "text/plain": [
       "0     float64\n",
       "1     float64\n",
       "2     float64\n",
       "3     float64\n",
       "4     float64\n",
       "       ...   \n",
       "95    float64\n",
       "96    float64\n",
       "97    float64\n",
       "98    float64\n",
       "99    float64\n",
       "Length: 100, dtype: object"
      ]
     },
     "execution_count": 28,
     "metadata": {},
     "output_type": "execute_result"
    }
   ],
   "source": [
    "#Code task 3#\n",
    "#Repeat this check for the test split in `X_test`\n",
    "X_test.dtypes"
   ]
  },
  {
   "cell_type": "markdown",
   "metadata": {},
   "source": [
    "You have only numeric features in your X now!"
   ]
  },
  {
   "cell_type": "markdown",
   "metadata": {},
   "source": [
    "### 4.7.4 Decision Tree Classifier <a id='4.7.4_Decision_Tree'></a>"
   ]
  },
  {
   "cell_type": "markdown",
   "metadata": {},
   "source": [
    "Let's start our classification with the good old `DecisionTreeClassifier`."
   ]
  },
  {
   "cell_type": "code",
   "execution_count": 29,
   "metadata": {},
   "outputs": [],
   "source": [
    "# commenting this out as it takes too long to run. We have run this and got 6 as the best_param\n",
    "\n",
    "# param_grid = {'max_depth': np.arange(1, 15)}\n",
    "\n",
    "# dtree_model = DecisionTreeClassifier()\n",
    "# dtree_cv = GridSearchCV(dtree_model, param_grid, cv=5)\n",
    "# dtree_cv.fit(X_train, y_train)\n",
    "# dtree_cv.best_params_"
   ]
  },
  {
   "cell_type": "code",
   "execution_count": 30,
   "metadata": {},
   "outputs": [
    {
     "data": {
      "text/plain": [
       "{'fit_time': array([4.6992197 , 4.63850212, 4.45558167, 4.5722487 , 4.55760121,\n",
       "        4.40490389, 4.44587541, 4.50452495, 4.51471329, 4.47055721]),\n",
       " 'score_time': array([0.04322767, 0.00099778, 0.01470995, 0.00623083, 0.01600003,\n",
       "        0.00713778, 0.00804663, 0.01562953, 0.        , 0.        ]),\n",
       " 'test_score': array([0.75433688, 0.75713486, 0.75153889, 0.74650252, 0.75993285,\n",
       "        0.75769446, 0.7654632 , 0.75790652, 0.75034985, 0.76154492])}"
      ]
     },
     "execution_count": 30,
     "metadata": {},
     "output_type": "execute_result"
    }
   ],
   "source": [
    "best_dtree_model = DecisionTreeClassifier(max_depth=6, random_state=0)\n",
    "test_scores = cross_validate(best_dtree_model, X_train, y_train, cv=10)\n",
    "test_scores"
   ]
  },
  {
   "cell_type": "code",
   "execution_count": 31,
   "metadata": {},
   "outputs": [
    {
     "data": {
      "text/plain": [
       "0.758226997985225"
      ]
     },
     "execution_count": 31,
     "metadata": {},
     "output_type": "execute_result"
    }
   ],
   "source": [
    "best_dtree_model.fit(X_train, y_train)\n",
    "dt_y_pred = best_dtree_model.predict(X_test)\n",
    "best_dtree_model.score(X_test, y_test)"
   ]
  },
  {
   "cell_type": "code",
   "execution_count": 32,
   "metadata": {},
   "outputs": [
    {
     "data": {
      "image/png": "[encoded data removed]",
      "text/plain": [
       "<Figure size 432x288 with 2 Axes>"
      ]
     },
     "metadata": {
      "needs_background": "light"
     },
     "output_type": "display_data"
    }
   ],
   "source": [
    "plot_confusion_matrix(best_dtree_model, X_test, y_test, display_labels=['Women', 'Men'], cmap='Blues', normalize='true')\n",
    "plt.show();"
   ]
  },
  {
   "cell_type": "markdown",
   "metadata": {},
   "source": [
    "Evaluate the classifcation report."
   ]
  },
  {
   "cell_type": "code",
   "execution_count": 33,
   "metadata": {},
   "outputs": [
    {
     "name": "stdout",
     "output_type": "stream",
     "text": [
      "              precision    recall  f1-score   support\n",
      "\n",
      "           0       0.79      0.92      0.85      8790\n",
      "           1       0.57      0.31      0.40      3122\n",
      "\n",
      "    accuracy                           0.76     11912\n",
      "   macro avg       0.68      0.61      0.62     11912\n",
      "weighted avg       0.73      0.76      0.73     11912\n",
      "\n"
     ]
    }
   ],
   "source": [
    "print(classification_report(y_test, dt_y_pred))"
   ]
  },
  {
   "cell_type": "markdown",
   "metadata": {},
   "source": [
    "This model has higher recall than the previous model in identifying the _female_ class. But the scores for the _male_ class has deteriorated."
   ]
  },
  {
   "cell_type": "code",
   "execution_count": 34,
   "metadata": {},
   "outputs": [
    {
     "data": {
      "text/plain": [
       "{'fit_time': array([4.58860469, 4.48801708, 4.43671679, 4.39803004, 4.35372281,\n",
       "        4.39228082, 4.40984392, 4.46021152, 4.4620111 , 4.4252696 ]),\n",
       " 'score_time': array([0.01647663, 0.00814676, 0.00624156, 0.01574349, 0.00103307,\n",
       "        0.00805378, 0.00599623, 0.        , 0.00919247, 0.        ]),\n",
       " 'test_score': array([0.75433688, 0.75713486, 0.75153889, 0.74650252, 0.75993285,\n",
       "        0.75769446, 0.7654632 , 0.75790652, 0.75034985, 0.76154492])}"
      ]
     },
     "execution_count": 34,
     "metadata": {},
     "output_type": "execute_result"
    }
   ],
   "source": [
    "test_scores = cross_validate(best_dtree_model, X_train, y_train, cv=10)\n",
    "test_scores"
   ]
  },
  {
   "cell_type": "markdown",
   "metadata": {},
   "source": [
    "On cross-validation that best possible score is 76%, less than the Naive Baye's classifer."
   ]
  },
  {
   "cell_type": "markdown",
   "metadata": {},
   "source": [
    "### 4.7.5 KNN Model<a id='4.7.5_KNN'></a>"
   ]
  },
  {
   "cell_type": "code",
   "execution_count": 35,
   "metadata": {},
   "outputs": [],
   "source": [
    "# commenting this out as it takes too long to run. We have run this and got 5 as the best_param\n",
    "# param_grid = {'n_neighbors': np.arange(1, 5)}\n",
    "\n",
    "# knn_model = KNeighborsClassifier() \n",
    "# knn_cv = GridSearchCV(knn_model, param_grid, cv=5)\n",
    "# knn_cv.fit(X_train, y_train)\n",
    "# knn_cv.best_params_"
   ]
  },
  {
   "cell_type": "code",
   "execution_count": 36,
   "metadata": {},
   "outputs": [
    {
     "data": {
      "text/plain": [
       "{'fit_time': array([2.52145267, 2.46606779, 2.47266674, 2.54535246, 2.63201547,\n",
       "        2.40031362, 2.32227111, 2.36461353, 2.33576035, 2.52251863]),\n",
       " 'score_time': array([46.42509913, 47.56363845, 47.85599232, 49.11627293, 46.27579999,\n",
       "        47.41076326, 47.01583433, 47.86711979, 46.9147594 , 47.36323547]),\n",
       " 'test_score': array([0.74790151, 0.75209849, 0.75181869, 0.75517627, 0.74594292,\n",
       "        0.75657527, 0.7581864 , 0.76574307, 0.75202911, 0.75062972])}"
      ]
     },
     "execution_count": 36,
     "metadata": {},
     "output_type": "execute_result"
    }
   ],
   "source": [
    "best_knn_model = KNeighborsClassifier(n_neighbors=5)\n",
    "test_scores = cross_validate(best_knn_model, X_train, y_train, cv=10)\n",
    "test_scores"
   ]
  },
  {
   "cell_type": "code",
   "execution_count": 37,
   "metadata": {},
   "outputs": [],
   "source": [
    "best_knn_model.fit(X_train, y_train)\n",
    "knn_y_pred = best_knn_model.predict(X_test)"
   ]
  },
  {
   "cell_type": "code",
   "execution_count": 38,
   "metadata": {},
   "outputs": [
    {
     "data": {
      "image/png": "[encoded data removed]",
      "text/plain": [
       "<Figure size 432x288 with 2 Axes>"
      ]
     },
     "metadata": {
      "needs_background": "light"
     },
     "output_type": "display_data"
    }
   ],
   "source": [
    "plot_confusion_matrix(best_knn_model, X_test, y_test, display_labels=['Women', 'Men'], cmap='Blues', normalize='true')\n",
    "plt.show();"
   ]
  },
  {
   "cell_type": "code",
   "execution_count": 39,
   "metadata": {},
   "outputs": [
    {
     "name": "stdout",
     "output_type": "stream",
     "text": [
      "              precision    recall  f1-score   support\n",
      "\n",
      "           0       0.79      0.90      0.84      8790\n",
      "           1       0.55      0.34      0.42      3122\n",
      "\n",
      "    accuracy                           0.75     11912\n",
      "   macro avg       0.67      0.62      0.63     11912\n",
      "weighted avg       0.73      0.75      0.73     11912\n",
      "\n"
     ]
    }
   ],
   "source": [
    "print(classification_report(y_test, knn_y_pred))"
   ]
  },
  {
   "cell_type": "markdown",
   "metadata": {},
   "source": [
    "### 4.7.6 Random Forest Model<a id='4.7.6_Random_Forest'></a>"
   ]
  },
  {
   "cell_type": "code",
   "execution_count": 41,
   "metadata": {},
   "outputs": [],
   "source": [
    "# commenting this out as it takes too long to run. We have run this and got 100 as the best_param\n",
    "\n",
    "# n_est = [int(n) for n in np.logspace(start=2, stop=3, num=10)]\n",
    "\n",
    "# param_grid = {'n_estimators': n_est}\n",
    "\n",
    "# rf_model = RandomForestClassifier()\n",
    "# rf_cv = GridSearchCV(rf_model, param_grid, cv=5)\n",
    "# rf_cv.fit(X_train, y_train)\n",
    "# rf_cv.best_params_"
   ]
  },
  {
   "cell_type": "code",
   "execution_count": 42,
   "metadata": {},
   "outputs": [
    {
     "data": {
      "text/plain": [
       "{'fit_time': array([83.14915323, 81.50836515, 82.32109189, 82.66121578, 78.70550656,\n",
       "        80.06455779, 81.35136747, 80.6743679 , 81.51071715, 82.02045321]),\n",
       " 'score_time': array([0.26660657, 0.24482179, 0.24902105, 0.23537278, 0.22879624,\n",
       "        0.20220852, 0.24296379, 0.23870134, 0.23089242, 0.24299359]),\n",
       " 'test_score': array([0.76301063, 0.77280358, 0.76580862, 0.77196419, 0.77504197,\n",
       "        0.77560157, 0.77889729, 0.77861741, 0.76434369, 0.76434369])}"
      ]
     },
     "execution_count": 42,
     "metadata": {},
     "output_type": "execute_result"
    }
   ],
   "source": [
    "best_rf_model = RandomForestClassifier(n_estimators=100)\n",
    "test_scores = cross_validate(best_rf_model, X_train, y_train, cv=10)\n",
    "test_scores"
   ]
  },
  {
   "cell_type": "code",
   "execution_count": 43,
   "metadata": {},
   "outputs": [],
   "source": [
    "best_rf_model.fit(X_train, y_train)\n",
    "rf_y_pred = best_rf_model.predict(X_test)"
   ]
  },
  {
   "cell_type": "code",
   "execution_count": 44,
   "metadata": {},
   "outputs": [
    {
     "data": {
      "image/png": "[encoded data removed]",
      "text/plain": [
       "<Figure size 432x288 with 2 Axes>"
      ]
     },
     "metadata": {
      "needs_background": "light"
     },
     "output_type": "display_data"
    }
   ],
   "source": [
    "plot_confusion_matrix(best_rf_model, X_test, y_test, display_labels=['Women', 'Men'], cmap='Blues', normalize='true')\n",
    "plt.show();"
   ]
  },
  {
   "cell_type": "code",
   "execution_count": 45,
   "metadata": {},
   "outputs": [
    {
     "name": "stdout",
     "output_type": "stream",
     "text": [
      "              precision    recall  f1-score   support\n",
      "\n",
      "           0       0.80      0.92      0.86      8790\n",
      "           1       0.62      0.35      0.45      3122\n",
      "\n",
      "    accuracy                           0.77     11912\n",
      "   macro avg       0.71      0.64      0.65     11912\n",
      "weighted avg       0.75      0.77      0.75     11912\n",
      "\n"
     ]
    }
   ],
   "source": [
    "# 100 estimators\n",
    "print(classification_report(y_test, rf_y_pred))"
   ]
  },
  {
   "cell_type": "markdown",
   "metadata": {},
   "source": [
    "### 4.7.7 AdaBoost Model<a id='4.7.7_Adaboost'></a>"
   ]
  },
  {
   "cell_type": "code",
   "execution_count": 46,
   "metadata": {},
   "outputs": [],
   "source": [
    "# commenting this out as it takes too long to run. We have run this and got 100 as the best_param\n",
    "\n",
    "# n_est = [int(n) for n in np.logspace(start=1, stop=2, num=10)]\n",
    "\n",
    "# param_grid = {'n_estimators': n_est}\n",
    "\n",
    "# ab_model = AdaBoostClassifier(n_estimators=100)\n",
    "# ab_cv = GridSearchCV(rf_model, param_grid, cv=5)\n",
    "# ab_cv.fit(X_train, y_train)\n",
    "# ab_cv.best_params_"
   ]
  },
  {
   "cell_type": "code",
   "execution_count": 47,
   "metadata": {},
   "outputs": [
    {
     "data": {
      "text/plain": [
       "{'fit_time': array([91.06830645, 92.22489882, 91.01725125, 88.63262582, 90.53028297,\n",
       "        91.6226058 , 96.51527214, 89.53341913, 89.65057874, 89.95858049]),\n",
       " 'score_time': array([0.45488381, 0.35795975, 0.40177941, 0.37662601, 0.35381699,\n",
       "        0.39767408, 0.44770718, 0.32953548, 0.33059955, 0.454561  ]),\n",
       " 'test_score': array([0.77168439, 0.77196419, 0.77028539, 0.77588137, 0.78651371,\n",
       "        0.77588137, 0.78449482, 0.7774979 , 0.77413938, 0.76322418])}"
      ]
     },
     "execution_count": 47,
     "metadata": {},
     "output_type": "execute_result"
    }
   ],
   "source": [
    "best_ab_model = AdaBoostClassifier(n_estimators=100)\n",
    "test_scores = cross_validate(best_ab_model, X_train, y_train, cv=10)\n",
    "test_scores"
   ]
  },
  {
   "cell_type": "code",
   "execution_count": 48,
   "metadata": {},
   "outputs": [],
   "source": [
    "best_ab_model.fit(X_train, y_train)\n",
    "rf_y_pred = best_ab_model.predict(X_test)"
   ]
  },
  {
   "cell_type": "code",
   "execution_count": 49,
   "metadata": {},
   "outputs": [
    {
     "data": {
      "image/png": "[encoded data removed]",
      "text/plain": [
       "<Figure size 432x288 with 2 Axes>"
      ]
     },
     "metadata": {
      "needs_background": "light"
     },
     "output_type": "display_data"
    }
   ],
   "source": [
    "plot_confusion_matrix(best_ab_model, X_test, y_test, display_labels=['Women', 'Men'], cmap='Blues', normalize='true')\n",
    "plt.show();"
   ]
  },
  {
   "cell_type": "code",
   "execution_count": 50,
   "metadata": {},
   "outputs": [
    {
     "name": "stdout",
     "output_type": "stream",
     "text": [
      "              precision    recall  f1-score   support\n",
      "\n",
      "           0       0.81      0.92      0.86      8790\n",
      "           1       0.63      0.40      0.49      3122\n",
      "\n",
      "    accuracy                           0.78     11912\n",
      "   macro avg       0.72      0.66      0.68     11912\n",
      "weighted avg       0.77      0.78      0.76     11912\n",
      "\n"
     ]
    }
   ],
   "source": [
    "print(classification_report(y_test, rf_y_pred))"
   ]
  },
  {
   "cell_type": "markdown",
   "metadata": {},
   "source": [
    "### 4.7.8 Logisitic Regression Model<a id='4.7.8_Logistic_Regression'></a>"
   ]
  },
  {
   "cell_type": "code",
   "execution_count": 51,
   "metadata": {},
   "outputs": [
    {
     "data": {
      "text/plain": [
       "{'fit_time': array([1.14843321, 0.62071347, 0.5169239 , 0.70791602, 0.52055573,\n",
       "        0.53168344, 0.5072329 , 0.62589502, 0.51116681, 0.5311265 ]),\n",
       " 'score_time': array([0.00369048, 0.00099468, 0.00414944, 0.00376058, 0.00682688,\n",
       "        0.00299501, 0.00238061, 0.        , 0.00785208, 0.00099564]),\n",
       " 'test_score': array([0.77951875, 0.78399552, 0.77728036, 0.78175713, 0.79266928,\n",
       "        0.78343593, 0.78589421, 0.78281556, 0.78393507, 0.77301987])}"
      ]
     },
     "execution_count": 51,
     "metadata": {},
     "output_type": "execute_result"
    }
   ],
   "source": [
    "best_lr_model = LogisticRegression(random_state=0)\n",
    "test_scores = cross_validate(best_lr_model, X_train, y_train, cv=10)\n",
    "test_scores"
   ]
  },
  {
   "cell_type": "code",
   "execution_count": 52,
   "metadata": {},
   "outputs": [],
   "source": [
    "best_lr_model.fit(X_train, y_train)\n",
    "lr_y_pred = best_lr_model.predict(X_test)"
   ]
  },
  {
   "cell_type": "code",
   "execution_count": 53,
   "metadata": {},
   "outputs": [
    {
     "data": {
      "image/png": "[encoded data removed]",
      "text/plain": [
       "<Figure size 432x288 with 2 Axes>"
      ]
     },
     "metadata": {
      "needs_background": "light"
     },
     "output_type": "display_data"
    }
   ],
   "source": [
    "plot_confusion_matrix(best_lr_model, X_test, y_test, display_labels=['Women', 'Men'], cmap='Blues', normalize='true')\n",
    "plt.show();"
   ]
  },
  {
   "cell_type": "code",
   "execution_count": 54,
   "metadata": {},
   "outputs": [
    {
     "name": "stdout",
     "output_type": "stream",
     "text": [
      "              precision    recall  f1-score   support\n",
      "\n",
      "           0       0.81      0.93      0.86      8790\n",
      "           1       0.65      0.39      0.49      3122\n",
      "\n",
      "    accuracy                           0.79     11912\n",
      "   macro avg       0.73      0.66      0.68     11912\n",
      "weighted avg       0.77      0.79      0.77     11912\n",
      "\n"
     ]
    }
   ],
   "source": [
    "print(classification_report(y_test, lr_y_pred))"
   ]
  },
  {
   "cell_type": "markdown",
   "metadata": {},
   "source": [
    "### 4.7.9 SVC Model<a id='4.7.9_SVM'></a>"
   ]
  },
  {
   "cell_type": "code",
   "execution_count": 55,
   "metadata": {},
   "outputs": [
    {
     "data": {
      "text/plain": [
       "{'fit_time': array([ 411.28271532,  392.47533059, 1059.41308832,  401.85447264,\n",
       "         402.03612828,  399.52203321,  408.2756443 ,  403.49373031,\n",
       "         400.11470342,  401.31999373]),\n",
       " 'score_time': array([17.32373142, 16.98905754, 16.36621094, 16.85726237, 16.40668559,\n",
       "        17.54332399, 17.52417636, 16.50349474, 16.34176469, 16.91092396]),\n",
       " 'test_score': array([0.78259653, 0.78707331, 0.77867935, 0.78371572, 0.7881925 ,\n",
       "        0.78343593, 0.78813322, 0.7920515 , 0.78281556, 0.77665827])}"
      ]
     },
     "execution_count": 55,
     "metadata": {},
     "output_type": "execute_result"
    }
   ],
   "source": [
    "best_sv_model = SVC()\n",
    "test_scores = cross_validate(best_sv_model, X_train, y_train, cv=10)\n",
    "test_scores"
   ]
  },
  {
   "cell_type": "code",
   "execution_count": 56,
   "metadata": {},
   "outputs": [],
   "source": [
    "best_sv_model.fit(X_train, y_train)\n",
    "sv_y_pred = best_sv_model.predict(X_test)"
   ]
  },
  {
   "cell_type": "code",
   "execution_count": 57,
   "metadata": {},
   "outputs": [
    {
     "data": {
      "image/png": "[encoded data removed]",
      "text/plain": [
       "<Figure size 432x288 with 2 Axes>"
      ]
     },
     "metadata": {
      "needs_background": "light"
     },
     "output_type": "display_data"
    }
   ],
   "source": [
    "plot_confusion_matrix(best_sv_model, X_test, y_test, display_labels=['Women', 'Men'], cmap='Blues', normalize='true')\n",
    "plt.show();"
   ]
  },
  {
   "cell_type": "code",
   "execution_count": 58,
   "metadata": {},
   "outputs": [
    {
     "name": "stdout",
     "output_type": "stream",
     "text": [
      "              precision    recall  f1-score   support\n",
      "\n",
      "           0       0.81      0.93      0.86      8790\n",
      "           1       0.65      0.37      0.48      3122\n",
      "\n",
      "    accuracy                           0.78     11912\n",
      "   macro avg       0.73      0.65      0.67     11912\n",
      "weighted avg       0.77      0.78      0.76     11912\n",
      "\n"
     ]
    }
   ],
   "source": [
    "print(classification_report(y_test, sv_y_pred))"
   ]
  },
  {
   "cell_type": "markdown",
   "metadata": {},
   "source": [
    "## 4.8 Summary<a id='4.8_Summary'></a>"
   ]
  },
  {
   "cell_type": "markdown",
   "metadata": {},
   "source": []
  }
 ],
 "metadata": {
  "kernelspec": {
   "display_name": "Python 3",
   "language": "python",
   "name": "python3"
  },
  "language_info": {
   "codemirror_mode": {
    "name": "ipython",
    "version": 3
   },
   "file_extension": ".py",
   "mimetype": "text/x-python",
   "name": "python",
   "nbconvert_exporter": "python",
   "pygments_lexer": "ipython3",
   "version": "3.7.6"
  }
 },
 "nbformat": 4,
 "nbformat_minor": 4
}
