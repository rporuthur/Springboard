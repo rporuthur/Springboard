{
 "cells": [
  {
   "cell_type": "markdown",
   "metadata": {},
   "source": [
    "# 4 Pre-Processing and Training Data<a id='4_Pre-Processing_and_Training_Data'></a>"
   ]
  },
  {
   "cell_type": "markdown",
   "metadata": {},
   "source": [
    "## 4.1 Contents<a id='4.1_Contents'></a>\n",
    "* [4 Pre-Processing and Training Data](#4_Pre-Processing_and_Training_Data)\n",
    "  * [4.1 Contents](#4.1_Contents)\n",
    "  * [4.2 Introduction](#4.2_Introduction)\n",
    "  * [4.3 Imports](#4.3_Imports)\n",
    "  * [4.4 Load Data](#4.4_Load_Data)\n",
    "  * [4.5 Extract Big Mountain Data](#4.5_Extract_Big_Mountain_Data)\n",
    "  * [4.6 Train/Test Split](#4.6_Train/Test_Split)\n",
    "  * [4.7 Initial Not-Even-A-Model](#4.7_Initial_Not-Even-A-Model)\n",
    "    * [4.7.1 Metrics](#4.7.1_Metrics)\n",
    "      * [4.7.1.1 R-squared, or coefficient of determination](#4.7.1.1_R-squared,_or_coefficient_of_determination)\n",
    "      * [4.7.1.2 Mean Absolute Error](#4.7.1.2_Mean_Absolute_Error)\n",
    "      * [4.7.1.3 Mean Squared Error](#4.7.1.3_Mean_Squared_Error)\n",
    "    * [4.7.2 sklearn metrics](#4.7.2_sklearn_metrics)\n",
    "        * [4.7.2.0.1 R-squared](#4.7.2.0.1_R-squared)\n",
    "        * [4.7.2.0.2 Mean absolute error](#4.7.2.0.2_Mean_absolute_error)\n",
    "        * [4.7.2.0.3 Mean squared error](#4.7.2.0.3_Mean_squared_error)\n",
    "    * [4.7.3 Note On Calculating Metrics](#4.7.3_Note_On_Calculating_Metrics)\n",
    "  * [4.8 Initial Models](#4.8_Initial_Models)\n",
    "    * [4.8.1 Imputing missing feature (predictor) values](#4.8.1_Imputing_missing_feature_(predictor)_values)\n",
    "      * [4.8.1.1 Impute missing values with median](#4.8.1.1_Impute_missing_values_with_median)\n",
    "        * [4.8.1.1.1 Learn the values to impute from the train set](#4.8.1.1.1_Learn_the_values_to_impute_from_the_train_set)\n",
    "        * [4.8.1.1.2 Apply the imputation to both train and test splits](#4.8.1.1.2_Apply_the_imputation_to_both_train_and_test_splits)\n",
    "        * [4.8.1.1.3 Scale the data](#4.8.1.1.3_Scale_the_data)\n",
    "        * [4.8.1.1.4 Train the model on the train split](#4.8.1.1.4_Train_the_model_on_the_train_split)\n",
    "        * [4.8.1.1.5 Make predictions using the model on both train and test splits](#4.8.1.1.5_Make_predictions_using_the_model_on_both_train_and_test_splits)\n",
    "        * [4.8.1.1.6 Assess model performance](#4.8.1.1.6_Assess_model_performance)\n",
    "      * [4.8.1.2 Impute missing values with the mean](#4.8.1.2_Impute_missing_values_with_the_mean)\n",
    "        * [4.8.1.2.1 Learn the values to impute from the train set](#4.8.1.2.1_Learn_the_values_to_impute_from_the_train_set)\n",
    "        * [4.8.1.2.2 Apply the imputation to both train and test splits](#4.8.1.2.2_Apply_the_imputation_to_both_train_and_test_splits)\n",
    "        * [4.8.1.2.3 Scale the data](#4.8.1.2.3_Scale_the_data)\n",
    "        * [4.8.1.2.4 Train the model on the train split](#4.8.1.2.4_Train_the_model_on_the_train_split)\n",
    "        * [4.8.1.2.5 Make predictions using the model on both train and test splits](#4.8.1.2.5_Make_predictions_using_the_model_on_both_train_and_test_splits)\n",
    "        * [4.8.1.2.6 Assess model performance](#4.8.1.2.6_Assess_model_performance)\n",
    "    * [4.8.2 Pipelines](#4.8.2_Pipelines)\n",
    "      * [4.8.2.1 Define the pipeline](#4.8.2.1_Define_the_pipeline)\n",
    "      * [4.8.2.2 Fit the pipeline](#4.8.2.2_Fit_the_pipeline)\n",
    "      * [4.8.2.3 Make predictions on the train and test sets](#4.8.2.3_Make_predictions_on_the_train_and_test_sets)\n",
    "      * [4.8.2.4 Assess performance](#4.8.2.4_Assess_performance)\n",
    "  * [4.9 Refining The Linear Model](#4.9_Refining_The_Linear_Model)\n",
    "    * [4.9.1 Define the pipeline](#4.9.1_Define_the_pipeline)\n",
    "    * [4.9.2 Fit the pipeline](#4.9.2_Fit_the_pipeline)\n",
    "    * [4.9.3 Assess performance on the train and test set](#4.9.3_Assess_performance_on_the_train_and_test_set)\n",
    "    * [4.9.4 Define a new pipeline to select a different number of features](#4.9.4_Define_a_new_pipeline_to_select_a_different_number_of_features)\n",
    "    * [4.9.5 Fit the pipeline](#4.9.5_Fit_the_pipeline)\n",
    "    * [4.9.6 Assess performance on train and test data](#4.9.6_Assess_performance_on_train_and_test_data)\n",
    "    * [4.9.7 Assessing performance using cross-validation](#4.9.7_Assessing_performance_using_cross-validation)\n",
    "    * [4.9.8 Hyperparameter search using GridSearchCV](#4.9.8_Hyperparameter_search_using_GridSearchCV)\n",
    "  * [4.10 Random Forest Model](#4.10_Random_Forest_Model)\n",
    "    * [4.10.1 Define the pipeline](#4.10.1_Define_the_pipeline)\n",
    "    * [4.10.2 Fit and assess performance using cross-validation](#4.10.2_Fit_and_assess_performance_using_cross-validation)\n",
    "    * [4.10.3 Hyperparameter search using GridSearchCV](#4.10.3_Hyperparameter_search_using_GridSearchCV)\n",
    "  * [4.11 Final Model Selection](#4.11_Final_Model_Selection)\n",
    "    * [4.11.1 Linear regression model performance](#4.11.1_Linear_regression_model_performance)\n",
    "    * [4.11.2 Random forest regression model performance](#4.11.2_Random_forest_regression_model_performance)\n",
    "    * [4.11.3 Conclusion](#4.11.3_Conclusion)\n",
    "  * [4.12 Data quantity assessment](#4.12_Data_quantity_assessment)\n",
    "  * [4.13 Save best model object from pipeline](#4.13_Save_best_model_object_from_pipeline)\n",
    "  * [4.14 Summary](#4.14_Summary)\n"
   ]
  },
  {
   "cell_type": "markdown",
   "metadata": {},
   "source": [
    "## 4.2 Introduction<a id='4.2_Introduction'></a>"
   ]
  },
  {
   "cell_type": "markdown",
   "metadata": {},
   "source": [
    "We are ready to proceed with testing out different classifier models with our prefume feature set.\n",
    "\n",
    "We expect the ML models to predict the gender that would prefer a perfume given the notes in that perfume."
   ]
  },
  {
   "cell_type": "markdown",
   "metadata": {},
   "source": [
    "## 4.3 Imports<a id='4.3_Imports'></a>"
   ]
  },
  {
   "cell_type": "code",
   "execution_count": 27,
   "metadata": {},
   "outputs": [],
   "source": [
    "import pandas as pd\n",
    "import numpy as np\n",
    "import os\n",
    "import pickle\n",
    "import datetime\n",
    "\n",
    "import matplotlib.pyplot as plt\n",
    "import seaborn as sns\n",
    "\n",
    "from sklearn import __version__ as sklearn_version\n",
    "from sklearn.decomposition import PCA\n",
    "from sklearn.preprocessing import scale\n",
    "from sklearn.model_selection import train_test_split, cross_validate, GridSearchCV, learning_curve\n",
    "\n",
    "from sklearn.linear_model import LogisticRegression\n",
    "from sklearn.neighbors import KNeighborsClassifier\n",
    "from sklearn.svm import SVC\n",
    "from sklearn.tree import DecisionTreeClassifier\n",
    "from sklearn.ensemble import RandomForestClassifier, AdaBoostClassifier\n",
    "from sklearn.discriminant_analysis import LinearDiscriminantAnalysis\n",
    "\n",
    "from sklearn.metrics import classification_report, confusion_matrix, plot_confusion_matrix, accuracy_score\n",
    "from sklearn.pipeline import make_pipeline\n",
    "from sklearn.impute import SimpleImputer\n",
    "\n",
    "from sklearn.feature_selection import SelectKBest, f_regression"
   ]
  },
  {
   "cell_type": "markdown",
   "metadata": {},
   "source": [
    "## 4.4 Load Data<a id='4.4_Load_Data'></a>"
   ]
  },
  {
   "cell_type": "code",
   "execution_count": 2,
   "metadata": {
    "scrolled": true
   },
   "outputs": [
    {
     "data": {
      "text/html": [
       "<div>\n",
       "<style scoped>\n",
       "    .dataframe tbody tr th:only-of-type {\n",
       "        vertical-align: middle;\n",
       "    }\n",
       "\n",
       "    .dataframe tbody tr th {\n",
       "        vertical-align: top;\n",
       "    }\n",
       "\n",
       "    .dataframe thead th {\n",
       "        text-align: right;\n",
       "    }\n",
       "</style>\n",
       "<table border=\"1\" class=\"dataframe\">\n",
       "  <thead>\n",
       "    <tr style=\"text-align: right;\">\n",
       "      <th></th>\n",
       "      <th>0</th>\n",
       "      <th>1</th>\n",
       "      <th>2</th>\n",
       "      <th>3</th>\n",
       "      <th>4</th>\n",
       "    </tr>\n",
       "  </thead>\n",
       "  <tbody>\n",
       "    <tr>\n",
       "      <th>musk</th>\n",
       "      <td>0</td>\n",
       "      <td>1</td>\n",
       "      <td>0</td>\n",
       "      <td>0</td>\n",
       "      <td>0</td>\n",
       "    </tr>\n",
       "    <tr>\n",
       "      <th>sandalwood</th>\n",
       "      <td>1</td>\n",
       "      <td>0</td>\n",
       "      <td>1</td>\n",
       "      <td>0</td>\n",
       "      <td>1</td>\n",
       "    </tr>\n",
       "    <tr>\n",
       "      <th>jasmine</th>\n",
       "      <td>0</td>\n",
       "      <td>0</td>\n",
       "      <td>0</td>\n",
       "      <td>0</td>\n",
       "      <td>0</td>\n",
       "    </tr>\n",
       "    <tr>\n",
       "      <th>amber</th>\n",
       "      <td>1</td>\n",
       "      <td>1</td>\n",
       "      <td>0</td>\n",
       "      <td>0</td>\n",
       "      <td>1</td>\n",
       "    </tr>\n",
       "    <tr>\n",
       "      <th>patchouli</th>\n",
       "      <td>0</td>\n",
       "      <td>0</td>\n",
       "      <td>0</td>\n",
       "      <td>0</td>\n",
       "      <td>0</td>\n",
       "    </tr>\n",
       "    <tr>\n",
       "      <th>...</th>\n",
       "      <td>...</td>\n",
       "      <td>...</td>\n",
       "      <td>...</td>\n",
       "      <td>...</td>\n",
       "      <td>...</td>\n",
       "    </tr>\n",
       "    <tr>\n",
       "      <th>sea_salt</th>\n",
       "      <td>0</td>\n",
       "      <td>0</td>\n",
       "      <td>0</td>\n",
       "      <td>0</td>\n",
       "      <td>0</td>\n",
       "    </tr>\n",
       "    <tr>\n",
       "      <th>rice</th>\n",
       "      <td>0</td>\n",
       "      <td>0</td>\n",
       "      <td>0</td>\n",
       "      <td>0</td>\n",
       "      <td>0</td>\n",
       "    </tr>\n",
       "    <tr>\n",
       "      <th>red_rose</th>\n",
       "      <td>0</td>\n",
       "      <td>0</td>\n",
       "      <td>0</td>\n",
       "      <td>0</td>\n",
       "      <td>0</td>\n",
       "    </tr>\n",
       "    <tr>\n",
       "      <th>other_notes</th>\n",
       "      <td>1</td>\n",
       "      <td>0</td>\n",
       "      <td>0</td>\n",
       "      <td>0</td>\n",
       "      <td>0</td>\n",
       "    </tr>\n",
       "    <tr>\n",
       "      <th>label</th>\n",
       "      <td>1</td>\n",
       "      <td>0</td>\n",
       "      <td>2</td>\n",
       "      <td>2</td>\n",
       "      <td>2</td>\n",
       "    </tr>\n",
       "  </tbody>\n",
       "</table>\n",
       "<p>301 rows × 5 columns</p>\n",
       "</div>"
      ],
      "text/plain": [
       "             0  1  2  3  4\n",
       "musk         0  1  0  0  0\n",
       "sandalwood   1  0  1  0  1\n",
       "jasmine      0  0  0  0  0\n",
       "amber        1  1  0  0  1\n",
       "patchouli    0  0  0  0  0\n",
       "...         .. .. .. .. ..\n",
       "sea_salt     0  0  0  0  0\n",
       "rice         0  0  0  0  0\n",
       "red_rose     0  0  0  0  0\n",
       "other_notes  1  0  0  0  0\n",
       "label        1  0  2  2  2\n",
       "\n",
       "[301 rows x 5 columns]"
      ]
     },
     "execution_count": 2,
     "metadata": {},
     "output_type": "execute_result"
    }
   ],
   "source": [
    "perfume_data = pd.read_csv('../data/processed/perfume_data_step3_features.csv')\n",
    "df = perfume_data.copy()\n",
    "df.head().T"
   ]
  },
  {
   "cell_type": "code",
   "execution_count": 3,
   "metadata": {},
   "outputs": [
    {
     "data": {
      "text/plain": [
       "(47648, 301)"
      ]
     },
     "execution_count": 3,
     "metadata": {},
     "output_type": "execute_result"
    }
   ],
   "source": [
    "df.shape"
   ]
  },
  {
   "cell_type": "markdown",
   "metadata": {},
   "source": [
    "#### Scale Data using PCA"
   ]
  },
  {
   "cell_type": "code",
   "execution_count": 4,
   "metadata": {},
   "outputs": [
    {
     "data": {
      "text/html": [
       "<div>\n",
       "<style scoped>\n",
       "    .dataframe tbody tr th:only-of-type {\n",
       "        vertical-align: middle;\n",
       "    }\n",
       "\n",
       "    .dataframe tbody tr th {\n",
       "        vertical-align: top;\n",
       "    }\n",
       "\n",
       "    .dataframe thead th {\n",
       "        text-align: right;\n",
       "    }\n",
       "</style>\n",
       "<table border=\"1\" class=\"dataframe\">\n",
       "  <thead>\n",
       "    <tr style=\"text-align: right;\">\n",
       "      <th></th>\n",
       "      <th>musk</th>\n",
       "      <th>sandalwood</th>\n",
       "      <th>jasmine</th>\n",
       "      <th>amber</th>\n",
       "      <th>patchouli</th>\n",
       "      <th>rose</th>\n",
       "      <th>vanilla</th>\n",
       "      <th>cedar</th>\n",
       "      <th>bergamot</th>\n",
       "      <th>vetiver</th>\n",
       "      <th>...</th>\n",
       "      <th>pink_peony</th>\n",
       "      <th>exotic_woods</th>\n",
       "      <th>fennel</th>\n",
       "      <th>white_lily</th>\n",
       "      <th>tomato_leaf</th>\n",
       "      <th>clover</th>\n",
       "      <th>sea_salt</th>\n",
       "      <th>rice</th>\n",
       "      <th>red_rose</th>\n",
       "      <th>other_notes</th>\n",
       "    </tr>\n",
       "  </thead>\n",
       "  <tbody>\n",
       "    <tr>\n",
       "      <th>0</th>\n",
       "      <td>0</td>\n",
       "      <td>1</td>\n",
       "      <td>0</td>\n",
       "      <td>1</td>\n",
       "      <td>0</td>\n",
       "      <td>0</td>\n",
       "      <td>0</td>\n",
       "      <td>0</td>\n",
       "      <td>1</td>\n",
       "      <td>0</td>\n",
       "      <td>...</td>\n",
       "      <td>0</td>\n",
       "      <td>0</td>\n",
       "      <td>0</td>\n",
       "      <td>0</td>\n",
       "      <td>0</td>\n",
       "      <td>0</td>\n",
       "      <td>0</td>\n",
       "      <td>0</td>\n",
       "      <td>0</td>\n",
       "      <td>1</td>\n",
       "    </tr>\n",
       "    <tr>\n",
       "      <th>1</th>\n",
       "      <td>1</td>\n",
       "      <td>0</td>\n",
       "      <td>0</td>\n",
       "      <td>1</td>\n",
       "      <td>0</td>\n",
       "      <td>1</td>\n",
       "      <td>0</td>\n",
       "      <td>0</td>\n",
       "      <td>0</td>\n",
       "      <td>0</td>\n",
       "      <td>...</td>\n",
       "      <td>0</td>\n",
       "      <td>0</td>\n",
       "      <td>0</td>\n",
       "      <td>0</td>\n",
       "      <td>0</td>\n",
       "      <td>0</td>\n",
       "      <td>0</td>\n",
       "      <td>0</td>\n",
       "      <td>0</td>\n",
       "      <td>0</td>\n",
       "    </tr>\n",
       "    <tr>\n",
       "      <th>2</th>\n",
       "      <td>0</td>\n",
       "      <td>1</td>\n",
       "      <td>0</td>\n",
       "      <td>0</td>\n",
       "      <td>0</td>\n",
       "      <td>1</td>\n",
       "      <td>0</td>\n",
       "      <td>0</td>\n",
       "      <td>0</td>\n",
       "      <td>0</td>\n",
       "      <td>...</td>\n",
       "      <td>0</td>\n",
       "      <td>0</td>\n",
       "      <td>0</td>\n",
       "      <td>0</td>\n",
       "      <td>0</td>\n",
       "      <td>0</td>\n",
       "      <td>0</td>\n",
       "      <td>0</td>\n",
       "      <td>0</td>\n",
       "      <td>0</td>\n",
       "    </tr>\n",
       "    <tr>\n",
       "      <th>3</th>\n",
       "      <td>0</td>\n",
       "      <td>0</td>\n",
       "      <td>0</td>\n",
       "      <td>0</td>\n",
       "      <td>0</td>\n",
       "      <td>0</td>\n",
       "      <td>0</td>\n",
       "      <td>0</td>\n",
       "      <td>0</td>\n",
       "      <td>0</td>\n",
       "      <td>...</td>\n",
       "      <td>0</td>\n",
       "      <td>0</td>\n",
       "      <td>0</td>\n",
       "      <td>0</td>\n",
       "      <td>0</td>\n",
       "      <td>0</td>\n",
       "      <td>0</td>\n",
       "      <td>0</td>\n",
       "      <td>0</td>\n",
       "      <td>0</td>\n",
       "    </tr>\n",
       "    <tr>\n",
       "      <th>4</th>\n",
       "      <td>0</td>\n",
       "      <td>1</td>\n",
       "      <td>0</td>\n",
       "      <td>1</td>\n",
       "      <td>0</td>\n",
       "      <td>0</td>\n",
       "      <td>0</td>\n",
       "      <td>0</td>\n",
       "      <td>0</td>\n",
       "      <td>1</td>\n",
       "      <td>...</td>\n",
       "      <td>0</td>\n",
       "      <td>0</td>\n",
       "      <td>0</td>\n",
       "      <td>0</td>\n",
       "      <td>0</td>\n",
       "      <td>0</td>\n",
       "      <td>0</td>\n",
       "      <td>0</td>\n",
       "      <td>0</td>\n",
       "      <td>0</td>\n",
       "    </tr>\n",
       "    <tr>\n",
       "      <th>...</th>\n",
       "      <td>...</td>\n",
       "      <td>...</td>\n",
       "      <td>...</td>\n",
       "      <td>...</td>\n",
       "      <td>...</td>\n",
       "      <td>...</td>\n",
       "      <td>...</td>\n",
       "      <td>...</td>\n",
       "      <td>...</td>\n",
       "      <td>...</td>\n",
       "      <td>...</td>\n",
       "      <td>...</td>\n",
       "      <td>...</td>\n",
       "      <td>...</td>\n",
       "      <td>...</td>\n",
       "      <td>...</td>\n",
       "      <td>...</td>\n",
       "      <td>...</td>\n",
       "      <td>...</td>\n",
       "      <td>...</td>\n",
       "      <td>...</td>\n",
       "    </tr>\n",
       "    <tr>\n",
       "      <th>47643</th>\n",
       "      <td>0</td>\n",
       "      <td>1</td>\n",
       "      <td>0</td>\n",
       "      <td>0</td>\n",
       "      <td>1</td>\n",
       "      <td>0</td>\n",
       "      <td>1</td>\n",
       "      <td>0</td>\n",
       "      <td>0</td>\n",
       "      <td>0</td>\n",
       "      <td>...</td>\n",
       "      <td>0</td>\n",
       "      <td>0</td>\n",
       "      <td>0</td>\n",
       "      <td>0</td>\n",
       "      <td>0</td>\n",
       "      <td>0</td>\n",
       "      <td>0</td>\n",
       "      <td>0</td>\n",
       "      <td>0</td>\n",
       "      <td>0</td>\n",
       "    </tr>\n",
       "    <tr>\n",
       "      <th>47644</th>\n",
       "      <td>1</td>\n",
       "      <td>0</td>\n",
       "      <td>1</td>\n",
       "      <td>1</td>\n",
       "      <td>0</td>\n",
       "      <td>1</td>\n",
       "      <td>0</td>\n",
       "      <td>0</td>\n",
       "      <td>0</td>\n",
       "      <td>0</td>\n",
       "      <td>...</td>\n",
       "      <td>0</td>\n",
       "      <td>0</td>\n",
       "      <td>0</td>\n",
       "      <td>0</td>\n",
       "      <td>0</td>\n",
       "      <td>0</td>\n",
       "      <td>0</td>\n",
       "      <td>0</td>\n",
       "      <td>0</td>\n",
       "      <td>0</td>\n",
       "    </tr>\n",
       "    <tr>\n",
       "      <th>47645</th>\n",
       "      <td>0</td>\n",
       "      <td>1</td>\n",
       "      <td>0</td>\n",
       "      <td>1</td>\n",
       "      <td>0</td>\n",
       "      <td>0</td>\n",
       "      <td>0</td>\n",
       "      <td>0</td>\n",
       "      <td>0</td>\n",
       "      <td>0</td>\n",
       "      <td>...</td>\n",
       "      <td>0</td>\n",
       "      <td>0</td>\n",
       "      <td>0</td>\n",
       "      <td>0</td>\n",
       "      <td>0</td>\n",
       "      <td>0</td>\n",
       "      <td>0</td>\n",
       "      <td>0</td>\n",
       "      <td>0</td>\n",
       "      <td>0</td>\n",
       "    </tr>\n",
       "    <tr>\n",
       "      <th>47646</th>\n",
       "      <td>0</td>\n",
       "      <td>0</td>\n",
       "      <td>1</td>\n",
       "      <td>0</td>\n",
       "      <td>1</td>\n",
       "      <td>0</td>\n",
       "      <td>0</td>\n",
       "      <td>0</td>\n",
       "      <td>0</td>\n",
       "      <td>0</td>\n",
       "      <td>...</td>\n",
       "      <td>0</td>\n",
       "      <td>0</td>\n",
       "      <td>0</td>\n",
       "      <td>0</td>\n",
       "      <td>0</td>\n",
       "      <td>0</td>\n",
       "      <td>0</td>\n",
       "      <td>0</td>\n",
       "      <td>0</td>\n",
       "      <td>0</td>\n",
       "    </tr>\n",
       "    <tr>\n",
       "      <th>47647</th>\n",
       "      <td>1</td>\n",
       "      <td>0</td>\n",
       "      <td>0</td>\n",
       "      <td>0</td>\n",
       "      <td>1</td>\n",
       "      <td>0</td>\n",
       "      <td>0</td>\n",
       "      <td>0</td>\n",
       "      <td>0</td>\n",
       "      <td>0</td>\n",
       "      <td>...</td>\n",
       "      <td>1</td>\n",
       "      <td>0</td>\n",
       "      <td>0</td>\n",
       "      <td>0</td>\n",
       "      <td>0</td>\n",
       "      <td>0</td>\n",
       "      <td>0</td>\n",
       "      <td>0</td>\n",
       "      <td>0</td>\n",
       "      <td>0</td>\n",
       "    </tr>\n",
       "  </tbody>\n",
       "</table>\n",
       "<p>47648 rows × 300 columns</p>\n",
       "</div>"
      ],
      "text/plain": [
       "       musk  sandalwood  jasmine  amber  patchouli  rose  vanilla  cedar  \\\n",
       "0         0           1        0      1          0     0        0      0   \n",
       "1         1           0        0      1          0     1        0      0   \n",
       "2         0           1        0      0          0     1        0      0   \n",
       "3         0           0        0      0          0     0        0      0   \n",
       "4         0           1        0      1          0     0        0      0   \n",
       "...     ...         ...      ...    ...        ...   ...      ...    ...   \n",
       "47643     0           1        0      0          1     0        1      0   \n",
       "47644     1           0        1      1          0     1        0      0   \n",
       "47645     0           1        0      1          0     0        0      0   \n",
       "47646     0           0        1      0          1     0        0      0   \n",
       "47647     1           0        0      0          1     0        0      0   \n",
       "\n",
       "       bergamot  vetiver  ...  pink_peony  exotic_woods  fennel  white_lily  \\\n",
       "0             1        0  ...           0             0       0           0   \n",
       "1             0        0  ...           0             0       0           0   \n",
       "2             0        0  ...           0             0       0           0   \n",
       "3             0        0  ...           0             0       0           0   \n",
       "4             0        1  ...           0             0       0           0   \n",
       "...         ...      ...  ...         ...           ...     ...         ...   \n",
       "47643         0        0  ...           0             0       0           0   \n",
       "47644         0        0  ...           0             0       0           0   \n",
       "47645         0        0  ...           0             0       0           0   \n",
       "47646         0        0  ...           0             0       0           0   \n",
       "47647         0        0  ...           1             0       0           0   \n",
       "\n",
       "       tomato_leaf  clover  sea_salt  rice  red_rose  other_notes  \n",
       "0                0       0         0     0         0            1  \n",
       "1                0       0         0     0         0            0  \n",
       "2                0       0         0     0         0            0  \n",
       "3                0       0         0     0         0            0  \n",
       "4                0       0         0     0         0            0  \n",
       "...            ...     ...       ...   ...       ...          ...  \n",
       "47643            0       0         0     0         0            0  \n",
       "47644            0       0         0     0         0            0  \n",
       "47645            0       0         0     0         0            0  \n",
       "47646            0       0         0     0         0            0  \n",
       "47647            0       0         0     0         0            0  \n",
       "\n",
       "[47648 rows x 300 columns]"
      ]
     },
     "execution_count": 4,
     "metadata": {},
     "output_type": "execute_result"
    }
   ],
   "source": [
    "# Select the columns\n",
    "notes_columns = df.iloc[:,:-1]\n",
    "notes_columns"
   ]
  },
  {
   "cell_type": "code",
   "execution_count": 5,
   "metadata": {},
   "outputs": [
    {
     "name": "stdout",
     "output_type": "stream",
     "text": [
      "PCA(copy=True, iterated_power='auto', n_components=None, random_state=None,\n",
      "    svd_solver='auto', tol=0.0, whiten=False)\n"
     ]
    }
   ],
   "source": [
    "notes_pca = PCA().fit(notes_columns)\n",
    "print(notes_pca)"
   ]
  },
  {
   "cell_type": "code",
   "execution_count": 6,
   "metadata": {},
   "outputs": [
    {
     "name": "stdout",
     "output_type": "stream",
     "text": [
      "PCA(copy=True, iterated_power='auto', n_components=None, random_state=None,\n",
      "    svd_solver='auto', tol=0.0, whiten=False)\n"
     ]
    },
    {
     "data": {
      "text/plain": [
       "array([0.0804832 , 0.1364319 , 0.1710333 , 0.20300796, 0.23074793,\n",
       "       0.25771136, 0.28347223, 0.30750411, 0.32936958, 0.34844006,\n",
       "       0.36475679, 0.37919775, 0.39308492, 0.40604428, 0.41817199,\n",
       "       0.42986704, 0.44137458, 0.45241748, 0.46260852, 0.47275061,\n",
       "       0.48259756, 0.49228096, 0.50131104, 0.50992998, 0.51848851,\n",
       "       0.52665036, 0.5347182 , 0.54256253, 0.55024285, 0.55776002,\n",
       "       0.56494405, 0.5719246 , 0.57875832, 0.58544397, 0.59207964,\n",
       "       0.59851552, 0.60485107, 0.6111127 , 0.61720019, 0.62327688,\n",
       "       0.62904388, 0.63473929, 0.64016574, 0.6455205 , 0.65079018,\n",
       "       0.65600395, 0.66112767, 0.66597454, 0.67077224, 0.67547124,\n",
       "       0.68006592, 0.68456433, 0.68902389, 0.69337596, 0.69763352,\n",
       "       0.7017582 , 0.7058543 , 0.70990561, 0.7139007 , 0.71777448,\n",
       "       0.72163771, 0.72540283, 0.72908402, 0.73274202, 0.73634912,\n",
       "       0.7399242 , 0.74345142, 0.74692256, 0.75032054, 0.75365212,\n",
       "       0.75695075, 0.76019087, 0.76339965, 0.76655392, 0.76967876,\n",
       "       0.77274021, 0.77574354, 0.77869696, 0.7815303 , 0.78433347,\n",
       "       0.78711167, 0.78987124, 0.79257472, 0.79520471, 0.79779386,\n",
       "       0.80035514, 0.80285532, 0.80532156, 0.80776471, 0.81017069,\n",
       "       0.81250818, 0.8148071 , 0.81707128, 0.8193212 , 0.82154372,\n",
       "       0.82368784, 0.82581342, 0.82791334, 0.82999624, 0.83204579])"
      ]
     },
     "execution_count": 6,
     "metadata": {},
     "output_type": "execute_result"
    }
   ],
   "source": [
    "print(notes_pca)\n",
    "notes_pca.explained_variance_ratio_.cumsum()[0:100]"
   ]
  },
  {
   "cell_type": "code",
   "execution_count": 7,
   "metadata": {},
   "outputs": [
    {
     "data": {
      "image/png": "[encoded data removed]",
      "text/plain": [
       "<Figure size 720x432 with 1 Axes>"
      ]
     },
     "metadata": {
      "needs_background": "light"
     },
     "output_type": "display_data"
    }
   ],
   "source": [
    "plt.subplots(figsize=(10, 6))\n",
    "plt.plot(notes_pca.explained_variance_ratio_.cumsum())\n",
    "plt.xlabel('Component #')\n",
    "plt.ylabel('Cumulative ratio variance')\n",
    "plt.title('Cumulative variance ratio explained by PCA components for notes in a perfume');"
   ]
  },
  {
   "cell_type": "code",
   "execution_count": 8,
   "metadata": {},
   "outputs": [],
   "source": [
    "notes_pca_x = notes_pca.transform(notes_columns)"
   ]
  },
  {
   "cell_type": "code",
   "execution_count": 9,
   "metadata": {},
   "outputs": [
    {
     "data": {
      "text/plain": [
       "(47648, 300)"
      ]
     },
     "execution_count": 9,
     "metadata": {},
     "output_type": "execute_result"
    }
   ],
   "source": [
    "notes_pca_x.shape"
   ]
  },
  {
   "cell_type": "code",
   "execution_count": 10,
   "metadata": {},
   "outputs": [],
   "source": [
    "notes_pca_selected_x = pd.DataFrame(notes_pca_x[:,:100])"
   ]
  },
  {
   "cell_type": "code",
   "execution_count": 11,
   "metadata": {},
   "outputs": [
    {
     "data": {
      "text/plain": [
       "(47648, 100)"
      ]
     },
     "execution_count": 11,
     "metadata": {},
     "output_type": "execute_result"
    }
   ],
   "source": [
    "notes_pca_selected_x.shape"
   ]
  },
  {
   "cell_type": "markdown",
   "metadata": {},
   "source": [
    "Let's pick up only the top 100 PCA columns."
   ]
  },
  {
   "cell_type": "code",
   "execution_count": 12,
   "metadata": {},
   "outputs": [
    {
     "data": {
      "text/html": [
       "<div>\n",
       "<style scoped>\n",
       "    .dataframe tbody tr th:only-of-type {\n",
       "        vertical-align: middle;\n",
       "    }\n",
       "\n",
       "    .dataframe tbody tr th {\n",
       "        vertical-align: top;\n",
       "    }\n",
       "\n",
       "    .dataframe thead th {\n",
       "        text-align: right;\n",
       "    }\n",
       "</style>\n",
       "<table border=\"1\" class=\"dataframe\">\n",
       "  <thead>\n",
       "    <tr style=\"text-align: right;\">\n",
       "      <th></th>\n",
       "      <th>0</th>\n",
       "      <th>1</th>\n",
       "      <th>2</th>\n",
       "      <th>3</th>\n",
       "      <th>4</th>\n",
       "      <th>5</th>\n",
       "      <th>6</th>\n",
       "      <th>7</th>\n",
       "      <th>8</th>\n",
       "      <th>9</th>\n",
       "      <th>...</th>\n",
       "      <th>290</th>\n",
       "      <th>291</th>\n",
       "      <th>292</th>\n",
       "      <th>293</th>\n",
       "      <th>294</th>\n",
       "      <th>295</th>\n",
       "      <th>296</th>\n",
       "      <th>297</th>\n",
       "      <th>298</th>\n",
       "      <th>299</th>\n",
       "    </tr>\n",
       "  </thead>\n",
       "  <tbody>\n",
       "    <tr>\n",
       "      <th>musk</th>\n",
       "      <td>-0.094052</td>\n",
       "      <td>0.443414</td>\n",
       "      <td>-0.593046</td>\n",
       "      <td>0.483178</td>\n",
       "      <td>0.055082</td>\n",
       "      <td>0.357836</td>\n",
       "      <td>0.148941</td>\n",
       "      <td>-0.080370</td>\n",
       "      <td>-0.085290</td>\n",
       "      <td>0.017582</td>\n",
       "      <td>...</td>\n",
       "      <td>-0.000782</td>\n",
       "      <td>0.000103</td>\n",
       "      <td>-0.000448</td>\n",
       "      <td>0.000700</td>\n",
       "      <td>0.000148</td>\n",
       "      <td>0.000164</td>\n",
       "      <td>-0.000373</td>\n",
       "      <td>0.000561</td>\n",
       "      <td>0.000318</td>\n",
       "      <td>-0.000965</td>\n",
       "    </tr>\n",
       "    <tr>\n",
       "      <th>sandalwood</th>\n",
       "      <td>-0.062925</td>\n",
       "      <td>0.378746</td>\n",
       "      <td>0.126419</td>\n",
       "      <td>-0.113320</td>\n",
       "      <td>0.736658</td>\n",
       "      <td>-0.365606</td>\n",
       "      <td>0.061511</td>\n",
       "      <td>-0.308910</td>\n",
       "      <td>-0.112953</td>\n",
       "      <td>-0.114556</td>\n",
       "      <td>...</td>\n",
       "      <td>-0.000557</td>\n",
       "      <td>0.000885</td>\n",
       "      <td>-0.000904</td>\n",
       "      <td>0.000417</td>\n",
       "      <td>-0.000228</td>\n",
       "      <td>0.000253</td>\n",
       "      <td>-0.000379</td>\n",
       "      <td>-0.001101</td>\n",
       "      <td>0.000021</td>\n",
       "      <td>0.000717</td>\n",
       "    </tr>\n",
       "    <tr>\n",
       "      <th>jasmine</th>\n",
       "      <td>-0.106330</td>\n",
       "      <td>0.430112</td>\n",
       "      <td>-0.050456</td>\n",
       "      <td>-0.421082</td>\n",
       "      <td>-0.198914</td>\n",
       "      <td>0.037416</td>\n",
       "      <td>-0.342868</td>\n",
       "      <td>0.369522</td>\n",
       "      <td>-0.431375</td>\n",
       "      <td>-0.210785</td>\n",
       "      <td>...</td>\n",
       "      <td>0.001233</td>\n",
       "      <td>-0.000303</td>\n",
       "      <td>0.000128</td>\n",
       "      <td>0.001150</td>\n",
       "      <td>0.000358</td>\n",
       "      <td>-0.000968</td>\n",
       "      <td>0.000305</td>\n",
       "      <td>-0.001368</td>\n",
       "      <td>0.000837</td>\n",
       "      <td>-0.000585</td>\n",
       "    </tr>\n",
       "    <tr>\n",
       "      <th>amber</th>\n",
       "      <td>-0.061760</td>\n",
       "      <td>0.298833</td>\n",
       "      <td>0.102919</td>\n",
       "      <td>0.374825</td>\n",
       "      <td>-0.482427</td>\n",
       "      <td>-0.701983</td>\n",
       "      <td>0.131926</td>\n",
       "      <td>0.015483</td>\n",
       "      <td>0.005760</td>\n",
       "      <td>-0.018822</td>\n",
       "      <td>...</td>\n",
       "      <td>-0.000296</td>\n",
       "      <td>0.000746</td>\n",
       "      <td>0.000482</td>\n",
       "      <td>-0.000128</td>\n",
       "      <td>-0.000699</td>\n",
       "      <td>0.001132</td>\n",
       "      <td>0.000075</td>\n",
       "      <td>-0.000046</td>\n",
       "      <td>0.000066</td>\n",
       "      <td>0.000083</td>\n",
       "    </tr>\n",
       "    <tr>\n",
       "      <th>patchouli</th>\n",
       "      <td>-0.033467</td>\n",
       "      <td>0.193300</td>\n",
       "      <td>0.553954</td>\n",
       "      <td>0.144054</td>\n",
       "      <td>-0.239173</td>\n",
       "      <td>0.417637</td>\n",
       "      <td>0.013443</td>\n",
       "      <td>-0.439422</td>\n",
       "      <td>-0.229666</td>\n",
       "      <td>-0.266696</td>\n",
       "      <td>...</td>\n",
       "      <td>-0.000627</td>\n",
       "      <td>0.001051</td>\n",
       "      <td>0.000830</td>\n",
       "      <td>-0.000206</td>\n",
       "      <td>-0.000406</td>\n",
       "      <td>-0.000795</td>\n",
       "      <td>0.000813</td>\n",
       "      <td>-0.000685</td>\n",
       "      <td>-0.000054</td>\n",
       "      <td>-0.000670</td>\n",
       "    </tr>\n",
       "    <tr>\n",
       "      <th>...</th>\n",
       "      <td>...</td>\n",
       "      <td>...</td>\n",
       "      <td>...</td>\n",
       "      <td>...</td>\n",
       "      <td>...</td>\n",
       "      <td>...</td>\n",
       "      <td>...</td>\n",
       "      <td>...</td>\n",
       "      <td>...</td>\n",
       "      <td>...</td>\n",
       "      <td>...</td>\n",
       "      <td>...</td>\n",
       "      <td>...</td>\n",
       "      <td>...</td>\n",
       "      <td>...</td>\n",
       "      <td>...</td>\n",
       "      <td>...</td>\n",
       "      <td>...</td>\n",
       "      <td>...</td>\n",
       "      <td>...</td>\n",
       "      <td>...</td>\n",
       "    </tr>\n",
       "    <tr>\n",
       "      <th>clover</th>\n",
       "      <td>0.001410</td>\n",
       "      <td>-0.000215</td>\n",
       "      <td>-0.000162</td>\n",
       "      <td>0.000031</td>\n",
       "      <td>0.000073</td>\n",
       "      <td>-0.001103</td>\n",
       "      <td>-0.001031</td>\n",
       "      <td>0.000055</td>\n",
       "      <td>-0.000841</td>\n",
       "      <td>0.001870</td>\n",
       "      <td>...</td>\n",
       "      <td>-0.198423</td>\n",
       "      <td>-0.132273</td>\n",
       "      <td>0.277932</td>\n",
       "      <td>0.317191</td>\n",
       "      <td>0.687755</td>\n",
       "      <td>-0.268271</td>\n",
       "      <td>-0.225081</td>\n",
       "      <td>0.061089</td>\n",
       "      <td>0.209799</td>\n",
       "      <td>0.069522</td>\n",
       "    </tr>\n",
       "    <tr>\n",
       "      <th>sea_salt</th>\n",
       "      <td>0.001702</td>\n",
       "      <td>-0.000899</td>\n",
       "      <td>-0.001141</td>\n",
       "      <td>0.001202</td>\n",
       "      <td>0.000475</td>\n",
       "      <td>0.000409</td>\n",
       "      <td>-0.000659</td>\n",
       "      <td>0.000928</td>\n",
       "      <td>-0.000654</td>\n",
       "      <td>0.000832</td>\n",
       "      <td>...</td>\n",
       "      <td>-0.217718</td>\n",
       "      <td>-0.217026</td>\n",
       "      <td>0.298952</td>\n",
       "      <td>-0.210962</td>\n",
       "      <td>-0.151443</td>\n",
       "      <td>-0.060192</td>\n",
       "      <td>0.344979</td>\n",
       "      <td>-0.231764</td>\n",
       "      <td>0.424217</td>\n",
       "      <td>0.533000</td>\n",
       "    </tr>\n",
       "    <tr>\n",
       "      <th>rice</th>\n",
       "      <td>-0.000113</td>\n",
       "      <td>-0.000945</td>\n",
       "      <td>-0.001267</td>\n",
       "      <td>-0.001205</td>\n",
       "      <td>0.000421</td>\n",
       "      <td>-0.000517</td>\n",
       "      <td>-0.000434</td>\n",
       "      <td>-0.000947</td>\n",
       "      <td>0.000825</td>\n",
       "      <td>0.000517</td>\n",
       "      <td>...</td>\n",
       "      <td>-0.051172</td>\n",
       "      <td>0.193250</td>\n",
       "      <td>0.523393</td>\n",
       "      <td>0.434226</td>\n",
       "      <td>-0.010128</td>\n",
       "      <td>0.436170</td>\n",
       "      <td>0.359938</td>\n",
       "      <td>-0.199284</td>\n",
       "      <td>-0.181873</td>\n",
       "      <td>-0.230823</td>\n",
       "    </tr>\n",
       "    <tr>\n",
       "      <th>red_rose</th>\n",
       "      <td>0.001162</td>\n",
       "      <td>0.000547</td>\n",
       "      <td>-0.000033</td>\n",
       "      <td>-0.000601</td>\n",
       "      <td>0.000187</td>\n",
       "      <td>-0.000852</td>\n",
       "      <td>0.001648</td>\n",
       "      <td>-0.000740</td>\n",
       "      <td>-0.001874</td>\n",
       "      <td>-0.000561</td>\n",
       "      <td>...</td>\n",
       "      <td>0.436571</td>\n",
       "      <td>-0.238247</td>\n",
       "      <td>0.142004</td>\n",
       "      <td>0.142859</td>\n",
       "      <td>-0.110549</td>\n",
       "      <td>-0.054530</td>\n",
       "      <td>0.317609</td>\n",
       "      <td>0.555932</td>\n",
       "      <td>0.354945</td>\n",
       "      <td>-0.178062</td>\n",
       "    </tr>\n",
       "    <tr>\n",
       "      <th>other_notes</th>\n",
       "      <td>0.974837</td>\n",
       "      <td>0.211623</td>\n",
       "      <td>-0.017821</td>\n",
       "      <td>-0.017014</td>\n",
       "      <td>-0.020027</td>\n",
       "      <td>0.005461</td>\n",
       "      <td>-0.004011</td>\n",
       "      <td>0.006438</td>\n",
       "      <td>0.015279</td>\n",
       "      <td>-0.001001</td>\n",
       "      <td>...</td>\n",
       "      <td>-0.000623</td>\n",
       "      <td>0.000488</td>\n",
       "      <td>-0.000824</td>\n",
       "      <td>0.000676</td>\n",
       "      <td>-0.000953</td>\n",
       "      <td>0.000779</td>\n",
       "      <td>-0.000988</td>\n",
       "      <td>-0.000291</td>\n",
       "      <td>-0.000105</td>\n",
       "      <td>-0.001273</td>\n",
       "    </tr>\n",
       "  </tbody>\n",
       "</table>\n",
       "<p>300 rows × 300 columns</p>\n",
       "</div>"
      ],
      "text/plain": [
       "                  0         1         2         3         4         5    \\\n",
       "musk        -0.094052  0.443414 -0.593046  0.483178  0.055082  0.357836   \n",
       "sandalwood  -0.062925  0.378746  0.126419 -0.113320  0.736658 -0.365606   \n",
       "jasmine     -0.106330  0.430112 -0.050456 -0.421082 -0.198914  0.037416   \n",
       "amber       -0.061760  0.298833  0.102919  0.374825 -0.482427 -0.701983   \n",
       "patchouli   -0.033467  0.193300  0.553954  0.144054 -0.239173  0.417637   \n",
       "...               ...       ...       ...       ...       ...       ...   \n",
       "clover       0.001410 -0.000215 -0.000162  0.000031  0.000073 -0.001103   \n",
       "sea_salt     0.001702 -0.000899 -0.001141  0.001202  0.000475  0.000409   \n",
       "rice        -0.000113 -0.000945 -0.001267 -0.001205  0.000421 -0.000517   \n",
       "red_rose     0.001162  0.000547 -0.000033 -0.000601  0.000187 -0.000852   \n",
       "other_notes  0.974837  0.211623 -0.017821 -0.017014 -0.020027  0.005461   \n",
       "\n",
       "                  6         7         8         9    ...       290       291  \\\n",
       "musk         0.148941 -0.080370 -0.085290  0.017582  ... -0.000782  0.000103   \n",
       "sandalwood   0.061511 -0.308910 -0.112953 -0.114556  ... -0.000557  0.000885   \n",
       "jasmine     -0.342868  0.369522 -0.431375 -0.210785  ...  0.001233 -0.000303   \n",
       "amber        0.131926  0.015483  0.005760 -0.018822  ... -0.000296  0.000746   \n",
       "patchouli    0.013443 -0.439422 -0.229666 -0.266696  ... -0.000627  0.001051   \n",
       "...               ...       ...       ...       ...  ...       ...       ...   \n",
       "clover      -0.001031  0.000055 -0.000841  0.001870  ... -0.198423 -0.132273   \n",
       "sea_salt    -0.000659  0.000928 -0.000654  0.000832  ... -0.217718 -0.217026   \n",
       "rice        -0.000434 -0.000947  0.000825  0.000517  ... -0.051172  0.193250   \n",
       "red_rose     0.001648 -0.000740 -0.001874 -0.000561  ...  0.436571 -0.238247   \n",
       "other_notes -0.004011  0.006438  0.015279 -0.001001  ... -0.000623  0.000488   \n",
       "\n",
       "                  292       293       294       295       296       297  \\\n",
       "musk        -0.000448  0.000700  0.000148  0.000164 -0.000373  0.000561   \n",
       "sandalwood  -0.000904  0.000417 -0.000228  0.000253 -0.000379 -0.001101   \n",
       "jasmine      0.000128  0.001150  0.000358 -0.000968  0.000305 -0.001368   \n",
       "amber        0.000482 -0.000128 -0.000699  0.001132  0.000075 -0.000046   \n",
       "patchouli    0.000830 -0.000206 -0.000406 -0.000795  0.000813 -0.000685   \n",
       "...               ...       ...       ...       ...       ...       ...   \n",
       "clover       0.277932  0.317191  0.687755 -0.268271 -0.225081  0.061089   \n",
       "sea_salt     0.298952 -0.210962 -0.151443 -0.060192  0.344979 -0.231764   \n",
       "rice         0.523393  0.434226 -0.010128  0.436170  0.359938 -0.199284   \n",
       "red_rose     0.142004  0.142859 -0.110549 -0.054530  0.317609  0.555932   \n",
       "other_notes -0.000824  0.000676 -0.000953  0.000779 -0.000988 -0.000291   \n",
       "\n",
       "                  298       299  \n",
       "musk         0.000318 -0.000965  \n",
       "sandalwood   0.000021  0.000717  \n",
       "jasmine      0.000837 -0.000585  \n",
       "amber        0.000066  0.000083  \n",
       "patchouli   -0.000054 -0.000670  \n",
       "...               ...       ...  \n",
       "clover       0.209799  0.069522  \n",
       "sea_salt     0.424217  0.533000  \n",
       "rice        -0.181873 -0.230823  \n",
       "red_rose     0.354945 -0.178062  \n",
       "other_notes -0.000105 -0.001273  \n",
       "\n",
       "[300 rows x 300 columns]"
      ]
     },
     "execution_count": 12,
     "metadata": {},
     "output_type": "execute_result"
    }
   ],
   "source": [
    "loadings = pd.DataFrame(notes_pca.components_.T, index=df.columns[0:-1])\n",
    "loadings"
   ]
  },
  {
   "cell_type": "markdown",
   "metadata": {},
   "source": [
    "## 4.5 Train/Test Split<a id='4.5_Train/Test_Split'></a>"
   ]
  },
  {
   "cell_type": "markdown",
   "metadata": {},
   "source": [
    "What partition sizes would you have with a 75/25 train/test split?"
   ]
  },
  {
   "cell_type": "code",
   "execution_count": 13,
   "metadata": {},
   "outputs": [
    {
     "data": {
      "text/plain": [
       "(35736.0, 11912.0)"
      ]
     },
     "execution_count": 13,
     "metadata": {},
     "output_type": "execute_result"
    }
   ],
   "source": [
    "len(df) * .75, len(df) * .25"
   ]
  },
  {
   "cell_type": "code",
   "execution_count": 14,
   "metadata": {},
   "outputs": [],
   "source": [
    "X_train, X_test, y_train, y_test = train_test_split(notes_pca_selected_x,   # df.drop(columns='label')\n",
    "                                                    df.label, test_size=0.25, \n",
    "                                                    random_state=47)"
   ]
  },
  {
   "cell_type": "code",
   "execution_count": 15,
   "metadata": {},
   "outputs": [
    {
     "data": {
      "text/plain": [
       "((35736, 100), (11912, 100))"
      ]
     },
     "execution_count": 15,
     "metadata": {},
     "output_type": "execute_result"
    }
   ],
   "source": [
    "X_train.shape, X_test.shape"
   ]
  },
  {
   "cell_type": "code",
   "execution_count": 16,
   "metadata": {},
   "outputs": [
    {
     "data": {
      "text/plain": [
       "((35736,), (11912,))"
      ]
     },
     "execution_count": 16,
     "metadata": {},
     "output_type": "execute_result"
    }
   ],
   "source": [
    "y_train.shape, y_test.shape"
   ]
  },
  {
   "cell_type": "code",
   "execution_count": 17,
   "metadata": {},
   "outputs": [
    {
     "data": {
      "text/plain": [
       "0     float64\n",
       "1     float64\n",
       "2     float64\n",
       "3     float64\n",
       "4     float64\n",
       "       ...   \n",
       "95    float64\n",
       "96    float64\n",
       "97    float64\n",
       "98    float64\n",
       "99    float64\n",
       "Length: 100, dtype: object"
      ]
     },
     "execution_count": 17,
     "metadata": {},
     "output_type": "execute_result"
    }
   ],
   "source": [
    "#Code task 2#\n",
    "#Check the `dtypes` attribute of `X_train` to verify all features are numeric\n",
    "X_train.dtypes"
   ]
  },
  {
   "cell_type": "code",
   "execution_count": 18,
   "metadata": {},
   "outputs": [
    {
     "data": {
      "text/plain": [
       "0     float64\n",
       "1     float64\n",
       "2     float64\n",
       "3     float64\n",
       "4     float64\n",
       "       ...   \n",
       "95    float64\n",
       "96    float64\n",
       "97    float64\n",
       "98    float64\n",
       "99    float64\n",
       "Length: 100, dtype: object"
      ]
     },
     "execution_count": 18,
     "metadata": {},
     "output_type": "execute_result"
    }
   ],
   "source": [
    "#Code task 3#\n",
    "#Repeat this check for the test split in `X_test`\n",
    "X_test.dtypes"
   ]
  },
  {
   "cell_type": "markdown",
   "metadata": {},
   "source": [
    "You have only numeric features in your X now!"
   ]
  },
  {
   "cell_type": "markdown",
   "metadata": {},
   "source": [
    "## 4.6 Base Model - Decision Tree Classifier<a id='4.6_Decision_Tree'></a>"
   ]
  },
  {
   "cell_type": "markdown",
   "metadata": {},
   "source": [
    "Let's start our classificaiton with the good old `DecisionTreeClassifier`."
   ]
  },
  {
   "cell_type": "code",
   "execution_count": 19,
   "metadata": {},
   "outputs": [],
   "source": [
    "# param_grid = {'max_depth': np.arange(1, 15)}\n",
    "\n",
    "# dtree_model = DecisionTreeClassifier()\n",
    "# dtree_cv = GridSearchCV(dtree_model, param_grid, cv=5)\n",
    "# dtree_cv.fit(X_train, y_train)\n",
    "# dtree_cv.best_params_"
   ]
  },
  {
   "cell_type": "code",
   "execution_count": 20,
   "metadata": {},
   "outputs": [],
   "source": [
    "best_dtree_model = DecisionTreeClassifier(max_depth=6, random_state=0)\n",
    "best_dtree_model.fit(X_train, y_train)\n",
    "dt_y_pred = best_dtree_model.predict(X_test)"
   ]
  },
  {
   "cell_type": "code",
   "execution_count": 21,
   "metadata": {},
   "outputs": [
    {
     "data": {
      "image/png": "[encoded data removed]",
      "text/plain": [
       "<Figure size 432x288 with 2 Axes>"
      ]
     },
     "metadata": {
      "needs_background": "light"
     },
     "output_type": "display_data"
    }
   ],
   "source": [
    "plot_confusion_matrix(best_dtree_model, X_test, y_test, display_labels=['Women', 'Men', 'Unisex'], cmap='Blues', normalize='true')\n",
    "plt.show();"
   ]
  },
  {
   "cell_type": "markdown",
   "metadata": {},
   "source": [
    "Evaluate the classifcation report."
   ]
  },
  {
   "cell_type": "code",
   "execution_count": 22,
   "metadata": {},
   "outputs": [
    {
     "name": "stdout",
     "output_type": "stream",
     "text": [
      "              precision    recall  f1-score   support\n",
      "\n",
      "           0       0.60      0.86      0.70      5992\n",
      "           1       0.48      0.52      0.50      2787\n",
      "           2       0.34      0.03      0.05      3133\n",
      "\n",
      "    accuracy                           0.56     11912\n",
      "   macro avg       0.47      0.47      0.42     11912\n",
      "weighted avg       0.50      0.56      0.48     11912\n",
      "\n"
     ]
    }
   ],
   "source": [
    "print(classification_report(y_test, dt_y_pred))"
   ]
  },
  {
   "cell_type": "markdown",
   "metadata": {},
   "source": [
    "This model is not good at classifying 'men' and 'unisex' genders. It does an absymal job with the 'unisex' gender.\n",
    "\n",
    "Let us keep this as a base model and try out other samples."
   ]
  },
  {
   "cell_type": "markdown",
   "metadata": {},
   "source": [
    "## 4.7 Initial Models<a id='4.7_Initial_Models'></a>"
   ]
  },
  {
   "cell_type": "markdown",
   "metadata": {},
   "source": [
    "### 4.7.1 KNN Model<a id='4.7.1_KNN'></a>"
   ]
  },
  {
   "cell_type": "code",
   "execution_count": 23,
   "metadata": {},
   "outputs": [],
   "source": [
    "# param_grid = {'n_neighbors': np.arange(1, 5)}\n",
    "\n",
    "# knn_model = KNeighborsClassifier() \n",
    "# knn_cv = GridSearchCV(knn_model, param_grid, cv=5)\n",
    "# knn_cv.fit(X_train, y_train)\n",
    "# knn_cv.best_params_"
   ]
  },
  {
   "cell_type": "code",
   "execution_count": 24,
   "metadata": {},
   "outputs": [],
   "source": [
    "best_knn_model = KNeighborsClassifier(n_neighbors=5)\n",
    "\n",
    "best_knn_model.fit(X_train, y_train)\n",
    "knn_y_pred = best_knn_model.predict(X_test)"
   ]
  },
  {
   "cell_type": "code",
   "execution_count": 25,
   "metadata": {},
   "outputs": [
    {
     "data": {
      "image/png": "[encoded data removed]",
      "text/plain": [
       "<Figure size 432x288 with 2 Axes>"
      ]
     },
     "metadata": {
      "needs_background": "light"
     },
     "output_type": "display_data"
    }
   ],
   "source": [
    "plot_confusion_matrix(best_knn_model, X_test, y_test, display_labels=['Women', 'Men', 'Unisex'], cmap='Blues', normalize='true')\n",
    "plt.show();"
   ]
  },
  {
   "cell_type": "code",
   "execution_count": 26,
   "metadata": {},
   "outputs": [
    {
     "name": "stdout",
     "output_type": "stream",
     "text": [
      "              precision    recall  f1-score   support\n",
      "\n",
      "           0       0.59      0.81      0.68      5992\n",
      "           1       0.50      0.38      0.43      2787\n",
      "           2       0.30      0.16      0.21      3133\n",
      "\n",
      "    accuracy                           0.54     11912\n",
      "   macro avg       0.46      0.45      0.44     11912\n",
      "weighted avg       0.49      0.54      0.50     11912\n",
      "\n"
     ]
    }
   ],
   "source": [
    "print(classification_report(y_test, knn_y_pred))"
   ]
  },
  {
   "cell_type": "markdown",
   "metadata": {},
   "source": [
    "### 4.7.2 Random Forest Model<a id='4.7.2_Random_Forest'></a>"
   ]
  },
  {
   "cell_type": "code",
   "execution_count": null,
   "metadata": {},
   "outputs": [],
   "source": [
    "n_est = [int(n) for n in np.logspace(start=2, stop=3, num=10)]\n",
    "\n",
    "param_grid = {'n_estimators': n_est}\n",
    "\n",
    "rf_model = RandomForestClassifier()\n",
    "rf_cv = GridSearchCV(rf_model, param_grid, cv=5)\n",
    "rf_cv.fit(X_train, y_train)\n",
    "rf_cv.best_params_"
   ]
  },
  {
   "cell_type": "code",
   "execution_count": 20,
   "metadata": {},
   "outputs": [],
   "source": [
    "best_rf_model = RandomForestClassifier(n_estimators=100)\n",
    "best_rf_model.fit(X_train, y_train)\n",
    "rf_y_pred = best_rf_model.predict(X_test)"
   ]
  },
  {
   "cell_type": "code",
   "execution_count": 22,
   "metadata": {},
   "outputs": [
    {
     "data": {
      "image/png": "[encoded data removed]",
      "text/plain": [
       "<Figure size 432x288 with 2 Axes>"
      ]
     },
     "metadata": {
      "needs_background": "light"
     },
     "output_type": "display_data"
    }
   ],
   "source": [
    "plot_confusion_matrix(best_rf_model, X_test, y_test, display_labels=['Women', 'Men', 'Unisex'], cmap='Blues', normalize='true')\n",
    "plt.show();"
   ]
  },
  {
   "cell_type": "code",
   "execution_count": 23,
   "metadata": {},
   "outputs": [
    {
     "name": "stdout",
     "output_type": "stream",
     "text": [
      "              precision    recall  f1-score   support\n",
      "\n",
      "           0       0.63      0.85      0.72      5992\n",
      "           1       0.54      0.53      0.53      2787\n",
      "           2       0.32      0.11      0.17      3133\n",
      "\n",
      "    accuracy                           0.58     11912\n",
      "   macro avg       0.50      0.50      0.47     11912\n",
      "weighted avg       0.53      0.58      0.53     11912\n",
      "\n"
     ]
    }
   ],
   "source": [
    "print(classification_report(y_test, rf_y_pred))"
   ]
  },
  {
   "cell_type": "markdown",
   "metadata": {},
   "source": [
    "### 4.7.3 AdaBoost Model<a id='4.7.3_Adaboost'></a>"
   ]
  },
  {
   "cell_type": "code",
   "execution_count": 24,
   "metadata": {},
   "outputs": [
    {
     "data": {
      "text/plain": [
       "{'n_estimators': 100}"
      ]
     },
     "execution_count": 24,
     "metadata": {},
     "output_type": "execute_result"
    }
   ],
   "source": [
    "n_est = [int(n) for n in np.logspace(start=1, stop=2, num=10)]\n",
    "\n",
    "param_grid = {'n_estimators': n_est}\n",
    "\n",
    "ab_model = AdaBoostClassifier(n_estimators=100)\n",
    "ab_cv = GridSearchCV(rf_model, param_grid, cv=5)\n",
    "ab_cv.fit(X_train, y_train)\n",
    "ab_cv.best_params_"
   ]
  },
  {
   "cell_type": "code",
   "execution_count": 23,
   "metadata": {},
   "outputs": [],
   "source": [
    "best_ab_model = RandomForestClassifier(n_estimators=100)\n",
    "best_ab_model.fit(X_train, y_train)\n",
    "rf_y_pred = best_ab_model.predict(X_test)"
   ]
  },
  {
   "cell_type": "code",
   "execution_count": 24,
   "metadata": {},
   "outputs": [
    {
     "data": {
      "image/png": "[encoded data removed]",
      "text/plain": [
       "<Figure size 432x288 with 2 Axes>"
      ]
     },
     "metadata": {
      "needs_background": "light"
     },
     "output_type": "display_data"
    }
   ],
   "source": [
    "plot_confusion_matrix(best_ab_model, X_test, y_test, display_labels=['Women', 'Men', 'Unisex'], cmap='Blues', normalize='true')\n",
    "plt.show();"
   ]
  },
  {
   "cell_type": "code",
   "execution_count": 25,
   "metadata": {},
   "outputs": [
    {
     "name": "stdout",
     "output_type": "stream",
     "text": [
      "              precision    recall  f1-score   support\n",
      "\n",
      "           0       0.63      0.85      0.73      5992\n",
      "           1       0.54      0.52      0.53      2787\n",
      "           2       0.35      0.12      0.18      3133\n",
      "\n",
      "    accuracy                           0.58     11912\n",
      "   macro avg       0.51      0.50      0.48     11912\n",
      "weighted avg       0.53      0.58      0.54     11912\n",
      "\n"
     ]
    }
   ],
   "source": [
    "print(classification_report(y_test, rf_y_pred))"
   ]
  },
  {
   "cell_type": "markdown",
   "metadata": {},
   "source": [
    "### 4.7.4 Logisitic Regression Model<a id='4.7.4_Logistic_Regression'></a>"
   ]
  },
  {
   "cell_type": "code",
   "execution_count": 24,
   "metadata": {},
   "outputs": [
    {
     "data": {
      "text/plain": [
       "{'n_estimators': 100}"
      ]
     },
     "execution_count": 24,
     "metadata": {},
     "output_type": "execute_result"
    }
   ],
   "source": [
    "n_est = [int(n) for n in np.logspace(start=1, stop=2, num=10)]\n",
    "\n",
    "param_grid = {'n_estimators': n_est}\n",
    "\n",
    "ab_model = LogisticRegression(C=1e5)\n",
    "ab_cv = GridSearchCV(rf_model, param_grid, cv=5)\n",
    "ab_cv.fit(X_train, y_train)\n",
    "ab_cv.best_params_"
   ]
  },
  {
   "cell_type": "code",
   "execution_count": 31,
   "metadata": {},
   "outputs": [],
   "source": [
    "best_lr_model = LogisticRegression(random_state=0)\n",
    "best_lr_model.fit(X_train, y_train)\n",
    "lr_y_pred = best_lr_model.predict(X_test)"
   ]
  },
  {
   "cell_type": "code",
   "execution_count": 29,
   "metadata": {},
   "outputs": [
    {
     "data": {
      "image/png": "[encoded data removed]",
      "text/plain": [
       "<Figure size 432x288 with 2 Axes>"
      ]
     },
     "metadata": {
      "needs_background": "light"
     },
     "output_type": "display_data"
    }
   ],
   "source": [
    "plot_confusion_matrix(best_lr_model, X_test, y_test, display_labels=['Women', 'Men', 'Unisex'], cmap='Blues', normalize='true')\n",
    "plt.show();"
   ]
  },
  {
   "cell_type": "code",
   "execution_count": 32,
   "metadata": {},
   "outputs": [
    {
     "name": "stdout",
     "output_type": "stream",
     "text": [
      "              precision    recall  f1-score   support\n",
      "\n",
      "           0       0.63      0.89      0.74      5992\n",
      "           1       0.56      0.54      0.55      2787\n",
      "           2       0.32      0.08      0.13      3133\n",
      "\n",
      "    accuracy                           0.59     11912\n",
      "   macro avg       0.51      0.50      0.47     11912\n",
      "weighted avg       0.53      0.59      0.53     11912\n",
      "\n"
     ]
    }
   ],
   "source": [
    "print(classification_report(y_test, lr_y_pred))"
   ]
  },
  {
   "cell_type": "markdown",
   "metadata": {},
   "source": [
    "### 4.7.5 SVC Model<a id='4.7.5_SVM'></a>"
   ]
  },
  {
   "cell_type": "code",
   "execution_count": 33,
   "metadata": {},
   "outputs": [],
   "source": [
    "best_sv_model = SVC()\n",
    "best_sv_model.fit(X_train, y_train)\n",
    "sv_y_pred = best_sv_model.predict(X_test)"
   ]
  },
  {
   "cell_type": "code",
   "execution_count": 34,
   "metadata": {},
   "outputs": [
    {
     "data": {
      "image/png": "[encoded data removed]",
      "text/plain": [
       "<Figure size 432x288 with 2 Axes>"
      ]
     },
     "metadata": {
      "needs_background": "light"
     },
     "output_type": "display_data"
    }
   ],
   "source": [
    "plot_confusion_matrix(best_sv_model, X_test, y_test, display_labels=['Women', 'Men', 'Unisex'], cmap='Blues', normalize='true')\n",
    "plt.show();"
   ]
  },
  {
   "cell_type": "code",
   "execution_count": 35,
   "metadata": {},
   "outputs": [
    {
     "name": "stdout",
     "output_type": "stream",
     "text": [
      "              precision    recall  f1-score   support\n",
      "\n",
      "           0       0.63      0.89      0.74      5992\n",
      "           1       0.55      0.56      0.56      2787\n",
      "           2       0.33      0.07      0.11      3133\n",
      "\n",
      "    accuracy                           0.60     11912\n",
      "   macro avg       0.51      0.51      0.47     11912\n",
      "weighted avg       0.54      0.60      0.53     11912\n",
      "\n"
     ]
    }
   ],
   "source": [
    "print(classification_report(y_test, sv_y_pred))"
   ]
  },
  {
   "cell_type": "markdown",
   "metadata": {},
   "source": [
    "## 4.8 Summary<a id='4.8_Summary'></a>"
   ]
  },
  {
   "cell_type": "markdown",
   "metadata": {},
   "source": [
    "All the models are failing in identifying the 'unisex' class. "
   ]
  }
 ],
 "metadata": {
  "kernelspec": {
   "display_name": "Python 3",
   "language": "python",
   "name": "python3"
  },
  "language_info": {
   "codemirror_mode": {
    "name": "ipython",
    "version": 3
   },
   "file_extension": ".py",
   "mimetype": "text/x-python",
   "name": "python",
   "nbconvert_exporter": "python",
   "pygments_lexer": "ipython3",
   "version": "3.7.6"
  }
 },
 "nbformat": 4,
 "nbformat_minor": 4
}
