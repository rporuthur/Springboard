{
 "cells": [
  {
   "cell_type": "markdown",
   "metadata": {},
   "source": [
    "# 3 Exploratory Data Analysis<a id='3_Exploratory_Data_Analysis'></a>"
   ]
  },
  {
   "cell_type": "markdown",
   "metadata": {},
   "source": [
    "## 3.1 Contents<a id='3.1_Contents'></a>\n",
    "* [3 Exploratory Data Analysis](#3_Exploratory_Data_Analysis)\n",
    "  * [3.1 Contents](#3.1_Contents)\n",
    "  * [3.2 Introduction](#3.2_Introduction)\n",
    "  * [3.3 Imports](#3.3_Imports)\n",
    "  * [3.4 Load The Data](#3.4_Load_The_Data)\n",
    "  * [3.5 Explore The Data](#3.5_Explore_The_Data)\n",
    "    * [3.5.1 Perfume usage Gender-wise](#3.5.1_gender_wise)\n",
    "    * [3.5.2 Popular Notes in Perfumes](#3.5.2_Perfume_Notes)\n",
    "      * [3.5.2.1 Collate Top/Middle/Base Notes](#3.5.2.1_Coallate_Notes)\n",
    "      * [3.5.2.2 Pick out commonly used notes in perfumes](#3.5.2.2_Top_Notes)\n",
    "      * [3.5.2.3 Visualize top 25 Notes by gender](#3.5.2.3_Top_25_gender)\n",
    "      * [3.5.2.4 Note Preference per gender](#3.5.2.4_Note_per_gender)\n",
    "  * [3.6 Summary](#3.6_Summary)"
   ]
  },
  {
   "cell_type": "markdown",
   "metadata": {},
   "source": [
    "## 3.2 Introduction<a id='3.2_Introduction'></a>"
   ]
  },
  {
   "cell_type": "markdown",
   "metadata": {},
   "source": [
    "We have data scraped from [fragrantica](https://www.fragrantica.com/) website which will help us determine the gender to market a new perfume to.\n",
    "\n",
    "The most important factor of a perfume are the _notes_ that make it up. We will feed a set of notes to our model and will be informed if the perfume will suit\n",
    "\n",
    "- female\n",
    "- male\n",
    "\n",
    "The data has been cleaned up.  We would like to do some initial exploration to understand how perfumes are recived across the gender spectrum."
   ]
  },
  {
   "cell_type": "markdown",
   "metadata": {},
   "source": [
    "## 3.3 Imports<a id='3.3_Imports'></a>"
   ]
  },
  {
   "cell_type": "code",
   "execution_count": 318,
   "metadata": {},
   "outputs": [],
   "source": [
    "import pandas as pd\n",
    "import numpy as np\n",
    "import missingno as msno\n",
    "import re \n",
    "import os\n",
    "\n",
    "import matplotlib.pyplot as plt\n",
    "import seaborn as sns\n",
    "\n",
    "from sklearn.decomposition import PCA\n",
    "from sklearn.preprocessing import scale\n",
    "from scipy.stats import zscore\n"
   ]
  },
  {
   "cell_type": "markdown",
   "metadata": {},
   "source": [
    "## 3.4 Load The Data<a id='3.4_Load_The_Data'></a>"
   ]
  },
  {
   "cell_type": "code",
   "execution_count": 319,
   "metadata": {},
   "outputs": [],
   "source": [
    "perfume_data = pd.read_csv('../data/interim/perfume_labeled.csv')\n",
    "df = perfume_data.copy()"
   ]
  },
  {
   "cell_type": "code",
   "execution_count": 320,
   "metadata": {},
   "outputs": [
    {
     "data": {
      "text/plain": [
       "(47649, 22)"
      ]
     },
     "execution_count": 320,
     "metadata": {},
     "output_type": "execute_result"
    }
   ],
   "source": [
    "df.shape"
   ]
  },
  {
   "cell_type": "code",
   "execution_count": 321,
   "metadata": {},
   "outputs": [
    {
     "name": "stdout",
     "output_type": "stream",
     "text": [
      "<class 'pandas.core.frame.DataFrame'>\n",
      "RangeIndex: 47649 entries, 0 to 47648\n",
      "Data columns (total 22 columns):\n",
      " #   Column    Non-Null Count  Dtype \n",
      "---  ------    --------------  ----- \n",
      " 0   title     47649 non-null  object\n",
      " 1   notes_1   45424 non-null  object\n",
      " 2   notes_2   43905 non-null  object\n",
      " 3   notes_3   41122 non-null  object\n",
      " 4   notes_4   38243 non-null  object\n",
      " 5   notes_5   34903 non-null  object\n",
      " 6   notes_6   31169 non-null  object\n",
      " 7   notes_7   27265 non-null  object\n",
      " 8   notes_8   22753 non-null  object\n",
      " 9   notes_9   16563 non-null  object\n",
      " 10  notes_10  12322 non-null  object\n",
      " 11  notes_11  9188 non-null   object\n",
      " 12  notes_12  6678 non-null   object\n",
      " 13  notes_13  5000 non-null   object\n",
      " 14  notes_14  3756 non-null   object\n",
      " 15  notes_15  2899 non-null   object\n",
      " 16  notes_16  2242 non-null   object\n",
      " 17  notes_17  1712 non-null   object\n",
      " 18  notes_18  1312 non-null   object\n",
      " 19  notes_19  992 non-null    object\n",
      " 20  notes_20  763 non-null    object\n",
      " 21  label     47649 non-null  object\n",
      "dtypes: object(22)\n",
      "memory usage: 8.0+ MB\n"
     ]
    }
   ],
   "source": [
    "df.info()"
   ]
  },
  {
   "cell_type": "code",
   "execution_count": 322,
   "metadata": {},
   "outputs": [
    {
     "data": {
      "text/html": [
       "<div>\n",
       "<style scoped>\n",
       "    .dataframe tbody tr th:only-of-type {\n",
       "        vertical-align: middle;\n",
       "    }\n",
       "\n",
       "    .dataframe tbody tr th {\n",
       "        vertical-align: top;\n",
       "    }\n",
       "\n",
       "    .dataframe thead th {\n",
       "        text-align: right;\n",
       "    }\n",
       "</style>\n",
       "<table border=\"1\" class=\"dataframe\">\n",
       "  <thead>\n",
       "    <tr style=\"text-align: right;\">\n",
       "      <th></th>\n",
       "      <th>title</th>\n",
       "      <th>notes_1</th>\n",
       "      <th>notes_2</th>\n",
       "      <th>notes_3</th>\n",
       "      <th>notes_4</th>\n",
       "      <th>notes_5</th>\n",
       "      <th>notes_6</th>\n",
       "      <th>notes_7</th>\n",
       "      <th>notes_8</th>\n",
       "      <th>notes_9</th>\n",
       "      <th>...</th>\n",
       "      <th>notes_12</th>\n",
       "      <th>notes_13</th>\n",
       "      <th>notes_14</th>\n",
       "      <th>notes_15</th>\n",
       "      <th>notes_16</th>\n",
       "      <th>notes_17</th>\n",
       "      <th>notes_18</th>\n",
       "      <th>notes_19</th>\n",
       "      <th>notes_20</th>\n",
       "      <th>label</th>\n",
       "    </tr>\n",
       "  </thead>\n",
       "  <tbody>\n",
       "    <tr>\n",
       "      <th>0</th>\n",
       "      <td>Aamal The Spirit of Dubai for women and men</td>\n",
       "      <td>Top1Bulgarian Rose</td>\n",
       "      <td>Top2Bergamot</td>\n",
       "      <td>Top3Fruits</td>\n",
       "      <td>Top4Agarwood (Oud)</td>\n",
       "      <td>Middle0Sandalwood</td>\n",
       "      <td>Middle1Agarwood (Oud)</td>\n",
       "      <td>Middle2Cypriol Oil or Nagarmotha</td>\n",
       "      <td>Middle3Benzoin</td>\n",
       "      <td>Base0Amber</td>\n",
       "      <td>...</td>\n",
       "      <td>Base3Moss</td>\n",
       "      <td>Base4Agarwood (Oud)</td>\n",
       "      <td>Base5Indian Oud</td>\n",
       "      <td>NaN</td>\n",
       "      <td>NaN</td>\n",
       "      <td>NaN</td>\n",
       "      <td>NaN</td>\n",
       "      <td>NaN</td>\n",
       "      <td>NaN</td>\n",
       "      <td>men</td>\n",
       "    </tr>\n",
       "    <tr>\n",
       "      <th>1</th>\n",
       "      <td>Aatifa Ajmal for women and men</td>\n",
       "      <td>Top1Rose</td>\n",
       "      <td>Top2Cumin</td>\n",
       "      <td>Middle0Amber</td>\n",
       "      <td>NaN</td>\n",
       "      <td>Base0Musk</td>\n",
       "      <td>Base1Amber</td>\n",
       "      <td>NaN</td>\n",
       "      <td>NaN</td>\n",
       "      <td>NaN</td>\n",
       "      <td>...</td>\n",
       "      <td>NaN</td>\n",
       "      <td>NaN</td>\n",
       "      <td>NaN</td>\n",
       "      <td>NaN</td>\n",
       "      <td>NaN</td>\n",
       "      <td>NaN</td>\n",
       "      <td>NaN</td>\n",
       "      <td>NaN</td>\n",
       "      <td>NaN</td>\n",
       "      <td>women</td>\n",
       "    </tr>\n",
       "    <tr>\n",
       "      <th>2</th>\n",
       "      <td>AA Al-Jazeera Perfumes for women and men</td>\n",
       "      <td>Top1Rose</td>\n",
       "      <td>Top2Sandalwood</td>\n",
       "      <td>Top3Apple</td>\n",
       "      <td>Top4Agarwood (Oud)</td>\n",
       "      <td>NaN</td>\n",
       "      <td>NaN</td>\n",
       "      <td>NaN</td>\n",
       "      <td>NaN</td>\n",
       "      <td>NaN</td>\n",
       "      <td>...</td>\n",
       "      <td>NaN</td>\n",
       "      <td>NaN</td>\n",
       "      <td>NaN</td>\n",
       "      <td>NaN</td>\n",
       "      <td>NaN</td>\n",
       "      <td>NaN</td>\n",
       "      <td>NaN</td>\n",
       "      <td>NaN</td>\n",
       "      <td>NaN</td>\n",
       "      <td>unisex</td>\n",
       "    </tr>\n",
       "    <tr>\n",
       "      <th>3</th>\n",
       "      <td>aarewasser Art of Scent - Swiss Perfumes for w...</td>\n",
       "      <td>Top1Green Tea</td>\n",
       "      <td>Top2White Flowers</td>\n",
       "      <td>NaN</td>\n",
       "      <td>NaN</td>\n",
       "      <td>NaN</td>\n",
       "      <td>NaN</td>\n",
       "      <td>NaN</td>\n",
       "      <td>NaN</td>\n",
       "      <td>NaN</td>\n",
       "      <td>...</td>\n",
       "      <td>NaN</td>\n",
       "      <td>NaN</td>\n",
       "      <td>NaN</td>\n",
       "      <td>NaN</td>\n",
       "      <td>NaN</td>\n",
       "      <td>NaN</td>\n",
       "      <td>NaN</td>\n",
       "      <td>NaN</td>\n",
       "      <td>NaN</td>\n",
       "      <td>unisex</td>\n",
       "    </tr>\n",
       "    <tr>\n",
       "      <th>4</th>\n",
       "      <td>Aaliyah Hamidi Oud &amp; Perfumes for women and men</td>\n",
       "      <td>Top1Amber</td>\n",
       "      <td>Top2Sandalwood</td>\n",
       "      <td>NaN</td>\n",
       "      <td>Top4Vetiver</td>\n",
       "      <td>Top5Saffron</td>\n",
       "      <td>NaN</td>\n",
       "      <td>NaN</td>\n",
       "      <td>NaN</td>\n",
       "      <td>NaN</td>\n",
       "      <td>...</td>\n",
       "      <td>NaN</td>\n",
       "      <td>NaN</td>\n",
       "      <td>NaN</td>\n",
       "      <td>NaN</td>\n",
       "      <td>NaN</td>\n",
       "      <td>NaN</td>\n",
       "      <td>NaN</td>\n",
       "      <td>NaN</td>\n",
       "      <td>NaN</td>\n",
       "      <td>unisex</td>\n",
       "    </tr>\n",
       "  </tbody>\n",
       "</table>\n",
       "<p>5 rows × 22 columns</p>\n",
       "</div>"
      ],
      "text/plain": [
       "                                               title             notes_1  \\\n",
       "0        Aamal The Spirit of Dubai for women and men  Top1Bulgarian Rose   \n",
       "1                     Aatifa Ajmal for women and men            Top1Rose   \n",
       "2           AA Al-Jazeera Perfumes for women and men            Top1Rose   \n",
       "3  aarewasser Art of Scent - Swiss Perfumes for w...       Top1Green Tea   \n",
       "4    Aaliyah Hamidi Oud & Perfumes for women and men           Top1Amber   \n",
       "\n",
       "             notes_2       notes_3             notes_4            notes_5  \\\n",
       "0       Top2Bergamot    Top3Fruits  Top4Agarwood (Oud)  Middle0Sandalwood   \n",
       "1          Top2Cumin  Middle0Amber                 NaN          Base0Musk   \n",
       "2     Top2Sandalwood     Top3Apple  Top4Agarwood (Oud)                NaN   \n",
       "3  Top2White Flowers           NaN                 NaN                NaN   \n",
       "4     Top2Sandalwood           NaN         Top4Vetiver        Top5Saffron   \n",
       "\n",
       "                 notes_6                           notes_7         notes_8  \\\n",
       "0  Middle1Agarwood (Oud)  Middle2Cypriol Oil or Nagarmotha  Middle3Benzoin   \n",
       "1             Base1Amber                               NaN             NaN   \n",
       "2                    NaN                               NaN             NaN   \n",
       "3                    NaN                               NaN             NaN   \n",
       "4                    NaN                               NaN             NaN   \n",
       "\n",
       "      notes_9  ...   notes_12             notes_13         notes_14 notes_15  \\\n",
       "0  Base0Amber  ...  Base3Moss  Base4Agarwood (Oud)  Base5Indian Oud      NaN   \n",
       "1         NaN  ...        NaN                  NaN              NaN      NaN   \n",
       "2         NaN  ...        NaN                  NaN              NaN      NaN   \n",
       "3         NaN  ...        NaN                  NaN              NaN      NaN   \n",
       "4         NaN  ...        NaN                  NaN              NaN      NaN   \n",
       "\n",
       "  notes_16 notes_17 notes_18 notes_19 notes_20   label  \n",
       "0      NaN      NaN      NaN      NaN      NaN     men  \n",
       "1      NaN      NaN      NaN      NaN      NaN   women  \n",
       "2      NaN      NaN      NaN      NaN      NaN  unisex  \n",
       "3      NaN      NaN      NaN      NaN      NaN  unisex  \n",
       "4      NaN      NaN      NaN      NaN      NaN  unisex  \n",
       "\n",
       "[5 rows x 22 columns]"
      ]
     },
     "execution_count": 322,
     "metadata": {},
     "output_type": "execute_result"
    }
   ],
   "source": [
    "df.head()"
   ]
  },
  {
   "cell_type": "markdown",
   "metadata": {},
   "source": [
    "## 3.5 Explore The Data<a id='3.5_Explore_The_Data'></a>"
   ]
  },
  {
   "cell_type": "markdown",
   "metadata": {},
   "source": [
    "### 3.5.1 Perfume usage Gender-wise<a id='3.5.1_gender_wise'></a>"
   ]
  },
  {
   "cell_type": "markdown",
   "metadata": {},
   "source": [
    "We need to know how these perfumes were marketed. Which gender was the intended customer segment?\n",
    "\n",
    "`title` column contains this information which can be retrieved to create a new `gender` column."
   ]
  },
  {
   "cell_type": "code",
   "execution_count": 323,
   "metadata": {},
   "outputs": [],
   "source": [
    "def find_gender(title):\n",
    "    \n",
    "    title = str(title)\n",
    "    unisex_text1 = \"women and men\"\n",
    "    unisex_text2 = \"men and women\"\n",
    "    women_text = \"women\"\n",
    "    men_text = \"men\"\n",
    "    \n",
    "    if unisex_text1 in title or unisex_text2 in title:\n",
    "        return \"unisex\"\n",
    "    elif women_text in title:\n",
    "        return \"women\"\n",
    "    elif men_text in title:\n",
    "        return \"men\"\n",
    "    else:\n",
    "        return np.nan"
   ]
  },
  {
   "cell_type": "code",
   "execution_count": 324,
   "metadata": {},
   "outputs": [],
   "source": [
    "df['gender'] = df.title.apply(find_gender)"
   ]
  },
  {
   "cell_type": "code",
   "execution_count": 325,
   "metadata": {},
   "outputs": [
    {
     "data": {
      "text/plain": [
       "women     22137\n",
       "unisex    16225\n",
       "men        9149\n",
       "Name: gender, dtype: int64"
      ]
     },
     "execution_count": 325,
     "metadata": {},
     "output_type": "execute_result"
    }
   ],
   "source": [
    "df.gender.value_counts()"
   ]
  },
  {
   "cell_type": "code",
   "execution_count": 326,
   "metadata": {},
   "outputs": [
    {
     "data": {
      "text/plain": [
       "array(['unisex', 'women', 'men', nan], dtype=object)"
      ]
     },
     "execution_count": 326,
     "metadata": {},
     "output_type": "execute_result"
    }
   ],
   "source": [
    "df.gender.unique()"
   ]
  },
  {
   "cell_type": "code",
   "execution_count": 327,
   "metadata": {},
   "outputs": [
    {
     "data": {
      "text/plain": [
       "138"
      ]
     },
     "execution_count": 327,
     "metadata": {},
     "output_type": "execute_result"
    }
   ],
   "source": [
    "df.gender.isnull().sum()"
   ]
  },
  {
   "cell_type": "markdown",
   "metadata": {},
   "source": [
    "We have **138** null values in our perfume. As most of the perfumes are marketed towards _women_, lets replace **nan** values with `women`. "
   ]
  },
  {
   "cell_type": "code",
   "execution_count": 328,
   "metadata": {},
   "outputs": [
    {
     "data": {
      "text/plain": [
       "0"
      ]
     },
     "execution_count": 328,
     "metadata": {},
     "output_type": "execute_result"
    }
   ],
   "source": [
    "df.gender.fillna('women', inplace=True)\n",
    "df.gender.isnull().sum()"
   ]
  },
  {
   "cell_type": "markdown",
   "metadata": {},
   "source": [
    "##### What is the percentage of perfumes in the market under each gender?"
   ]
  },
  {
   "cell_type": "markdown",
   "metadata": {},
   "source": [
    "We have two gender related information with us.\n",
    "- The gender marketed at by the manufacturers\n",
    "- The gender voted by customers\n",
    "\n",
    "How much does it differ?"
   ]
  },
  {
   "cell_type": "code",
   "execution_count": 330,
   "metadata": {},
   "outputs": [
    {
     "data": {
      "image/png": "[encoded data removed]",
      "text/plain": [
       "<Figure size 720x360 with 1 Axes>"
      ]
     },
     "metadata": {
      "needs_background": "light"
     },
     "output_type": "display_data"
    }
   ],
   "source": [
    "df_plot = df.groupby(['gender', 'label']).size().reset_index().pivot(columns='label', index='gender', values=0)\n",
    "df_plot.plot(kind='bar', stacked=True, figsize=(10,5))\n",
    "plt.title('Grouped by user votes')  \n",
    "plt.xlabel('Marketed Gender')\n",
    "plt.savefig('gender_label.png');"
   ]
  },
  {
   "cell_type": "markdown",
   "metadata": {},
   "source": [
    "There are more perfumes available in the *women* segment than all other segments. Even perfumes that are marketed as *unisex* are generally voted as more suited to *women* than *men*."
   ]
  },
  {
   "cell_type": "code",
   "execution_count": 354,
   "metadata": {},
   "outputs": [
    {
     "name": "stdout",
     "output_type": "stream",
     "text": [
      "Number of perfumes marketed for women: 22275\n",
      "Breakup of perfumes as per votes:\n",
      "women     17134\n",
      "unisex     4600\n",
      "men         541\n",
      "Name: label, dtype: int64\n",
      "\n",
      "\n",
      "Number of perfumes marketed for men: 9149\n",
      "Breakup of perfumes as per votes:\n",
      "men       6621\n",
      "unisex    2228\n",
      "women      300\n",
      "Name: label, dtype: int64\n",
      "\n",
      "\n",
      "Number of perfumes marketed for unisex: 16225\n",
      "Breakup of perfumes as per votes:\n",
      "women     6411\n",
      "unisex    5897\n",
      "men       3917\n",
      "Name: label, dtype: int64\n",
      "\n",
      "\n"
     ]
    }
   ],
   "source": [
    "# Check out the percentage values\n",
    "print(\"Number of perfumes marketed for women:\", len(df[df.gender == 'women']))\n",
    "print(\"Breakup of perfumes as per votes:\")\n",
    "print(df[df.gender == 'women']['label'].value_counts())\n",
    "print(\"\\n\")\n",
    "\n",
    "print(\"Number of perfumes marketed for men:\", len(df[df.gender == 'men']))\n",
    "print(\"Breakup of perfumes as per votes:\")\n",
    "print(df[df.gender == 'men']['label'].value_counts())\n",
    "print(\"\\n\")\n",
    "\n",
    "print(\"Number of perfumes marketed for unisex:\", len(df[df.gender == 'unisex']))\n",
    "print(\"Breakup of perfumes as per votes:\")\n",
    "print(df[df.gender == 'unisex']['label'].value_counts())\n",
    "print(\"\\n\")"
   ]
  },
  {
   "cell_type": "markdown",
   "metadata": {},
   "source": [
    "Have we got a balanced target feature?"
   ]
  },
  {
   "cell_type": "code",
   "execution_count": 333,
   "metadata": {},
   "outputs": [
    {
     "data": {
      "image/png": "[encoded data removed]",
      "text/plain": [
       "<Figure size 720x360 with 1 Axes>"
      ]
     },
     "metadata": {
      "needs_background": "light"
     },
     "output_type": "display_data"
    }
   ],
   "source": [
    "plt.figure(figsize=(10,5))\n",
    "sns.countplot(x=df.label)\n",
    "plt.title('Target Feature Spread')  \n",
    "plt.xlabel('Gender')\n",
    "plt.show();"
   ]
  },
  {
   "cell_type": "markdown",
   "metadata": {},
   "source": [
    "### 3.5.2 Popular Notes in Perfumes<a id='3.5.2_Perfume_Notes'></a>"
   ]
  },
  {
   "cell_type": "markdown",
   "metadata": {},
   "source": [
    "#### 3.5.2.1 Collate Top/Middle/Base Notes <a id='3.5.2.1_Coallate_Notes'></a>"
   ]
  },
  {
   "cell_type": "code",
   "execution_count": 334,
   "metadata": {},
   "outputs": [],
   "source": [
    "# Get all note column as a single field.\n",
    "notes_columns = ['notes_1', 'notes_2', 'notes_3', 'notes_4', 'notes_5', \n",
    "                 'notes_6', 'notes_7', 'notes_8', 'notes_9', 'notes_10', \n",
    "                 'notes_11', 'notes_12', 'notes_13', 'notes_14', 'notes_15', \n",
    "                 'notes_16', 'notes_17', 'notes_18', 'notes_19', 'notes_20']"
   ]
  },
  {
   "cell_type": "markdown",
   "metadata": {},
   "source": [
    "Time to take a look at the `Notes` fields. At present they are split into individual columns. \n",
    "\n",
    "Let's group them into _Top/Middle/Base_ notes for further processing."
   ]
  },
  {
   "cell_type": "code",
   "execution_count": 335,
   "metadata": {},
   "outputs": [],
   "source": [
    "def parse_values(note_string, layer):\n",
    "    substring = note_string[note_string.find(layer):note_string.find(',', note_string.rfind(layer))]\n",
    "    substring = re.sub(layer, '', substring)\n",
    "    return(re.sub(r'\\d', '', substring))"
   ]
  },
  {
   "cell_type": "code",
   "execution_count": 336,
   "metadata": {},
   "outputs": [],
   "source": [
    "df['notes'] = df[notes_columns].apply(lambda row: ','.join(row.values.astype(str)), axis=1)\n",
    "\n",
    "df['notes'] = df['notes'] + \" \"\n",
    "\n",
    "df['top_notes'] = df.notes.apply(parse_values, args= ('Top',))\n",
    "df['middle_notes'] = df.notes.apply(parse_values, args= ('Middle',))\n",
    "df['base_notes'] = df.notes.apply(parse_values, args= ('Base',))\n",
    "\n",
    "df['notes'] = df['notes'].str.strip()"
   ]
  },
  {
   "cell_type": "code",
   "execution_count": 337,
   "metadata": {},
   "outputs": [],
   "source": [
    "# Remove unneccessary values to get distinct Notes\n",
    "df['top_notes'] = df['top_notes'].map(lambda x: re.sub(r'Top|Middle|Base|\\d|\\,nan|nan,|\\(|\\)', '', x), na_action='ignore')\n",
    "df['middle_notes'] = df['middle_notes'].map(lambda x: re.sub(r'Top|Middle|Base|\\d|\\,nan|nan,|\\(|\\)', '', x), na_action='ignore')\n",
    "df['base_notes'] = df['base_notes'].map(lambda x: re.sub(r'Top|Middle|Base|\\d|\\,nan|nan,|\\(|\\)', '', x), na_action='ignore')\n",
    "df['notes'] = df['notes'].map(lambda x: re.sub(r'Top|Middle|Base|\\d|\\,nan|nan,|\\(|\\)', '', x), na_action='ignore')"
   ]
  },
  {
   "cell_type": "code",
   "execution_count": 338,
   "metadata": {},
   "outputs": [
    {
     "data": {
      "text/html": [
       "<div>\n",
       "<style scoped>\n",
       "    .dataframe tbody tr th:only-of-type {\n",
       "        vertical-align: middle;\n",
       "    }\n",
       "\n",
       "    .dataframe tbody tr th {\n",
       "        vertical-align: top;\n",
       "    }\n",
       "\n",
       "    .dataframe thead th {\n",
       "        text-align: right;\n",
       "    }\n",
       "</style>\n",
       "<table border=\"1\" class=\"dataframe\">\n",
       "  <thead>\n",
       "    <tr style=\"text-align: right;\">\n",
       "      <th></th>\n",
       "      <th>top_notes</th>\n",
       "      <th>middle_notes</th>\n",
       "      <th>base_notes</th>\n",
       "      <th>notes</th>\n",
       "    </tr>\n",
       "  </thead>\n",
       "  <tbody>\n",
       "    <tr>\n",
       "      <th>0</th>\n",
       "      <td>Bulgarian Rose,Bergamot,Fruits,Agarwood Oud</td>\n",
       "      <td>Sandalwood,Agarwood Oud,Cypriol Oil or Nagarmo...</td>\n",
       "      <td>Amber,Castoreum,Civet,Moss,Agarwood Oud,Indian...</td>\n",
       "      <td>Bulgarian Rose,Bergamot,Fruits,Agarwood Oud,Sa...</td>\n",
       "    </tr>\n",
       "    <tr>\n",
       "      <th>1</th>\n",
       "      <td>Rose,Cumin</td>\n",
       "      <td>Amber</td>\n",
       "      <td>Musk,Amber</td>\n",
       "      <td>Rose,Cumin,Amber,Musk,Amber</td>\n",
       "    </tr>\n",
       "    <tr>\n",
       "      <th>2</th>\n",
       "      <td>Rose,Sandalwood,Apple,Agarwood Oud</td>\n",
       "      <td></td>\n",
       "      <td></td>\n",
       "      <td>Rose,Sandalwood,Apple,Agarwood Oud</td>\n",
       "    </tr>\n",
       "    <tr>\n",
       "      <th>3</th>\n",
       "      <td>Green Tea,White Flowers</td>\n",
       "      <td></td>\n",
       "      <td></td>\n",
       "      <td>Green Tea,White Flowers</td>\n",
       "    </tr>\n",
       "    <tr>\n",
       "      <th>4</th>\n",
       "      <td>Amber,Sandalwood,Vetiver,Saffron</td>\n",
       "      <td></td>\n",
       "      <td></td>\n",
       "      <td>Amber,Sandalwood,Vetiver,Saffron</td>\n",
       "    </tr>\n",
       "    <tr>\n",
       "      <th>...</th>\n",
       "      <td>...</td>\n",
       "      <td>...</td>\n",
       "      <td>...</td>\n",
       "      <td>...</td>\n",
       "    </tr>\n",
       "    <tr>\n",
       "      <th>47644</th>\n",
       "      <td>Lavender,Coriander</td>\n",
       "      <td>Agarwood Oud,Myrrh,Labdanum,Incense</td>\n",
       "      <td>Patchouli,Sandalwood,Vanilla</td>\n",
       "      <td>Lavender,Coriander,Agarwood Oud,Myrrh,Labdanum...</td>\n",
       "    </tr>\n",
       "    <tr>\n",
       "      <th>47645</th>\n",
       "      <td>Sage</td>\n",
       "      <td>Mate,Rose,Jasmine,Orris</td>\n",
       "      <td>Cashmere Wood,Tonka Bean,Musk,Moss,Amber</td>\n",
       "      <td>Sage,Mate,Rose,Jasmine,Orris,Cashmere Wood,Ton...</td>\n",
       "    </tr>\n",
       "    <tr>\n",
       "      <th>47646</th>\n",
       "      <td>Lemon</td>\n",
       "      <td>Sage,Mint</td>\n",
       "      <td>Mahogany,Sandalwood,Amber</td>\n",
       "      <td>Lemon,Sage,Mint,Mahogany,Sandalwood,Amber</td>\n",
       "    </tr>\n",
       "    <tr>\n",
       "      <th>47647</th>\n",
       "      <td>Lemon,Ylang-Ylang</td>\n",
       "      <td>Jasmine,Cloves</td>\n",
       "      <td>Patchouli,White Musk</td>\n",
       "      <td>Lemon,Ylang-Ylang,Jasmine,Cloves,Patchouli,Whi...</td>\n",
       "    </tr>\n",
       "    <tr>\n",
       "      <th>47648</th>\n",
       "      <td>Lemon,Pear</td>\n",
       "      <td>Pink Peony,Violet,Lotus</td>\n",
       "      <td>Patchouli,Tonka Bean,Musk</td>\n",
       "      <td>Lemon,Pear,Pink Peony,Violet,Lotus,Patchouli,T...</td>\n",
       "    </tr>\n",
       "  </tbody>\n",
       "</table>\n",
       "<p>47649 rows × 4 columns</p>\n",
       "</div>"
      ],
      "text/plain": [
       "                                         top_notes  \\\n",
       "0      Bulgarian Rose,Bergamot,Fruits,Agarwood Oud   \n",
       "1                                       Rose,Cumin   \n",
       "2               Rose,Sandalwood,Apple,Agarwood Oud   \n",
       "3                          Green Tea,White Flowers   \n",
       "4                 Amber,Sandalwood,Vetiver,Saffron   \n",
       "...                                            ...   \n",
       "47644                           Lavender,Coriander   \n",
       "47645                                         Sage   \n",
       "47646                                        Lemon   \n",
       "47647                            Lemon,Ylang-Ylang   \n",
       "47648                                   Lemon,Pear   \n",
       "\n",
       "                                            middle_notes  \\\n",
       "0      Sandalwood,Agarwood Oud,Cypriol Oil or Nagarmo...   \n",
       "1                                                  Amber   \n",
       "2                                                          \n",
       "3                                                          \n",
       "4                                                          \n",
       "...                                                  ...   \n",
       "47644                Agarwood Oud,Myrrh,Labdanum,Incense   \n",
       "47645                            Mate,Rose,Jasmine,Orris   \n",
       "47646                                          Sage,Mint   \n",
       "47647                                     Jasmine,Cloves   \n",
       "47648                            Pink Peony,Violet,Lotus   \n",
       "\n",
       "                                              base_notes  \\\n",
       "0      Amber,Castoreum,Civet,Moss,Agarwood Oud,Indian...   \n",
       "1                                             Musk,Amber   \n",
       "2                                                          \n",
       "3                                                          \n",
       "4                                                          \n",
       "...                                                  ...   \n",
       "47644                       Patchouli,Sandalwood,Vanilla   \n",
       "47645           Cashmere Wood,Tonka Bean,Musk,Moss,Amber   \n",
       "47646                          Mahogany,Sandalwood,Amber   \n",
       "47647                               Patchouli,White Musk   \n",
       "47648                          Patchouli,Tonka Bean,Musk   \n",
       "\n",
       "                                                   notes  \n",
       "0      Bulgarian Rose,Bergamot,Fruits,Agarwood Oud,Sa...  \n",
       "1                            Rose,Cumin,Amber,Musk,Amber  \n",
       "2                     Rose,Sandalwood,Apple,Agarwood Oud  \n",
       "3                                Green Tea,White Flowers  \n",
       "4                       Amber,Sandalwood,Vetiver,Saffron  \n",
       "...                                                  ...  \n",
       "47644  Lavender,Coriander,Agarwood Oud,Myrrh,Labdanum...  \n",
       "47645  Sage,Mate,Rose,Jasmine,Orris,Cashmere Wood,Ton...  \n",
       "47646          Lemon,Sage,Mint,Mahogany,Sandalwood,Amber  \n",
       "47647  Lemon,Ylang-Ylang,Jasmine,Cloves,Patchouli,Whi...  \n",
       "47648  Lemon,Pear,Pink Peony,Violet,Lotus,Patchouli,T...  \n",
       "\n",
       "[47649 rows x 4 columns]"
      ]
     },
     "execution_count": 338,
     "metadata": {},
     "output_type": "execute_result"
    }
   ],
   "source": [
    "df[['top_notes', 'middle_notes', 'base_notes','notes']]"
   ]
  },
  {
   "cell_type": "markdown",
   "metadata": {},
   "source": [
    "Verify that the notes have been properly grouped."
   ]
  },
  {
   "cell_type": "code",
   "execution_count": 339,
   "metadata": {},
   "outputs": [
    {
     "data": {
      "text/plain": [
       "notes_1             Top1Lemon\n",
       "notes_2              Top2Pear\n",
       "notes_3     Middle0Pink Peony\n",
       "notes_4         Middle1Violet\n",
       "notes_5          Middle2Lotus\n",
       "notes_6        Base0Patchouli\n",
       "notes_7       Base1Tonka Bean\n",
       "notes_8             Base2Musk\n",
       "notes_9                   NaN\n",
       "notes_10                  NaN\n",
       "notes_11                  NaN\n",
       "notes_12                  NaN\n",
       "notes_13                  NaN\n",
       "notes_14                  NaN\n",
       "notes_15                  NaN\n",
       "notes_16                  NaN\n",
       "notes_17                  NaN\n",
       "notes_18                  NaN\n",
       "notes_19                  NaN\n",
       "notes_20                  NaN\n",
       "Name: 47648, dtype: object"
      ]
     },
     "execution_count": 339,
     "metadata": {},
     "output_type": "execute_result"
    }
   ],
   "source": [
    "df.loc[47648, notes_columns]"
   ]
  },
  {
   "cell_type": "markdown",
   "metadata": {},
   "source": [
    "Reverify that all 'nan' values are removed."
   ]
  },
  {
   "cell_type": "code",
   "execution_count": 340,
   "metadata": {},
   "outputs": [
    {
     "data": {
      "text/plain": [
       "Series([], Name: notes, dtype: object)"
      ]
     },
     "execution_count": 340,
     "metadata": {},
     "output_type": "execute_result"
    }
   ],
   "source": [
    "df.loc[df.notes.str.contains(r'\\bnan\\b'), 'notes']"
   ]
  },
  {
   "cell_type": "markdown",
   "metadata": {},
   "source": [
    "All 'nan' values have been taken care of.\n",
    "\n",
    "We have collected all the notes in a perfume to a single column. Let's save them as a list, rather than a comma separated string."
   ]
  },
  {
   "cell_type": "code",
   "execution_count": 341,
   "metadata": {},
   "outputs": [],
   "source": [
    "df['notes_list'] = df.notes.str.split(',')\n",
    "df['top_notes_list'] = df.top_notes.str.split(',')\n",
    "df['middle_notes_list'] = df.middle_notes.str.split(',')\n",
    "df['base_notes_list'] = df.base_notes.str.split(',')"
   ]
  },
  {
   "cell_type": "markdown",
   "metadata": {},
   "source": [
    "#### 3.5.2.2 Pick out commonly used notes in perfumes<a id='3.5.2.2_Top_Notes'></a>"
   ]
  },
  {
   "cell_type": "markdown",
   "metadata": {},
   "source": [
    "A perfume is made up of distinct notes/smells. Let's collect all the distinct *notes* in our dataset."
   ]
  },
  {
   "cell_type": "code",
   "execution_count": 342,
   "metadata": {},
   "outputs": [
    {
     "data": {
      "text/plain": [
       "1440"
      ]
     },
     "execution_count": 342,
     "metadata": {},
     "output_type": "execute_result"
    }
   ],
   "source": [
    "#look for all disitnct notes in our dataset\n",
    "notes_set = {note for row in df['notes'].astype(str) for note in row.split(',')}\n",
    "len(notes_set)"
   ]
  },
  {
   "cell_type": "markdown",
   "metadata": {},
   "source": [
    "We have **1441** unique notes in our dataset. Let's get a count of each of these notes."
   ]
  },
  {
   "cell_type": "code",
   "execution_count": 343,
   "metadata": {},
   "outputs": [],
   "source": [
    "def get_count(label_count):\n",
    "    \n",
    "    labels = label_count.index.tolist()\n",
    "    count = {}\n",
    "    \n",
    "    if 'women' in labels:\n",
    "        count['women'] = label_count['women']\n",
    "    else:\n",
    "        count['women'] = 0\n",
    "        \n",
    "    if 'men' in labels:\n",
    "        count['men'] = label_count['men']\n",
    "    else:\n",
    "        count['men'] = 0\n",
    "\n",
    "    if 'unisex' in labels:\n",
    "        count['unisex'] = label_count['unisex']\n",
    "    else:\n",
    "        count['unisex'] = 0\n",
    "    \n",
    "    return count"
   ]
  },
  {
   "cell_type": "code",
   "execution_count": 344,
   "metadata": {},
   "outputs": [],
   "source": [
    "women_count= []\n",
    "men_count= []\n",
    "unisex_count= []\n",
    "\n",
    "for note in notes_set:\n",
    "    label_count = get_count(df.loc[df.notes_list.map(lambda x: True if note in x else False), 'label'].value_counts())\n",
    "    women_count.append(label_count['women'])\n",
    "    men_count.append(label_count['men'])\n",
    "    unisex_count.append(label_count['unisex'])\n",
    "\n",
    "note_count = pd.DataFrame({'note': list(notes_set), 'women': women_count, 'men': men_count, 'unisex': unisex_count})\n",
    "note_count ['total'] = note_count[['women', 'men', 'unisex']].sum(axis=1)\n",
    "note_count = note_count.sort_values(by='total', ascending=False).reset_index(drop=True)\n",
    "\n",
    "#     plt.figure(figsize=(10,5))\n",
    "#     sns.countplot(x=subset_df.gender, hue=subset_df['label'])\n",
    "#     plt.title('Perfumes with '+ note + ' grouped by gender')  \n",
    "#     plt.xlabel('Marketed Gender')\n",
    "#     plt.show();"
   ]
  },
  {
   "cell_type": "markdown",
   "metadata": {},
   "source": [
    "We cannot process these many notes. Let's only consider the notes that appear in 100 or more perfumes."
   ]
  },
  {
   "cell_type": "code",
   "execution_count": 357,
   "metadata": {},
   "outputs": [],
   "source": [
    "#final_notes = note_count.iloc[0:150,:]\n",
    "final_notes = note_count[note_count.total >= 100]"
   ]
  },
  {
   "cell_type": "code",
   "execution_count": 358,
   "metadata": {},
   "outputs": [
    {
     "data": {
      "text/plain": [
       "119"
      ]
     },
     "execution_count": 358,
     "metadata": {},
     "output_type": "execute_result"
    }
   ],
   "source": [
    "final_notes.shape[0]"
   ]
  },
  {
   "cell_type": "markdown",
   "metadata": {},
   "source": [
    "So we have **299** distinct notes that appear in 100 perfumes or more."
   ]
  },
  {
   "cell_type": "code",
   "execution_count": 359,
   "metadata": {},
   "outputs": [
    {
     "data": {
      "text/html": [
       "<div>\n",
       "<style scoped>\n",
       "    .dataframe tbody tr th:only-of-type {\n",
       "        vertical-align: middle;\n",
       "    }\n",
       "\n",
       "    .dataframe tbody tr th {\n",
       "        vertical-align: top;\n",
       "    }\n",
       "\n",
       "    .dataframe thead th {\n",
       "        text-align: right;\n",
       "    }\n",
       "</style>\n",
       "<table border=\"1\" class=\"dataframe\">\n",
       "  <thead>\n",
       "    <tr style=\"text-align: right;\">\n",
       "      <th></th>\n",
       "      <th>note</th>\n",
       "      <th>women</th>\n",
       "      <th>men</th>\n",
       "      <th>unisex</th>\n",
       "      <th>total</th>\n",
       "    </tr>\n",
       "  </thead>\n",
       "  <tbody>\n",
       "    <tr>\n",
       "      <th>116</th>\n",
       "      <td>Orris</td>\n",
       "      <td>292</td>\n",
       "      <td>125</td>\n",
       "      <td>122</td>\n",
       "      <td>539</td>\n",
       "    </tr>\n",
       "    <tr>\n",
       "      <th>117</th>\n",
       "      <td>Frangipani</td>\n",
       "      <td>400</td>\n",
       "      <td>37</td>\n",
       "      <td>91</td>\n",
       "      <td>528</td>\n",
       "    </tr>\n",
       "    <tr>\n",
       "      <th>118</th>\n",
       "      <td>Blackberry</td>\n",
       "      <td>346</td>\n",
       "      <td>32</td>\n",
       "      <td>126</td>\n",
       "      <td>504</td>\n",
       "    </tr>\n",
       "  </tbody>\n",
       "</table>\n",
       "</div>"
      ],
      "text/plain": [
       "           note  women  men  unisex  total\n",
       "116       Orris    292  125     122    539\n",
       "117  Frangipani    400   37      91    528\n",
       "118  Blackberry    346   32     126    504"
      ]
     },
     "execution_count": 359,
     "metadata": {},
     "output_type": "execute_result"
    }
   ],
   "source": [
    "final_notes.tail(3)"
   ]
  },
  {
   "cell_type": "code",
   "execution_count": 360,
   "metadata": {},
   "outputs": [
    {
     "data": {
      "text/html": [
       "<div>\n",
       "<style scoped>\n",
       "    .dataframe tbody tr th:only-of-type {\n",
       "        vertical-align: middle;\n",
       "    }\n",
       "\n",
       "    .dataframe tbody tr th {\n",
       "        vertical-align: top;\n",
       "    }\n",
       "\n",
       "    .dataframe thead th {\n",
       "        text-align: right;\n",
       "    }\n",
       "</style>\n",
       "<table border=\"1\" class=\"dataframe\">\n",
       "  <thead>\n",
       "    <tr style=\"text-align: right;\">\n",
       "      <th></th>\n",
       "      <th>note</th>\n",
       "      <th>women</th>\n",
       "      <th>men</th>\n",
       "      <th>unisex</th>\n",
       "      <th>total</th>\n",
       "    </tr>\n",
       "  </thead>\n",
       "  <tbody>\n",
       "    <tr>\n",
       "      <th>0</th>\n",
       "      <td>Musk</td>\n",
       "      <td>9910</td>\n",
       "      <td>4084</td>\n",
       "      <td>4830</td>\n",
       "      <td>18824</td>\n",
       "    </tr>\n",
       "    <tr>\n",
       "      <th>1</th>\n",
       "      <td>Sandalwood</td>\n",
       "      <td>7050</td>\n",
       "      <td>3313</td>\n",
       "      <td>3421</td>\n",
       "      <td>13784</td>\n",
       "    </tr>\n",
       "    <tr>\n",
       "      <th>2</th>\n",
       "      <td>Jasmine</td>\n",
       "      <td>8010</td>\n",
       "      <td>2028</td>\n",
       "      <td>3415</td>\n",
       "      <td>13453</td>\n",
       "    </tr>\n",
       "    <tr>\n",
       "      <th>3</th>\n",
       "      <td>Amber</td>\n",
       "      <td>6180</td>\n",
       "      <td>3651</td>\n",
       "      <td>3484</td>\n",
       "      <td>13315</td>\n",
       "    </tr>\n",
       "    <tr>\n",
       "      <th>4</th>\n",
       "      <td>Patchouli</td>\n",
       "      <td>4862</td>\n",
       "      <td>3625</td>\n",
       "      <td>3241</td>\n",
       "      <td>11728</td>\n",
       "    </tr>\n",
       "    <tr>\n",
       "      <th>5</th>\n",
       "      <td>Rose</td>\n",
       "      <td>6626</td>\n",
       "      <td>1548</td>\n",
       "      <td>2732</td>\n",
       "      <td>10906</td>\n",
       "    </tr>\n",
       "    <tr>\n",
       "      <th>6</th>\n",
       "      <td>Vanilla</td>\n",
       "      <td>5838</td>\n",
       "      <td>1861</td>\n",
       "      <td>2954</td>\n",
       "      <td>10653</td>\n",
       "    </tr>\n",
       "    <tr>\n",
       "      <th>7</th>\n",
       "      <td>Cedar</td>\n",
       "      <td>3392</td>\n",
       "      <td>3099</td>\n",
       "      <td>2711</td>\n",
       "      <td>9202</td>\n",
       "    </tr>\n",
       "    <tr>\n",
       "      <th>8</th>\n",
       "      <td>Bergamot</td>\n",
       "      <td>3264</td>\n",
       "      <td>2146</td>\n",
       "      <td>1678</td>\n",
       "      <td>7088</td>\n",
       "    </tr>\n",
       "    <tr>\n",
       "      <th>9</th>\n",
       "      <td>Vetiver</td>\n",
       "      <td>2104</td>\n",
       "      <td>2474</td>\n",
       "      <td>1710</td>\n",
       "      <td>6288</td>\n",
       "    </tr>\n",
       "  </tbody>\n",
       "</table>\n",
       "</div>"
      ],
      "text/plain": [
       "         note  women   men  unisex  total\n",
       "0        Musk   9910  4084    4830  18824\n",
       "1  Sandalwood   7050  3313    3421  13784\n",
       "2     Jasmine   8010  2028    3415  13453\n",
       "3       Amber   6180  3651    3484  13315\n",
       "4   Patchouli   4862  3625    3241  11728\n",
       "5        Rose   6626  1548    2732  10906\n",
       "6     Vanilla   5838  1861    2954  10653\n",
       "7       Cedar   3392  3099    2711   9202\n",
       "8    Bergamot   3264  2146    1678   7088\n",
       "9     Vetiver   2104  2474    1710   6288"
      ]
     },
     "execution_count": 360,
     "metadata": {},
     "output_type": "execute_result"
    }
   ],
   "source": [
    "final_notes.head(10)"
   ]
  },
  {
   "cell_type": "markdown",
   "metadata": {},
   "source": [
    "**Musk** is the clear favourite, appearing in 18000+ perfumes. The top 10 notes appear in 6000 perfumes or more."
   ]
  },
  {
   "cell_type": "markdown",
   "metadata": {},
   "source": [
    "#### 3.5.2.3 Visualize top 25 Notes by gender<a id='3.5.2.3_Top_25_gender'></a>"
   ]
  },
  {
   "cell_type": "markdown",
   "metadata": {},
   "source": [
    "Let's visualize top 25."
   ]
  },
  {
   "cell_type": "code",
   "execution_count": 362,
   "metadata": {},
   "outputs": [
    {
     "data": {
      "image/png": "[encoded data removed]",
      "text/plain": [
       "<Figure size 864x576 with 1 Axes>"
      ]
     },
     "metadata": {
      "needs_background": "light"
     },
     "output_type": "display_data"
    }
   ],
   "source": [
    "final_notes.iloc[0:25, 0:4].set_index('note').plot(kind='bar', stacked=True, figsize=(12,8), colormap='winter')\n",
    "plt.title('Top 25 Notes in Perfumes grouped by gender')  \n",
    "plt.xticks(rotation=80)\n",
    "plt.xlabel('Note')\n",
    "plt.savefig('top25_notes_by_gender.png');\n",
    "plt.show();"
   ]
  },
  {
   "cell_type": "markdown",
   "metadata": {},
   "source": [
    "There are some notes, like 'Musk' which is present more in Women's prefumes, while we also have some notes like 'Cardamom' that appear more in men's perfumes.\n",
    "\n",
    "So there is a clear preference for specific notes by a gender."
   ]
  },
  {
   "cell_type": "markdown",
   "metadata": {},
   "source": [
    "#### 3.5.2.4 Note Preference per gender<a id='3.5.2.4_Note_per_gender'></a>"
   ]
  },
  {
   "cell_type": "markdown",
   "metadata": {},
   "source": [
    "Are there some notes that appear more in men's perfumes than in female perfumes?"
   ]
  },
  {
   "cell_type": "code",
   "execution_count": 365,
   "metadata": {},
   "outputs": [
    {
     "data": {
      "text/html": [
       "<div>\n",
       "<style scoped>\n",
       "    .dataframe tbody tr th:only-of-type {\n",
       "        vertical-align: middle;\n",
       "    }\n",
       "\n",
       "    .dataframe tbody tr th {\n",
       "        vertical-align: top;\n",
       "    }\n",
       "\n",
       "    .dataframe thead th {\n",
       "        text-align: right;\n",
       "    }\n",
       "</style>\n",
       "<table border=\"1\" class=\"dataframe\">\n",
       "  <thead>\n",
       "    <tr style=\"text-align: right;\">\n",
       "      <th></th>\n",
       "      <th>note</th>\n",
       "      <th>women</th>\n",
       "      <th>men</th>\n",
       "      <th>unisex</th>\n",
       "      <th>total</th>\n",
       "    </tr>\n",
       "  </thead>\n",
       "  <tbody>\n",
       "    <tr>\n",
       "      <th>9</th>\n",
       "      <td>Vetiver</td>\n",
       "      <td>2104</td>\n",
       "      <td>2474</td>\n",
       "      <td>1710</td>\n",
       "      <td>6288</td>\n",
       "    </tr>\n",
       "    <tr>\n",
       "      <th>14</th>\n",
       "      <td>Lavender</td>\n",
       "      <td>716</td>\n",
       "      <td>2114</td>\n",
       "      <td>1090</td>\n",
       "      <td>3920</td>\n",
       "    </tr>\n",
       "    <tr>\n",
       "      <th>19</th>\n",
       "      <td>Oakmoss</td>\n",
       "      <td>1230</td>\n",
       "      <td>1237</td>\n",
       "      <td>939</td>\n",
       "      <td>3406</td>\n",
       "    </tr>\n",
       "    <tr>\n",
       "      <th>20</th>\n",
       "      <td>Leather</td>\n",
       "      <td>761</td>\n",
       "      <td>1567</td>\n",
       "      <td>929</td>\n",
       "      <td>3257</td>\n",
       "    </tr>\n",
       "    <tr>\n",
       "      <th>21</th>\n",
       "      <td>Cardamom</td>\n",
       "      <td>830</td>\n",
       "      <td>1498</td>\n",
       "      <td>826</td>\n",
       "      <td>3154</td>\n",
       "    </tr>\n",
       "    <tr>\n",
       "      <th>22</th>\n",
       "      <td>Geranium</td>\n",
       "      <td>827</td>\n",
       "      <td>1437</td>\n",
       "      <td>849</td>\n",
       "      <td>3113</td>\n",
       "    </tr>\n",
       "    <tr>\n",
       "      <th>27</th>\n",
       "      <td>Agarwood Oud</td>\n",
       "      <td>660</td>\n",
       "      <td>1095</td>\n",
       "      <td>829</td>\n",
       "      <td>2584</td>\n",
       "    </tr>\n",
       "    <tr>\n",
       "      <th>28</th>\n",
       "      <td>Cinnamon</td>\n",
       "      <td>901</td>\n",
       "      <td>990</td>\n",
       "      <td>664</td>\n",
       "      <td>2555</td>\n",
       "    </tr>\n",
       "    <tr>\n",
       "      <th>32</th>\n",
       "      <td>Nutmeg</td>\n",
       "      <td>549</td>\n",
       "      <td>1161</td>\n",
       "      <td>634</td>\n",
       "      <td>2344</td>\n",
       "    </tr>\n",
       "    <tr>\n",
       "      <th>37</th>\n",
       "      <td>Labdanum</td>\n",
       "      <td>695</td>\n",
       "      <td>786</td>\n",
       "      <td>689</td>\n",
       "      <td>2170</td>\n",
       "    </tr>\n",
       "    <tr>\n",
       "      <th>39</th>\n",
       "      <td>Ginger</td>\n",
       "      <td>689</td>\n",
       "      <td>697</td>\n",
       "      <td>508</td>\n",
       "      <td>1894</td>\n",
       "    </tr>\n",
       "    <tr>\n",
       "      <th>40</th>\n",
       "      <td>Pepper</td>\n",
       "      <td>588</td>\n",
       "      <td>792</td>\n",
       "      <td>482</td>\n",
       "      <td>1862</td>\n",
       "    </tr>\n",
       "    <tr>\n",
       "      <th>45</th>\n",
       "      <td>Mint</td>\n",
       "      <td>471</td>\n",
       "      <td>779</td>\n",
       "      <td>508</td>\n",
       "      <td>1758</td>\n",
       "    </tr>\n",
       "    <tr>\n",
       "      <th>47</th>\n",
       "      <td>Saffron</td>\n",
       "      <td>476</td>\n",
       "      <td>671</td>\n",
       "      <td>519</td>\n",
       "      <td>1666</td>\n",
       "    </tr>\n",
       "    <tr>\n",
       "      <th>49</th>\n",
       "      <td>Coriander</td>\n",
       "      <td>498</td>\n",
       "      <td>715</td>\n",
       "      <td>410</td>\n",
       "      <td>1623</td>\n",
       "    </tr>\n",
       "    <tr>\n",
       "      <th>51</th>\n",
       "      <td>Ambergris</td>\n",
       "      <td>519</td>\n",
       "      <td>548</td>\n",
       "      <td>454</td>\n",
       "      <td>1521</td>\n",
       "    </tr>\n",
       "    <tr>\n",
       "      <th>54</th>\n",
       "      <td>Guaiac Wood</td>\n",
       "      <td>362</td>\n",
       "      <td>582</td>\n",
       "      <td>443</td>\n",
       "      <td>1387</td>\n",
       "    </tr>\n",
       "    <tr>\n",
       "      <th>57</th>\n",
       "      <td>Tobacco</td>\n",
       "      <td>299</td>\n",
       "      <td>546</td>\n",
       "      <td>469</td>\n",
       "      <td>1314</td>\n",
       "    </tr>\n",
       "    <tr>\n",
       "      <th>61</th>\n",
       "      <td>Basil</td>\n",
       "      <td>290</td>\n",
       "      <td>625</td>\n",
       "      <td>319</td>\n",
       "      <td>1234</td>\n",
       "    </tr>\n",
       "    <tr>\n",
       "      <th>62</th>\n",
       "      <td>Sage</td>\n",
       "      <td>200</td>\n",
       "      <td>677</td>\n",
       "      <td>348</td>\n",
       "      <td>1225</td>\n",
       "    </tr>\n",
       "    <tr>\n",
       "      <th>65</th>\n",
       "      <td>Black Pepper</td>\n",
       "      <td>301</td>\n",
       "      <td>515</td>\n",
       "      <td>376</td>\n",
       "      <td>1192</td>\n",
       "    </tr>\n",
       "    <tr>\n",
       "      <th>66</th>\n",
       "      <td>Lime</td>\n",
       "      <td>400</td>\n",
       "      <td>428</td>\n",
       "      <td>354</td>\n",
       "      <td>1182</td>\n",
       "    </tr>\n",
       "    <tr>\n",
       "      <th>67</th>\n",
       "      <td>Rosemary</td>\n",
       "      <td>204</td>\n",
       "      <td>561</td>\n",
       "      <td>343</td>\n",
       "      <td>1108</td>\n",
       "    </tr>\n",
       "    <tr>\n",
       "      <th>72</th>\n",
       "      <td>Olibanum</td>\n",
       "      <td>356</td>\n",
       "      <td>397</td>\n",
       "      <td>338</td>\n",
       "      <td>1091</td>\n",
       "    </tr>\n",
       "    <tr>\n",
       "      <th>83</th>\n",
       "      <td>Clary Sage</td>\n",
       "      <td>171</td>\n",
       "      <td>467</td>\n",
       "      <td>210</td>\n",
       "      <td>848</td>\n",
       "    </tr>\n",
       "    <tr>\n",
       "      <th>87</th>\n",
       "      <td>Cypress</td>\n",
       "      <td>211</td>\n",
       "      <td>397</td>\n",
       "      <td>210</td>\n",
       "      <td>818</td>\n",
       "    </tr>\n",
       "    <tr>\n",
       "      <th>88</th>\n",
       "      <td>Artemisia</td>\n",
       "      <td>209</td>\n",
       "      <td>374</td>\n",
       "      <td>229</td>\n",
       "      <td>812</td>\n",
       "    </tr>\n",
       "    <tr>\n",
       "      <th>96</th>\n",
       "      <td>Juniper</td>\n",
       "      <td>158</td>\n",
       "      <td>338</td>\n",
       "      <td>186</td>\n",
       "      <td>682</td>\n",
       "    </tr>\n",
       "    <tr>\n",
       "      <th>106</th>\n",
       "      <td>Thyme</td>\n",
       "      <td>144</td>\n",
       "      <td>268</td>\n",
       "      <td>197</td>\n",
       "      <td>609</td>\n",
       "    </tr>\n",
       "  </tbody>\n",
       "</table>\n",
       "</div>"
      ],
      "text/plain": [
       "             note  women   men  unisex  total\n",
       "9         Vetiver   2104  2474    1710   6288\n",
       "14       Lavender    716  2114    1090   3920\n",
       "19        Oakmoss   1230  1237     939   3406\n",
       "20        Leather    761  1567     929   3257\n",
       "21       Cardamom    830  1498     826   3154\n",
       "22       Geranium    827  1437     849   3113\n",
       "27   Agarwood Oud    660  1095     829   2584\n",
       "28       Cinnamon    901   990     664   2555\n",
       "32         Nutmeg    549  1161     634   2344\n",
       "37       Labdanum    695   786     689   2170\n",
       "39         Ginger    689   697     508   1894\n",
       "40         Pepper    588   792     482   1862\n",
       "45           Mint    471   779     508   1758\n",
       "47        Saffron    476   671     519   1666\n",
       "49      Coriander    498   715     410   1623\n",
       "51      Ambergris    519   548     454   1521\n",
       "54    Guaiac Wood    362   582     443   1387\n",
       "57        Tobacco    299   546     469   1314\n",
       "61          Basil    290   625     319   1234\n",
       "62           Sage    200   677     348   1225\n",
       "65   Black Pepper    301   515     376   1192\n",
       "66           Lime    400   428     354   1182\n",
       "67       Rosemary    204   561     343   1108\n",
       "72       Olibanum    356   397     338   1091\n",
       "83     Clary Sage    171   467     210    848\n",
       "87        Cypress    211   397     210    818\n",
       "88      Artemisia    209   374     229    812\n",
       "96        Juniper    158   338     186    682\n",
       "106         Thyme    144   268     197    609"
      ]
     },
     "execution_count": 365,
     "metadata": {},
     "output_type": "execute_result"
    }
   ],
   "source": [
    "final_notes.query('men > women and men > unisex')"
   ]
  },
  {
   "cell_type": "markdown",
   "metadata": {},
   "source": [
    "There are only 30 notes that appear more in men's perfumes than in female perfumes."
   ]
  },
  {
   "cell_type": "markdown",
   "metadata": {},
   "source": [
    "## 3.6 Save File<a id='3.7_Save File'></a>"
   ]
  },
  {
   "cell_type": "markdown",
   "metadata": {},
   "source": [
    "We now have two datasets that contain the details we need. Let's clean them up to have only relevant details."
   ]
  },
  {
   "cell_type": "code",
   "execution_count": 295,
   "metadata": {},
   "outputs": [
    {
     "data": {
      "text/plain": [
       "Index(['title', 'notes_1', 'notes_2', 'notes_3', 'notes_4', 'notes_5',\n",
       "       'notes_6', 'notes_7', 'notes_8', 'notes_9', 'notes_10', 'notes_11',\n",
       "       'notes_12', 'notes_13', 'notes_14', 'notes_15', 'notes_16', 'notes_17',\n",
       "       'notes_18', 'notes_19', 'notes_20', 'label', 'gender', 'notes',\n",
       "       'top_notes', 'middle_notes', 'base_notes', 'notes_list',\n",
       "       'top_notes_list', 'middle_notes_list', 'base_notes_list'],\n",
       "      dtype='object')"
      ]
     },
     "execution_count": 295,
     "metadata": {},
     "output_type": "execute_result"
    }
   ],
   "source": [
    "df.columns"
   ]
  },
  {
   "cell_type": "code",
   "execution_count": 296,
   "metadata": {},
   "outputs": [],
   "source": [
    "final_df = df.drop(columns=['notes_1', 'notes_2', 'notes_3', 'notes_4', 'notes_5',\n",
    "       'notes_6', 'notes_7', 'notes_8', 'notes_9', 'notes_10', 'notes_11',\n",
    "       'notes_12', 'notes_13', 'notes_14', 'notes_15', 'notes_16', 'notes_17',\n",
    "       'notes_18', 'notes_19', 'notes_20', 'notes_list', 'label'])"
   ]
  },
  {
   "cell_type": "code",
   "execution_count": 297,
   "metadata": {},
   "outputs": [
    {
     "data": {
      "text/plain": [
       "Index(['title', 'gender', 'notes', 'top_notes', 'middle_notes', 'base_notes',\n",
       "       'top_notes_list', 'middle_notes_list', 'base_notes_list'],\n",
       "      dtype='object')"
      ]
     },
     "execution_count": 297,
     "metadata": {},
     "output_type": "execute_result"
    }
   ],
   "source": [
    "final_df.columns"
   ]
  },
  {
   "cell_type": "code",
   "execution_count": 298,
   "metadata": {},
   "outputs": [
    {
     "data": {
      "text/plain": [
       "Index(['title', 'gender', 'notes', 'top_notes', 'middle_notes', 'base_notes',\n",
       "       'top_notes_list', 'middle_notes_list', 'base_notes_list', 'label'],\n",
       "      dtype='object')"
      ]
     },
     "execution_count": 298,
     "metadata": {},
     "output_type": "execute_result"
    }
   ],
   "source": [
    "final_df['label'] = df['label']\n",
    "final_df.columns"
   ]
  },
  {
   "cell_type": "code",
   "execution_count": 299,
   "metadata": {},
   "outputs": [
    {
     "data": {
      "text/plain": [
       "Index(['note', 'women', 'men', 'unisex', 'total'], dtype='object')"
      ]
     },
     "execution_count": 299,
     "metadata": {},
     "output_type": "execute_result"
    }
   ],
   "source": [
    "final_notes.columns"
   ]
  },
  {
   "cell_type": "markdown",
   "metadata": {},
   "source": [
    "The datasets are ready to be saved."
   ]
  },
  {
   "cell_type": "code",
   "execution_count": 300,
   "metadata": {},
   "outputs": [],
   "source": [
    "datapath = '../data/interim/'\n",
    "datapath_perfumedata = os.path.join(datapath, 'perfume_data_step3_features.csv')\n",
    "if not os.path.exists(datapath_perfumedata):\n",
    "   final_df.to_csv(datapath_perfumedata, index=False)"
   ]
  },
  {
   "cell_type": "markdown",
   "metadata": {},
   "source": [
    "Let's also save the `Notes` information we collected as a separate csv file."
   ]
  },
  {
   "cell_type": "code",
   "execution_count": 301,
   "metadata": {},
   "outputs": [],
   "source": [
    "datapath_perfumedata = os.path.join(datapath, 'perfume_notes_columns.csv')\n",
    "if not os.path.exists(datapath_perfumedata):\n",
    "    final_notes.to_csv(datapath_perfumedata, index=False)"
   ]
  },
  {
   "cell_type": "markdown",
   "metadata": {},
   "source": [
    "## 3.7 Summary<a id='3.7_Summary'></a>"
   ]
  },
  {
   "cell_type": "markdown",
   "metadata": {},
   "source": [
    "We started off with a dataset which had details about perfumes, mainly the notes of a perfume. We wish to predict the gender that will prefer a perfume given the perfume notes that make up the perfume.\n",
    "\n",
    "For this we did the following.\n",
    "\n",
    "1. Retrieved `gender` information from the `title` of a perfume.\n",
    "2. Coallated notes into Top/Middle/Base columns\n",
    "3. Identified all distinct `Notes` in our dataset - 1440.\n",
    "4. Found the count of each `Note` in our dataset along with the count in a male/female perfume. This helped us to identify the most commonly used `Notes` in perfumes.\n",
    "5. Picked all `Notes` that appear in 100 or more perfumes - we have **299** such `Notes`.\n",
    "\n",
    "We can now use these datasets and proceed to pre-processing step."
   ]
  }
 ],
 "metadata": {
  "kernelspec": {
   "display_name": "Python 3",
   "language": "python",
   "name": "python3"
  },
  "language_info": {
   "codemirror_mode": {
    "name": "ipython",
    "version": 3
   },
   "file_extension": ".py",
   "mimetype": "text/x-python",
   "name": "python",
   "nbconvert_exporter": "python",
   "pygments_lexer": "ipython3",
   "version": "3.7.6"
  }
 },
 "nbformat": 4,
 "nbformat_minor": 4
}
