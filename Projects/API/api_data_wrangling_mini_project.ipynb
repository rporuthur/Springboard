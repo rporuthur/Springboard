{
 "cells": [
  {
   "cell_type": "markdown",
   "metadata": {},
   "source": [
    "This exercise will require you to pull some data from the Qunadl API. Qaundl is currently the most widely used aggregator of financial market data."
   ]
  },
  {
   "cell_type": "markdown",
   "metadata": {},
   "source": [
    "As a first step, you will need to register a free account on the http://www.quandl.com website."
   ]
  },
  {
   "cell_type": "markdown",
   "metadata": {},
   "source": [
    "After you register, you will be provided with a unique API key, that you should store:"
   ]
  },
  {
   "cell_type": "code",
   "execution_count": 102,
   "metadata": {},
   "outputs": [],
   "source": [
    "# To print all outputs in a cell without using a print() funciton\n",
    "\n",
    "from IPython.core.interactiveshell import InteractiveShell  \n",
    "InteractiveShell.ast_node_interactivity = \"all\"\n",
    "\n",
    "# To print only the last statement\n",
    "#InteractiveShell.ast_node_interactivity = \"last_expr\""
   ]
  },
  {
   "cell_type": "code",
   "execution_count": 103,
   "metadata": {},
   "outputs": [],
   "source": [
    "# Store the API key as a string - according to PEP8, constants are always named in all upper case\n",
    "API_KEY = 'Dummy'"
   ]
  },
  {
   "cell_type": "markdown",
   "metadata": {},
   "source": [
    "Qaundl has a large number of data sources, but, unfortunately, most of them require a Premium subscription. Still, there are also a good number of free datasets."
   ]
  },
  {
   "cell_type": "markdown",
   "metadata": {},
   "source": [
    "For this mini project, we will focus on equities data from the Frankfurt Stock Exhange (FSE), which is available for free. We'll try and analyze the stock prices of a company called Carl Zeiss Meditec, which manufactures tools for eye examinations, as well as medical lasers for laser eye surgery: https://www.zeiss.com/meditec/int/home.html. The company is listed under the stock ticker AFX_X."
   ]
  },
  {
   "cell_type": "markdown",
   "metadata": {},
   "source": [
    "You can find the detailed Quandl API instructions here: https://docs.quandl.com/docs/time-series"
   ]
  },
  {
   "cell_type": "markdown",
   "metadata": {},
   "source": [
    "While there is a dedicated Python package for connecting to the Quandl API, we would prefer that you use the *requests* package, which can be easily downloaded using *pip* or *conda*. You can find the documentation for the package here: http://docs.python-requests.org/en/master/ "
   ]
  },
  {
   "cell_type": "markdown",
   "metadata": {},
   "source": [
    "Finally, apart from the *requests* package, you are encouraged to not use any third party Python packages, such as *pandas*, and instead focus on what's available in the Python Standard Library (the *collections* module might come in handy: https://pymotw.com/3/collections/ ).\n",
    "Also, since you won't have access to DataFrames, you are encouraged to us Python's native data structures - preferably dictionaries, though some questions can also be answered using lists.\n",
    "You can read more on these data structures here: https://docs.python.org/3/tutorial/datastructures.html"
   ]
  },
  {
   "cell_type": "markdown",
   "metadata": {},
   "source": [
    "Keep in mind that the JSON responses you will be getting from the API map almost one-to-one to Python's dictionaries. Unfortunately, they can be very nested, so make sure you read up on indexing dictionaries in the documentation provided above."
   ]
  },
  {
   "cell_type": "code",
   "execution_count": 104,
   "metadata": {},
   "outputs": [],
   "source": [
    "# First, import the relevant modules\n",
    "import requests\n"
   ]
  },
  {
   "cell_type": "code",
   "execution_count": 105,
   "metadata": {},
   "outputs": [],
   "source": [
    "# Now, call the Quandl API and pull out a small sample of the data (only one day) to get a glimpse\n",
    "# into the JSON structure that will be returned\n",
    "url = \"https://www.quandl.com/api/v3/datasets/FSE/AFX_X?start_date=2020-09-23&end_date=2020-09-23&api_key=\" + API_KEY\n",
    "\n",
    "r= requests.get(url)"
   ]
  },
  {
   "cell_type": "code",
   "execution_count": 106,
   "metadata": {},
   "outputs": [],
   "source": [
    "json_data = r.json()"
   ]
  },
  {
   "cell_type": "code",
   "execution_count": 107,
   "metadata": {},
   "outputs": [
    {
     "data": {
      "text/plain": [
       "{'dataset': {'id': 10095370,\n",
       "  'dataset_code': 'AFX_X',\n",
       "  'database_code': 'FSE',\n",
       "  'name': 'Carl Zeiss Meditec (AFX_X)',\n",
       "  'description': 'Stock Prices for Carl Zeiss Meditec (2020-09-10) from the Frankfurt Stock Exchange.<br><br>Trading System: Xetra<br><br>ISIN: DE0005313704',\n",
       "  'refreshed_at': '2020-09-24T22:16:14.348Z',\n",
       "  'newest_available_date': '2020-09-24',\n",
       "  'oldest_available_date': '2000-06-07',\n",
       "  'column_names': ['Date',\n",
       "   'Open',\n",
       "   'High',\n",
       "   'Low',\n",
       "   'Close',\n",
       "   'Change',\n",
       "   'Traded Volume',\n",
       "   'Turnover',\n",
       "   'Last Price of the Day',\n",
       "   'Daily Traded Units',\n",
       "   'Daily Turnover'],\n",
       "  'frequency': 'daily',\n",
       "  'type': 'Time Series',\n",
       "  'premium': False,\n",
       "  'limit': None,\n",
       "  'transform': None,\n",
       "  'column_index': None,\n",
       "  'start_date': '2020-09-23',\n",
       "  'end_date': '2020-09-23',\n",
       "  'data': [['2020-09-23',\n",
       "    101.1,\n",
       "    102.2,\n",
       "    100.4,\n",
       "    101.9,\n",
       "    None,\n",
       "    136285.0,\n",
       "    13863062.1,\n",
       "    None,\n",
       "    None,\n",
       "    None]],\n",
       "  'collapse': None,\n",
       "  'order': None,\n",
       "  'database_id': 6129}}"
      ]
     },
     "execution_count": 107,
     "metadata": {},
     "output_type": "execute_result"
    }
   ],
   "source": [
    "# Inspect the JSON structure of the object you created, and take note of how nested it is,\n",
    "# as well as the overall structure\n",
    "\n",
    "json_data "
   ]
  },
  {
   "cell_type": "code",
   "execution_count": 108,
   "metadata": {},
   "outputs": [
    {
     "name": "stdout",
     "output_type": "stream",
     "text": [
      "dict_keys(['dataset'])\n"
     ]
    }
   ],
   "source": [
    "# Checking out the number of keys\n",
    "print(json_data.keys())"
   ]
  },
  {
   "cell_type": "code",
   "execution_count": 109,
   "metadata": {},
   "outputs": [
    {
     "data": {
      "text/plain": [
       "dict_keys(['id', 'dataset_code', 'database_code', 'name', 'description', 'refreshed_at', 'newest_available_date', 'oldest_available_date', 'column_names', 'frequency', 'type', 'premium', 'limit', 'transform', 'column_index', 'start_date', 'end_date', 'data', 'collapse', 'order', 'database_id'])"
      ]
     },
     "execution_count": 109,
     "metadata": {},
     "output_type": "execute_result"
    }
   ],
   "source": [
    "# Data is contained in a nested dictionary. \n",
    "# What are the keys of the nested dictionary?\n",
    "json_data['dataset'].keys()"
   ]
  },
  {
   "cell_type": "code",
   "execution_count": 110,
   "metadata": {},
   "outputs": [
    {
     "data": {
      "text/plain": [
       "['Date',\n",
       " 'Open',\n",
       " 'High',\n",
       " 'Low',\n",
       " 'Close',\n",
       " 'Change',\n",
       " 'Traded Volume',\n",
       " 'Turnover',\n",
       " 'Last Price of the Day',\n",
       " 'Daily Traded Units',\n",
       " 'Daily Turnover']"
      ]
     },
     "execution_count": 110,
     "metadata": {},
     "output_type": "execute_result"
    },
    {
     "data": {
      "text/plain": [
       "[['2020-09-23',\n",
       "  101.1,\n",
       "  102.2,\n",
       "  100.4,\n",
       "  101.9,\n",
       "  None,\n",
       "  136285.0,\n",
       "  13863062.1,\n",
       "  None,\n",
       "  None,\n",
       "  None]]"
      ]
     },
     "execution_count": 110,
     "metadata": {},
     "output_type": "execute_result"
    },
    {
     "data": {
      "text/plain": [
       "['2020-09-23',\n",
       " 101.1,\n",
       " 102.2,\n",
       " 100.4,\n",
       " 101.9,\n",
       " None,\n",
       " 136285.0,\n",
       " 13863062.1,\n",
       " None,\n",
       " None,\n",
       " None]"
      ]
     },
     "execution_count": 110,
     "metadata": {},
     "output_type": "execute_result"
    }
   ],
   "source": [
    "# Let's check the data for specific keys\n",
    "json_data['dataset']['column_names']\n",
    "json_data['dataset']['data']\n",
    "json_data['dataset']['data'][0]"
   ]
  },
  {
   "cell_type": "code",
   "execution_count": 111,
   "metadata": {},
   "outputs": [
    {
     "name": "stdout",
     "output_type": "stream",
     "text": [
      "Date : 2020-09-23\n",
      "Open : 101.1\n",
      "High : 102.2\n",
      "Low : 100.4\n",
      "Close : 101.9\n",
      "Change : None\n",
      "Traded Volume : 136285.0\n",
      "Turnover : 13863062.1\n",
      "Last Price of the Day : None\n",
      "Daily Traded Units : None\n",
      "Daily Turnover : None\n"
     ]
    }
   ],
   "source": [
    "# Stock price data is encaspulated in the keys 'column_names' and 'data'\n",
    "# Let's make it accessible.\n",
    "stock_data = zip(json_data['dataset']['column_names'], json_data['dataset']['data'][0])\n",
    "\n",
    "for key,value in stock_data:\n",
    "    print(key, \":\", value)"
   ]
  },
  {
   "cell_type": "markdown",
   "metadata": {},
   "source": [
    "These are your tasks for this mini project:\n",
    "\n",
    "1. Collect data from the Franfurt Stock Exchange, for the ticker AFX_X, for the whole year 2017 (keep in mind that the date format is YYYY-MM-DD).\n",
    "2. Convert the returned JSON object into a Python dictionary.\n",
    "3. Calculate what the highest and lowest opening prices were for the stock in this period.\n",
    "4. What was the largest change in any one day (based on High and Low price)?\n",
    "5. What was the largest change between any two days (based on Closing Price)?\n",
    "6. What was the average daily trading volume during this year?\n",
    "7. (Optional) What was the median trading volume during this year. (Note: you may need to implement your own function for calculating the median.)"
   ]
  },
  {
   "cell_type": "markdown",
   "metadata": {},
   "source": [
    "#### 1. Collect data from the Franfurt Stock Exchange, for the ticker AFX_X, for the whole year 2017 (keep in mind that the date format is YYYY-MM-DD)."
   ]
  },
  {
   "cell_type": "code",
   "execution_count": 112,
   "metadata": {},
   "outputs": [],
   "source": [
    "# Calling the Quandl API to pull out 2017 Stock price data for AFX_X\n",
    "url = \"https://www.quandl.com/api/v3/datasets/FSE/AFX_X?start_date=2017-01-01&end_date=2017-12-31&api_key=\" + API_KEY\n",
    "\n",
    "r= requests.get(url)\n",
    "\n",
    "json_data = r.json()"
   ]
  },
  {
   "cell_type": "markdown",
   "metadata": {},
   "source": [
    "#### 2. Convert the returned JSON object into a Python dictionary."
   ]
  },
  {
   "cell_type": "code",
   "execution_count": 113,
   "metadata": {},
   "outputs": [
    {
     "data": {
      "text/plain": [
       "255"
      ]
     },
     "execution_count": 113,
     "metadata": {},
     "output_type": "execute_result"
    }
   ],
   "source": [
    "len(json_data['dataset']['data'])"
   ]
  },
  {
   "cell_type": "code",
   "execution_count": 114,
   "metadata": {},
   "outputs": [],
   "source": [
    "# Here are sample 5 data values\n",
    "#json_data['dataset']['data'][0:5]"
   ]
  },
  {
   "cell_type": "code",
   "execution_count": 115,
   "metadata": {},
   "outputs": [],
   "source": [
    "# Create a python dictionary with the 'Date' as key and other details as a nested dict\n",
    "\n",
    "stock_dict = {}\n",
    "col_names = json_data['dataset']['column_names']\n",
    "\n",
    "for i in range(0,len(json_data['dataset']['data'])):\n",
    "    stock_data = json_data['dataset']['data'][i]\n",
    "    #print(stock_data[0])\n",
    "    stock_dict[stock_data[0]] = dict(zip(col_names[1:], stock_data[1:]))"
   ]
  },
  {
   "cell_type": "code",
   "execution_count": 116,
   "metadata": {},
   "outputs": [
    {
     "data": {
      "text/plain": [
       "{'Open': 51.65,\n",
       " 'High': 51.82,\n",
       " 'Low': 51.43,\n",
       " 'Close': 51.6,\n",
       " 'Change': None,\n",
       " 'Traded Volume': 40660.0,\n",
       " 'Turnover': 2099024.0,\n",
       " 'Last Price of the Day': None,\n",
       " 'Daily Traded Units': None,\n",
       " 'Daily Turnover': None}"
      ]
     },
     "execution_count": 116,
     "metadata": {},
     "output_type": "execute_result"
    }
   ],
   "source": [
    "stock_dict['2017-12-28']"
   ]
  },
  {
   "cell_type": "markdown",
   "metadata": {},
   "source": [
    "#### 3. Calculate what the highest and lowest opening prices were for the stock in this period."
   ]
  },
  {
   "cell_type": "code",
   "execution_count": 117,
   "metadata": {},
   "outputs": [
    {
     "name": "stdout",
     "output_type": "stream",
     "text": [
      "2017-05-01\n",
      "2017-04-17\n",
      "2017-04-14\n"
     ]
    },
    {
     "data": {
      "text/plain": [
       "{None}"
      ]
     },
     "execution_count": 117,
     "metadata": {},
     "output_type": "execute_result"
    }
   ],
   "source": [
    "# Check for None values in 'Open' price\n",
    "{print(date) for date, price in stock_dict.items() if price['Open'] is None}"
   ]
  },
  {
   "cell_type": "code",
   "execution_count": 118,
   "metadata": {},
   "outputs": [],
   "source": [
    "# Set the value to 0.0 for 'None' values. We are changing the existing dict here.\n",
    "for value in stock_dict.values():\n",
    "    if value['Open'] is None:\n",
    "        value['Open'] = 0.0    \n",
    "\n",
    "# Set the value to 0.0 for 'None' values\n",
    "# Here we have to create a new dict\n",
    "#open_price_fixed = {date: (0.0 if price['Open'] is None else price['Open']) for date, price in stock_dict.items()}"
   ]
  },
  {
   "cell_type": "code",
   "execution_count": 119,
   "metadata": {},
   "outputs": [
    {
     "name": "stdout",
     "output_type": "stream",
     "text": [
      "Highest Opening Price is 53.11 on  2017-12-14\n"
     ]
    }
   ],
   "source": [
    "# Sort it on the 'High' price field in descending order\n",
    "sorted_stock_dict = sorted(stock_dict.items(), key=lambda x: x[1]['Open'], reverse=True)\n",
    "\n",
    "# Pick out the first tuple from this sorted dict\n",
    "# This will have the highest ptice\n",
    "(date, value_dict) = sorted_stock_dict[0]\n",
    "\n",
    "\n",
    "print(\"Highest Opening Price is\", value_dict['Open'], \"on \", date)"
   ]
  },
  {
   "cell_type": "code",
   "execution_count": 120,
   "metadata": {},
   "outputs": [
    {
     "name": "stdout",
     "output_type": "stream",
     "text": [
      "Lowest Opening Price is 34.0 on  2017-01-24\n"
     ]
    }
   ],
   "source": [
    "# Sort it on the 'Low' price field in ascending order\n",
    "sorted_stock_dict = sorted(stock_dict.items(), key=lambda x: x[1]['Open'])\n",
    "\n",
    "# Pick out the 4th tuple from this sorted dict. This is because we had reset 'None' as 0.0 for three days. \n",
    "# That cannot be considered as the lowest price. The actual lowest price will be available at the 4th element.\n",
    "(date, value_dict) = sorted_stock_dict[3]\n",
    "\n",
    "\n",
    "print(\"Lowest Opening Price is\", value_dict['Open'], \"on \", date)"
   ]
  },
  {
   "cell_type": "markdown",
   "metadata": {},
   "source": [
    "#### 4. What was the largest change in any one day (based on High and Low price)?"
   ]
  },
  {
   "cell_type": "code",
   "execution_count": 121,
   "metadata": {},
   "outputs": [
    {
     "data": {
      "text/plain": [
       "set()"
      ]
     },
     "execution_count": 121,
     "metadata": {},
     "output_type": "execute_result"
    },
    {
     "data": {
      "text/plain": [
       "set()"
      ]
     },
     "execution_count": 121,
     "metadata": {},
     "output_type": "execute_result"
    }
   ],
   "source": [
    "# Check for None values in 'High' price\n",
    "{print(date) for date, price in stock_dict.items() if price['High'] is None}\n",
    "\n",
    "\n",
    "# Check for None values in 'Low' price\n",
    "{print(date) for date, price in stock_dict.items() if price['Low'] is None}"
   ]
  },
  {
   "cell_type": "markdown",
   "metadata": {},
   "source": [
    "There are no null values."
   ]
  },
  {
   "cell_type": "code",
   "execution_count": 122,
   "metadata": {},
   "outputs": [],
   "source": [
    "# Calculate the datewise price change\n",
    "datwise_price_change = {}\n",
    "\n",
    "# This will create a dict with 'Date' as the key and the difference in `High' and 'Low' prices as the value\n",
    "for date, price in stock_dict.items():\n",
    "    datwise_price_change[date] = price['High'] - price['Low']\n"
   ]
  },
  {
   "cell_type": "code",
   "execution_count": 123,
   "metadata": {},
   "outputs": [
    {
     "name": "stdout",
     "output_type": "stream",
     "text": [
      "The largest change in 'High' and 'Low' price of 2.81  occured on  2017-05-11\n"
     ]
    }
   ],
   "source": [
    "# Sort the dict on values in descending order and pick the top value\n",
    "(largest_change_date, diff)=sorted(datwise_price_change.items(), key=lambda x: x[1], reverse=True)[0]\n",
    "\n",
    "print(\"The largest change in 'High' and 'Low' price of\", \"{0:.2f}\".format(diff), \" occured on \", largest_change_date)"
   ]
  },
  {
   "cell_type": "code",
   "execution_count": 124,
   "metadata": {},
   "outputs": [
    {
     "data": {
      "text/plain": [
       "46.06"
      ]
     },
     "execution_count": 124,
     "metadata": {},
     "output_type": "execute_result"
    },
    {
     "data": {
      "text/plain": [
       "43.25"
      ]
     },
     "execution_count": 124,
     "metadata": {},
     "output_type": "execute_result"
    }
   ],
   "source": [
    "# Let's validate this\n",
    "# Printing out the High and Low Price on the specified date.\n",
    "stock_dict[largest_change_date]['High']\n",
    "stock_dict[largest_change_date]['Low']"
   ]
  },
  {
   "cell_type": "markdown",
   "metadata": {},
   "source": [
    "#### 5. What was the largest change between any two days (based on Closing Price)?"
   ]
  },
  {
   "cell_type": "code",
   "execution_count": 126,
   "metadata": {},
   "outputs": [
    {
     "data": {
      "text/plain": [
       "[51.76, 51.6, 51.82, 51.32, 51.4]"
      ]
     },
     "execution_count": 126,
     "metadata": {},
     "output_type": "execute_result"
    }
   ],
   "source": [
    "# Get 'Close' price as a list\n",
    "datewise_close_price = [price['Close'] for date, price in stock_dict.items()]\n",
    "\n",
    "datewise_close_price[0:5]"
   ]
  },
  {
   "cell_type": "code",
   "execution_count": 127,
   "metadata": {},
   "outputs": [
    {
     "name": "stdout",
     "output_type": "stream",
     "text": [
      "The largest change between any two days (based on Closing Price) is  2.56\n"
     ]
    }
   ],
   "source": [
    "# Calculate the difference in price for two days\n",
    "change_across_days = []\n",
    "\n",
    "for i in range(1, len(datewise_close_price)):\n",
    "    change_across_days.append(datewise_close_price[i]- datewise_close_price[i-1])\n",
    "\n",
    "print(\"The largest change between any two days (based on Closing Price) is \", \"{0:.2f}\".format(max(change_across_days)))"
   ]
  },
  {
   "cell_type": "markdown",
   "metadata": {},
   "source": [
    "#### 6. What was the average daily trading volume during this year?"
   ]
  },
  {
   "cell_type": "code",
   "execution_count": 128,
   "metadata": {},
   "outputs": [
    {
     "name": "stdout",
     "output_type": "stream",
     "text": [
      "The Average Trading Volume for the year 2017 is  89124.34\n"
     ]
    }
   ],
   "source": [
    "# Fetch the 'Traded Volume' values from dict\n",
    "trading_vol = [price['Traded Volume'] for price in stock_dict.values()]\n",
    "\n",
    "avg_trading_vol = sum(trading_vol)/len(trading_vol)\n",
    "\n",
    "print(\"The Average Trading Volume for the year 2017 is \", \"{0:.2f}\".format(avg_trading_vol))"
   ]
  },
  {
   "cell_type": "markdown",
   "metadata": {},
   "source": [
    "#### 7. (Optional) What was the median trading volume during this year. (Note: you may need to implement your own function for calculating the median.)"
   ]
  },
  {
   "cell_type": "code",
   "execution_count": 129,
   "metadata": {},
   "outputs": [
    {
     "data": {
      "text/plain": [
       "[34640.0, 40660.0, 57452.0, 71165.0, 120649.0]"
      ]
     },
     "execution_count": 129,
     "metadata": {},
     "output_type": "execute_result"
    }
   ],
   "source": [
    "# Before Sorting\n",
    "trading_vol[0:5]"
   ]
  },
  {
   "cell_type": "code",
   "execution_count": 130,
   "metadata": {},
   "outputs": [
    {
     "data": {
      "text/plain": [
       "[45.0, 112.0, 290.0, 522.0, 587.0]"
      ]
     },
     "execution_count": 130,
     "metadata": {},
     "output_type": "execute_result"
    }
   ],
   "source": [
    "# Sort the Trading Volume \n",
    "trading_vol = sorted(trading_vol)\n",
    "\n",
    "# Afte sorting\n",
    "trading_vol[0:5]"
   ]
  },
  {
   "cell_type": "code",
   "execution_count": 131,
   "metadata": {},
   "outputs": [],
   "source": [
    "# Function to find the Median value of a list of numeric values\n",
    "def find_median(lst):\n",
    "    mid_index = len(lst) // 2 \n",
    "    if len(lst) % 2 != 0:\n",
    "        return lst[mid_index]\n",
    "    else:\n",
    "         return (lst[mid_index] + lst[mid_index-1])/2"
   ]
  },
  {
   "cell_type": "code",
   "execution_count": 133,
   "metadata": {},
   "outputs": [
    {
     "name": "stdout",
     "output_type": "stream",
     "text": [
      "Median Trading Volume for 2017 is  76286.0\n"
     ]
    }
   ],
   "source": [
    "# Print out the Median by calling the method.\n",
    "print(\"Median Trading Volume for 2017 is \", find_median(trading_vol))"
   ]
  }
 ],
 "metadata": {
  "kernelspec": {
   "display_name": "Python 3",
   "language": "python",
   "name": "python3"
  },
  "language_info": {
   "codemirror_mode": {
    "name": "ipython",
    "version": 3
   },
   "file_extension": ".py",
   "mimetype": "text/x-python",
   "name": "python",
   "nbconvert_exporter": "python",
   "pygments_lexer": "ipython3",
   "version": "3.7.6"
  }
 },
 "nbformat": 4,
 "nbformat_minor": 2
}
